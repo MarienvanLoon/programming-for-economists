{
 "cells": [
  {
   "cell_type": "markdown",
   "metadata": {},
   "source": [
    "# Example package dplyr"
   ]
  },
  {
   "cell_type": "markdown",
   "metadata": {},
   "source": [
    "## Introduction\n",
    "In this notebook, we will give an example of a calculation of a market power indicator in the hospital sector. These indicators are used in practice by competition agencies in the U.S., the U.K. and the Netherlands. In the lecture we have presented some context and background. In this notebook we will provide a very small dataset to construct the LOCI and the WTP-indicator, using the dplyr-commands that you have seen in the datacamp course."
   ]
  },
  {
   "cell_type": "markdown",
   "metadata": {},
   "source": [
    "First, we need the load the package dplyr and the data. We will call the dataset 'mm' (mm as an abbreviation of 'mircro markets'. Second, we have a look at the structure of the data. Zipcodes are the locations of the patients and the hospitals. Hospitals are the hospitals in our dataset and patients represent the number of patients that live in a particular zipcode and go to a particular hospital."
   ]
  },
  {
   "cell_type": "code",
   "execution_count": 4,
   "metadata": {
    "collapsed": false
   },
   "outputs": [
    {
     "name": "stdout",
     "output_type": "stream",
     "text": [
      "'data.frame':\t35 obs. of  4 variables:\n",
      " $ Zipcode : Factor w/ 7 levels \"A\",\"B\",\"C\",\"D\",..: 1 2 3 4 5 6 7 1 2 3 ...\n",
      " $ Hospital: Factor w/ 5 levels \"Boone\",\"Giant Health\",..: 3 3 3 3 3 3 3 2 2 2 ...\n",
      " $ Location: Factor w/ 4 levels \"A\",\"C\",\"E\",\"F\": 1 1 1 1 1 1 1 2 2 2 ...\n",
      " $ Patients: int  1222330 172018 63002 60333 3032 4584 0 101000 23201 506301 ...\n"
     ]
    }
   ],
   "source": [
    "library(dplyr)\n",
    "mm <- read.csv2(\"DataMoloch.csv\")\n",
    "str(mm)"
   ]
  },
  {
   "cell_type": "markdown",
   "metadata": {},
   "source": [
    "If you want to have a look at the dataset:"
   ]
  },
  {
   "cell_type": "code",
   "execution_count": 104,
   "metadata": {
    "collapsed": false
   },
   "outputs": [
    {
     "data": {
      "text/html": [
       "<table>\n",
       "<thead><tr><th></th><th scope=col>Zipcode</th><th scope=col>Hospital</th><th scope=col>Location</th><th scope=col>Patients</th></tr></thead>\n",
       "<tbody>\n",
       "\t<tr><th scope=row>1</th><td>A      </td><td>Moloch </td><td>A      </td><td>1222330</td></tr>\n",
       "\t<tr><th scope=row>2</th><td>B     </td><td>Moloch</td><td>A     </td><td>172018</td></tr>\n",
       "\t<tr><th scope=row>3</th><td>C     </td><td>Moloch</td><td>A     </td><td>63002 </td></tr>\n",
       "\t<tr><th scope=row>4</th><td>D     </td><td>Moloch</td><td>A     </td><td>60333 </td></tr>\n",
       "\t<tr><th scope=row>5</th><td>E     </td><td>Moloch</td><td>A     </td><td>3032  </td></tr>\n",
       "\t<tr><th scope=row>6</th><td>F     </td><td>Moloch</td><td>A     </td><td>4584  </td></tr>\n",
       "\t<tr><th scope=row>7</th><td>G     </td><td>Moloch</td><td>A     </td><td>0     </td></tr>\n",
       "\t<tr><th scope=row>8</th><td>A           </td><td>Giant Health</td><td>C           </td><td>101000      </td></tr>\n",
       "\t<tr><th scope=row>9</th><td>B           </td><td>Giant Health</td><td>C           </td><td>23201       </td></tr>\n",
       "\t<tr><th scope=row>10</th><td>C           </td><td>Giant Health</td><td>C           </td><td>506301      </td></tr>\n",
       "\t<tr><th scope=row>11</th><td>D           </td><td>Giant Health</td><td>C           </td><td>232         </td></tr>\n",
       "\t<tr><th scope=row>12</th><td>E           </td><td>Giant Health</td><td>C           </td><td>2187        </td></tr>\n",
       "\t<tr><th scope=row>13</th><td>F           </td><td>Giant Health</td><td>C           </td><td>3423        </td></tr>\n",
       "\t<tr><th scope=row>14</th><td>G           </td><td>Giant Health</td><td>C           </td><td>0           </td></tr>\n",
       "\t<tr><th scope=row>15</th><td>A          </td><td>Rose Garden</td><td>E          </td><td>23012      </td></tr>\n",
       "\t<tr><th scope=row>16</th><td>B          </td><td>Rose Garden</td><td>E          </td><td>4002       </td></tr>\n",
       "\t<tr><th scope=row>17</th><td>C          </td><td>Rose Garden</td><td>E          </td><td>4502       </td></tr>\n",
       "\t<tr><th scope=row>18</th><td>D          </td><td>Rose Garden</td><td>E          </td><td>402        </td></tr>\n",
       "\t<tr><th scope=row>19</th><td>E          </td><td>Rose Garden</td><td>E          </td><td>24232      </td></tr>\n",
       "\t<tr><th scope=row>20</th><td>F          </td><td>Rose Garden</td><td>E          </td><td>2088       </td></tr>\n",
       "\t<tr><th scope=row>21</th><td>G          </td><td>Rose Garden</td><td>E          </td><td>0          </td></tr>\n",
       "\t<tr><th scope=row>22</th><td>A    </td><td>Orbit</td><td>F    </td><td>1492 </td></tr>\n",
       "\t<tr><th scope=row>23</th><td>B    </td><td>Orbit</td><td>F    </td><td>13   </td></tr>\n",
       "\t<tr><th scope=row>24</th><td>C    </td><td>Orbit</td><td>F    </td><td>4333 </td></tr>\n",
       "\t<tr><th scope=row>25</th><td>D    </td><td>Orbit</td><td>F    </td><td>4502 </td></tr>\n",
       "\t<tr><th scope=row>26</th><td>E    </td><td>Orbit</td><td>F    </td><td>44   </td></tr>\n",
       "\t<tr><th scope=row>27</th><td>F    </td><td>Orbit</td><td>F    </td><td>29234</td></tr>\n",
       "\t<tr><th scope=row>28</th><td>G    </td><td>Orbit</td><td>F    </td><td>0    </td></tr>\n",
       "\t<tr><th scope=row>29</th><td>A    </td><td>Boone</td><td>A    </td><td>90000</td></tr>\n",
       "\t<tr><th scope=row>30</th><td>B    </td><td>Boone</td><td>A    </td><td>343  </td></tr>\n",
       "\t<tr><th scope=row>31</th><td>C    </td><td>Boone</td><td>A    </td><td>566  </td></tr>\n",
       "\t<tr><th scope=row>32</th><td>D    </td><td>Boone</td><td>A    </td><td>234  </td></tr>\n",
       "\t<tr><th scope=row>33</th><td>E    </td><td>Boone</td><td>A    </td><td>3    </td></tr>\n",
       "\t<tr><th scope=row>34</th><td>F    </td><td>Boone</td><td>A    </td><td>34   </td></tr>\n",
       "\t<tr><th scope=row>35</th><td>G    </td><td>Boone</td><td>A    </td><td>130  </td></tr>\n",
       "</tbody>\n",
       "</table>\n"
      ],
      "text/latex": [
       "\\begin{tabular}{r|llll}\n",
       "  & Zipcode & Hospital & Location & Patients\\\\\n",
       "\\hline\n",
       "\t1 & A       & Moloch  & A       & 1222330\\\\\n",
       "\t2 & B      & Moloch & A      & 172018\\\\\n",
       "\t3 & C      & Moloch & A      & 63002 \\\\\n",
       "\t4 & D      & Moloch & A      & 60333 \\\\\n",
       "\t5 & E      & Moloch & A      & 3032  \\\\\n",
       "\t6 & F      & Moloch & A      & 4584  \\\\\n",
       "\t7 & G      & Moloch & A      & 0     \\\\\n",
       "\t8 & A            & Giant Health & C            & 101000      \\\\\n",
       "\t9 & B            & Giant Health & C            & 23201       \\\\\n",
       "\t10 & C            & Giant Health & C            & 506301      \\\\\n",
       "\t11 & D            & Giant Health & C            & 232         \\\\\n",
       "\t12 & E            & Giant Health & C            & 2187        \\\\\n",
       "\t13 & F            & Giant Health & C            & 3423        \\\\\n",
       "\t14 & G            & Giant Health & C            & 0           \\\\\n",
       "\t15 & A           & Rose Garden & E           & 23012      \\\\\n",
       "\t16 & B           & Rose Garden & E           & 4002       \\\\\n",
       "\t17 & C           & Rose Garden & E           & 4502       \\\\\n",
       "\t18 & D           & Rose Garden & E           & 402        \\\\\n",
       "\t19 & E           & Rose Garden & E           & 24232      \\\\\n",
       "\t20 & F           & Rose Garden & E           & 2088       \\\\\n",
       "\t21 & G           & Rose Garden & E           & 0          \\\\\n",
       "\t22 & A     & Orbit & F     & 1492 \\\\\n",
       "\t23 & B     & Orbit & F     & 13   \\\\\n",
       "\t24 & C     & Orbit & F     & 4333 \\\\\n",
       "\t25 & D     & Orbit & F     & 4502 \\\\\n",
       "\t26 & E     & Orbit & F     & 44   \\\\\n",
       "\t27 & F     & Orbit & F     & 29234\\\\\n",
       "\t28 & G     & Orbit & F     & 0    \\\\\n",
       "\t29 & A     & Boone & A     & 90000\\\\\n",
       "\t30 & B     & Boone & A     & 343  \\\\\n",
       "\t31 & C     & Boone & A     & 566  \\\\\n",
       "\t32 & D     & Boone & A     & 234  \\\\\n",
       "\t33 & E     & Boone & A     & 3    \\\\\n",
       "\t34 & F     & Boone & A     & 34   \\\\\n",
       "\t35 & G     & Boone & A     & 130  \\\\\n",
       "\\end{tabular}\n"
      ],
      "text/plain": [
       "   Zipcode     Hospital Location Patients\n",
       "1        A       Moloch        A  1222330\n",
       "2        B       Moloch        A   172018\n",
       "3        C       Moloch        A    63002\n",
       "4        D       Moloch        A    60333\n",
       "5        E       Moloch        A     3032\n",
       "6        F       Moloch        A     4584\n",
       "7        G       Moloch        A        0\n",
       "8        A Giant Health        C   101000\n",
       "9        B Giant Health        C    23201\n",
       "10       C Giant Health        C   506301\n",
       "11       D Giant Health        C      232\n",
       "12       E Giant Health        C     2187\n",
       "13       F Giant Health        C     3423\n",
       "14       G Giant Health        C        0\n",
       "15       A  Rose Garden        E    23012\n",
       "16       B  Rose Garden        E     4002\n",
       "17       C  Rose Garden        E     4502\n",
       "18       D  Rose Garden        E      402\n",
       "19       E  Rose Garden        E    24232\n",
       "20       F  Rose Garden        E     2088\n",
       "21       G  Rose Garden        E        0\n",
       "22       A        Orbit        F     1492\n",
       "23       B        Orbit        F       13\n",
       "24       C        Orbit        F     4333\n",
       "25       D        Orbit        F     4502\n",
       "26       E        Orbit        F       44\n",
       "27       F        Orbit        F    29234\n",
       "28       G        Orbit        F        0\n",
       "29       A        Boone        A    90000\n",
       "30       B        Boone        A      343\n",
       "31       C        Boone        A      566\n",
       "32       D        Boone        A      234\n",
       "33       E        Boone        A        3\n",
       "34       F        Boone        A       34\n",
       "35       G        Boone        A      130"
      ]
     },
     "metadata": {},
     "output_type": "display_data"
    }
   ],
   "source": [
    "mm"
   ]
  },
  {
   "cell_type": "markdown",
   "metadata": {},
   "source": [
    "Now that we have our small dataset, we start to calculate the 'loci'."
   ]
  },
  {
   "cell_type": "markdown",
   "metadata": {},
   "source": [
    "## LOCI\n",
    "\n",
    "Gaynor and Vogt (2011) propose the use of the Logit Competition index (LOCI) to measure market power in the hospital market. The index is based on a weighted average of a hospital’s market share per micro-market. The construction of the competition index starts by modelling the demand with a choice model. The choice models include a utility function which, given characteristics of the consumer and hospital, depends on the utility that a patient derives from each hospital. The utility depends on both observable and non-observable consumer and hospital characteristics. With the logit choice model it is possible to calculate the probability that a specific consumer type will choose a specific hospital. Each group of patients with similar characteristics (e.g. zip-code, age, gender, diagnosis etc.) forms a micro market.\n",
    "\n",
    "Under a differentiated Bertrand competition model, the competition index (LOCI) of hospital $j$ for consumer type $t$ is given by \n",
    "$$    \\Lambda_{j}= \\displaystyle \\sum_t w_{tj}(1-s_{tj}) $$\n",
    "\n",
    "where the weights $w_{tj}$ are the relative importance of each consumer type\n",
    "$$    w_{tj}= \\frac{N_{t} s_{tj}}{\\displaystyle \\sum_t N_{t} s_{tj}}$$\n",
    "and $N_t$ is the number of consumers of the type $t$.\n",
    "\n",
    "The LOCI $\\Lambda_{j}$ is a measure of the competitiveness in the market. The index takes on values between 0 and 1, where  $\\Lambda = 0$ means that hospital $j$ is monopolist and $\\Lambda = 1$ means that the market is perfectly competitive.\n",
    "\n",
    "We interpret the LOCI as 1 minus the weighted market share. \n",
    "\n",
    "For our purposes, we are able to use  actual market shares with the advantage that all non-observable characteristics are implicitly taken into account. Alternatively, we could have used estimated market shares, with the advantage that all consumers are taken into account. \n"
   ]
  },
  {
   "cell_type": "markdown",
   "metadata": {},
   "source": [
    "### Calculation\n",
    "\n",
    "We will now start to calculate the LOCI, using the dplyr commands and the 'pipe'. As you remember from the datacamp course, you have to read %>% as 'then'. We will calculate 'w' first. 'w' measures how important a specific zipcode for a hospital is. We will calculate the w as the patients in a zipcode by the total number of patients for that hospital. To calculate the total number of patients per hospital we first have to use the command 'group_by'. Then we add a column with 'w'. Because we want to keep our dataset small, we round the values to the specified number of decimal places (default 0). \n",
    "\n",
    "Then we will calculate 's'. 's' is the marketshare of a hospital in a specific zipcode. We will calculate 's' as by dividing the number of patients of a hospital in a specific zipcode, by the total number of patients in that zipcode. To be able to calculate 's', we need to 'group_by' per zipcode. The second group_by overruns the first group_by. Then we can calculate 's'.\n",
    "Lastly, we will calculate $lambda=w*(1-s)$."
   ]
  },
  {
   "cell_type": "code",
   "execution_count": 105,
   "metadata": {
    "collapsed": false
   },
   "outputs": [
    {
     "data": {
      "text/html": [
       "<table>\n",
       "<thead><tr><th></th><th scope=col>Zipcode</th><th scope=col>Hospital</th><th scope=col>Location</th><th scope=col>Patients</th><th scope=col>w</th><th scope=col>s</th><th scope=col>lambda</th></tr></thead>\n",
       "<tbody>\n",
       "\t<tr><th scope=row>1</th><td>A      </td><td>Moloch </td><td>A      </td><td>1222330</td><td>0.8    </td><td>0.85   </td><td>0.12   </td></tr>\n",
       "\t<tr><th scope=row>2</th><td>B     </td><td>Moloch</td><td>A     </td><td>172018</td><td>0.11  </td><td>0.86  </td><td>0.02  </td></tr>\n",
       "\t<tr><th scope=row>3</th><td>C     </td><td>Moloch</td><td>A     </td><td>63002 </td><td>0.04  </td><td>0.11  </td><td>0.04  </td></tr>\n",
       "\t<tr><th scope=row>4</th><td>D     </td><td>Moloch</td><td>A     </td><td>60333 </td><td>0.04  </td><td>0.92  </td><td>0     </td></tr>\n",
       "\t<tr><th scope=row>5</th><td>E     </td><td>Moloch</td><td>A     </td><td>3032  </td><td>0     </td><td>0.1   </td><td>0     </td></tr>\n",
       "\t<tr><th scope=row>6</th><td>F     </td><td>Moloch</td><td>A     </td><td>4584  </td><td>0     </td><td>0.12  </td><td>0     </td></tr>\n",
       "\t<tr><th scope=row>7</th><td>G     </td><td>Moloch</td><td>A     </td><td>0     </td><td>0     </td><td>0     </td><td>0     </td></tr>\n",
       "\t<tr><th scope=row>8</th><td>A           </td><td>Giant Health</td><td>C           </td><td>101000      </td><td>0.16        </td><td>0.07        </td><td>0.15        </td></tr>\n",
       "\t<tr><th scope=row>9</th><td>B           </td><td>Giant Health</td><td>C           </td><td>23201       </td><td>0.04        </td><td>0.12        </td><td>0.04        </td></tr>\n",
       "\t<tr><th scope=row>10</th><td>C           </td><td>Giant Health</td><td>C           </td><td>506301      </td><td>0.8         </td><td>0.87        </td><td>0.1         </td></tr>\n",
       "\t<tr><th scope=row>11</th><td>D           </td><td>Giant Health</td><td>C           </td><td>232         </td><td>0           </td><td>0           </td><td>0           </td></tr>\n",
       "\t<tr><th scope=row>12</th><td>E           </td><td>Giant Health</td><td>C           </td><td>2187        </td><td>0           </td><td>0.07        </td><td>0           </td></tr>\n",
       "\t<tr><th scope=row>13</th><td>F           </td><td>Giant Health</td><td>C           </td><td>3423        </td><td>0.01        </td><td>0.09        </td><td>0.01        </td></tr>\n",
       "\t<tr><th scope=row>14</th><td>G           </td><td>Giant Health</td><td>C           </td><td>0           </td><td>0           </td><td>0           </td><td>0           </td></tr>\n",
       "\t<tr><th scope=row>15</th><td>A          </td><td>Rose Garden</td><td>E          </td><td>23012      </td><td>0.4        </td><td>0.02       </td><td>0.39       </td></tr>\n",
       "\t<tr><th scope=row>16</th><td>B          </td><td>Rose Garden</td><td>E          </td><td>4002       </td><td>0.07       </td><td>0.02       </td><td>0.07       </td></tr>\n",
       "\t<tr><th scope=row>17</th><td>C          </td><td>Rose Garden</td><td>E          </td><td>4502       </td><td>0.08       </td><td>0.01       </td><td>0.08       </td></tr>\n",
       "\t<tr><th scope=row>18</th><td>D          </td><td>Rose Garden</td><td>E          </td><td>402        </td><td>0.01       </td><td>0.01       </td><td>0.01       </td></tr>\n",
       "\t<tr><th scope=row>19</th><td>E          </td><td>Rose Garden</td><td>E          </td><td>24232      </td><td>0.42       </td><td>0.82       </td><td>0.08       </td></tr>\n",
       "\t<tr><th scope=row>20</th><td>F          </td><td>Rose Garden</td><td>E          </td><td>2088       </td><td>0.04       </td><td>0.05       </td><td>0.04       </td></tr>\n",
       "\t<tr><th scope=row>21</th><td>G          </td><td>Rose Garden</td><td>E          </td><td>0          </td><td>0          </td><td>0          </td><td>0          </td></tr>\n",
       "\t<tr><th scope=row>22</th><td>A    </td><td>Orbit</td><td>F    </td><td>1492 </td><td>0.04 </td><td>0    </td><td>0.04 </td></tr>\n",
       "\t<tr><th scope=row>23</th><td>B    </td><td>Orbit</td><td>F    </td><td>13   </td><td>0    </td><td>0    </td><td>0    </td></tr>\n",
       "\t<tr><th scope=row>24</th><td>C    </td><td>Orbit</td><td>F    </td><td>4333 </td><td>0.11 </td><td>0.01 </td><td>0.11 </td></tr>\n",
       "\t<tr><th scope=row>25</th><td>D    </td><td>Orbit</td><td>F    </td><td>4502 </td><td>0.11 </td><td>0.07 </td><td>0.1  </td></tr>\n",
       "\t<tr><th scope=row>26</th><td>E    </td><td>Orbit</td><td>F    </td><td>44   </td><td>0    </td><td>0    </td><td>0    </td></tr>\n",
       "\t<tr><th scope=row>27</th><td>F    </td><td>Orbit</td><td>F    </td><td>29234</td><td>0.74 </td><td>0.74 </td><td>0.19 </td></tr>\n",
       "\t<tr><th scope=row>28</th><td>G    </td><td>Orbit</td><td>F    </td><td>0    </td><td>0    </td><td>0    </td><td>0    </td></tr>\n",
       "\t<tr><th scope=row>29</th><td>A    </td><td>Boone</td><td>A    </td><td>90000</td><td>0.99 </td><td>0.06 </td><td>0.93 </td></tr>\n",
       "\t<tr><th scope=row>30</th><td>B    </td><td>Boone</td><td>A    </td><td>343  </td><td>0    </td><td>0    </td><td>0    </td></tr>\n",
       "\t<tr><th scope=row>31</th><td>C    </td><td>Boone</td><td>A    </td><td>566  </td><td>0.01 </td><td>0    </td><td>0.01 </td></tr>\n",
       "\t<tr><th scope=row>32</th><td>D    </td><td>Boone</td><td>A    </td><td>234  </td><td>0    </td><td>0    </td><td>0    </td></tr>\n",
       "\t<tr><th scope=row>33</th><td>E    </td><td>Boone</td><td>A    </td><td>3    </td><td>0    </td><td>0    </td><td>0    </td></tr>\n",
       "\t<tr><th scope=row>34</th><td>F    </td><td>Boone</td><td>A    </td><td>34   </td><td>0    </td><td>0    </td><td>0    </td></tr>\n",
       "\t<tr><th scope=row>35</th><td>G    </td><td>Boone</td><td>A    </td><td>130  </td><td>0    </td><td>1    </td><td>0    </td></tr>\n",
       "</tbody>\n",
       "</table>\n"
      ],
      "text/latex": [
       "\\begin{tabular}{r|lllllll}\n",
       "  & Zipcode & Hospital & Location & Patients & w & s & lambda\\\\\n",
       "\\hline\n",
       "\t1 & A       & Moloch  & A       & 1222330 & 0.8     & 0.85    & 0.12   \\\\\n",
       "\t2 & B      & Moloch & A      & 172018 & 0.11   & 0.86   & 0.02  \\\\\n",
       "\t3 & C      & Moloch & A      & 63002  & 0.04   & 0.11   & 0.04  \\\\\n",
       "\t4 & D      & Moloch & A      & 60333  & 0.04   & 0.92   & 0     \\\\\n",
       "\t5 & E      & Moloch & A      & 3032   & 0      & 0.1    & 0     \\\\\n",
       "\t6 & F      & Moloch & A      & 4584   & 0      & 0.12   & 0     \\\\\n",
       "\t7 & G      & Moloch & A      & 0      & 0      & 0      & 0     \\\\\n",
       "\t8 & A            & Giant Health & C            & 101000       & 0.16         & 0.07         & 0.15        \\\\\n",
       "\t9 & B            & Giant Health & C            & 23201        & 0.04         & 0.12         & 0.04        \\\\\n",
       "\t10 & C            & Giant Health & C            & 506301       & 0.8          & 0.87         & 0.1         \\\\\n",
       "\t11 & D            & Giant Health & C            & 232          & 0            & 0            & 0           \\\\\n",
       "\t12 & E            & Giant Health & C            & 2187         & 0            & 0.07         & 0           \\\\\n",
       "\t13 & F            & Giant Health & C            & 3423         & 0.01         & 0.09         & 0.01        \\\\\n",
       "\t14 & G            & Giant Health & C            & 0            & 0            & 0            & 0           \\\\\n",
       "\t15 & A           & Rose Garden & E           & 23012       & 0.4         & 0.02        & 0.39       \\\\\n",
       "\t16 & B           & Rose Garden & E           & 4002        & 0.07        & 0.02        & 0.07       \\\\\n",
       "\t17 & C           & Rose Garden & E           & 4502        & 0.08        & 0.01        & 0.08       \\\\\n",
       "\t18 & D           & Rose Garden & E           & 402         & 0.01        & 0.01        & 0.01       \\\\\n",
       "\t19 & E           & Rose Garden & E           & 24232       & 0.42        & 0.82        & 0.08       \\\\\n",
       "\t20 & F           & Rose Garden & E           & 2088        & 0.04        & 0.05        & 0.04       \\\\\n",
       "\t21 & G           & Rose Garden & E           & 0           & 0           & 0           & 0          \\\\\n",
       "\t22 & A     & Orbit & F     & 1492  & 0.04  & 0     & 0.04 \\\\\n",
       "\t23 & B     & Orbit & F     & 13    & 0     & 0     & 0    \\\\\n",
       "\t24 & C     & Orbit & F     & 4333  & 0.11  & 0.01  & 0.11 \\\\\n",
       "\t25 & D     & Orbit & F     & 4502  & 0.11  & 0.07  & 0.1  \\\\\n",
       "\t26 & E     & Orbit & F     & 44    & 0     & 0     & 0    \\\\\n",
       "\t27 & F     & Orbit & F     & 29234 & 0.74  & 0.74  & 0.19 \\\\\n",
       "\t28 & G     & Orbit & F     & 0     & 0     & 0     & 0    \\\\\n",
       "\t29 & A     & Boone & A     & 90000 & 0.99  & 0.06  & 0.93 \\\\\n",
       "\t30 & B     & Boone & A     & 343   & 0     & 0     & 0    \\\\\n",
       "\t31 & C     & Boone & A     & 566   & 0.01  & 0     & 0.01 \\\\\n",
       "\t32 & D     & Boone & A     & 234   & 0     & 0     & 0    \\\\\n",
       "\t33 & E     & Boone & A     & 3     & 0     & 0     & 0    \\\\\n",
       "\t34 & F     & Boone & A     & 34    & 0     & 0     & 0    \\\\\n",
       "\t35 & G     & Boone & A     & 130   & 0     & 1     & 0    \\\\\n",
       "\\end{tabular}\n"
      ],
      "text/plain": [
       "   Zipcode     Hospital Location Patients    w    s lambda\n",
       "1        A       Moloch        A  1222330 0.80 0.85   0.12\n",
       "2        B       Moloch        A   172018 0.11 0.86   0.02\n",
       "3        C       Moloch        A    63002 0.04 0.11   0.04\n",
       "4        D       Moloch        A    60333 0.04 0.92   0.00\n",
       "5        E       Moloch        A     3032 0.00 0.10   0.00\n",
       "6        F       Moloch        A     4584 0.00 0.12   0.00\n",
       "7        G       Moloch        A        0 0.00 0.00   0.00\n",
       "8        A Giant Health        C   101000 0.16 0.07   0.15\n",
       "9        B Giant Health        C    23201 0.04 0.12   0.04\n",
       "10       C Giant Health        C   506301 0.80 0.87   0.10\n",
       "11       D Giant Health        C      232 0.00 0.00   0.00\n",
       "12       E Giant Health        C     2187 0.00 0.07   0.00\n",
       "13       F Giant Health        C     3423 0.01 0.09   0.01\n",
       "14       G Giant Health        C        0 0.00 0.00   0.00\n",
       "15       A  Rose Garden        E    23012 0.40 0.02   0.39\n",
       "16       B  Rose Garden        E     4002 0.07 0.02   0.07\n",
       "17       C  Rose Garden        E     4502 0.08 0.01   0.08\n",
       "18       D  Rose Garden        E      402 0.01 0.01   0.01\n",
       "19       E  Rose Garden        E    24232 0.42 0.82   0.08\n",
       "20       F  Rose Garden        E     2088 0.04 0.05   0.04\n",
       "21       G  Rose Garden        E        0 0.00 0.00   0.00\n",
       "22       A        Orbit        F     1492 0.04 0.00   0.04\n",
       "23       B        Orbit        F       13 0.00 0.00   0.00\n",
       "24       C        Orbit        F     4333 0.11 0.01   0.11\n",
       "25       D        Orbit        F     4502 0.11 0.07   0.10\n",
       "26       E        Orbit        F       44 0.00 0.00   0.00\n",
       "27       F        Orbit        F    29234 0.74 0.74   0.19\n",
       "28       G        Orbit        F        0 0.00 0.00   0.00\n",
       "29       A        Boone        A    90000 0.99 0.06   0.93\n",
       "30       B        Boone        A      343 0.00 0.00   0.00\n",
       "31       C        Boone        A      566 0.01 0.00   0.01\n",
       "32       D        Boone        A      234 0.00 0.00   0.00\n",
       "33       E        Boone        A        3 0.00 0.00   0.00\n",
       "34       F        Boone        A       34 0.00 0.00   0.00\n",
       "35       G        Boone        A      130 0.00 1.00   0.00"
      ]
     },
     "metadata": {},
     "output_type": "display_data"
    }
   ],
   "source": [
    "mm <- mm %>%\n",
    "group_by(Hospital) %>%\n",
    "mutate(w=round(Patients/sum(Patients), digits=2)) %>%\n",
    "group_by(Zipcode) %>%\n",
    "mutate(s=round(Patients/sum(Patients), digits=2)) %>%\n",
    "mutate(lambda=round(w*(1-s), digits=2)) \n",
    "mm\n"
   ]
  },
  {
   "cell_type": "markdown",
   "metadata": {},
   "source": [
    "To calculate the loci we have sum lambda over the hospitals. We add a weighted marketshare $1-loci$ to get a indicator that is rising in market power."
   ]
  },
  {
   "cell_type": "code",
   "execution_count": 106,
   "metadata": {
    "collapsed": false
   },
   "outputs": [
    {
     "data": {
      "text/html": [
       "<table>\n",
       "<thead><tr><th></th><th scope=col>Hospital</th><th scope=col>loci</th><th scope=col>weighted_marketshare</th></tr></thead>\n",
       "<tbody>\n",
       "\t<tr><th scope=row>1</th><td>Moloch</td><td>0.18  </td><td>0.82  </td></tr>\n",
       "\t<tr><th scope=row>2</th><td>Giant Health</td><td>0.3         </td><td>0.7         </td></tr>\n",
       "\t<tr><th scope=row>3</th><td>Orbit</td><td>0.44 </td><td>0.56 </td></tr>\n",
       "\t<tr><th scope=row>4</th><td>Rose Garden</td><td>0.67       </td><td>0.33       </td></tr>\n",
       "\t<tr><th scope=row>5</th><td>Boone</td><td>0.94 </td><td>0.06 </td></tr>\n",
       "</tbody>\n",
       "</table>\n"
      ],
      "text/latex": [
       "\\begin{tabular}{r|lll}\n",
       "  & Hospital & loci & weighted\\_marketshare\\\\\n",
       "\\hline\n",
       "\t1 & Moloch & 0.18   & 0.82  \\\\\n",
       "\t2 & Giant Health & 0.3          & 0.7         \\\\\n",
       "\t3 & Orbit & 0.44  & 0.56 \\\\\n",
       "\t4 & Rose Garden & 0.67        & 0.33       \\\\\n",
       "\t5 & Boone & 0.94  & 0.06 \\\\\n",
       "\\end{tabular}\n"
      ],
      "text/plain": [
       "      Hospital loci weighted_marketshare\n",
       "1       Moloch 0.18                 0.82\n",
       "2 Giant Health 0.30                 0.70\n",
       "3        Orbit 0.44                 0.56\n",
       "4  Rose Garden 0.67                 0.33\n",
       "5        Boone 0.94                 0.06"
      ]
     },
     "metadata": {},
     "output_type": "display_data"
    }
   ],
   "source": [
    "Resultloci <- mm %>%\n",
    "group_by(Hospital) %>%\n",
    "summarise(loci=round(sum(lambda),digits=2)) %>%\n",
    "mutate(weighted_marketshare=round(1-loci, digits=2)) %>%\n",
    "arrange(desc(weighted_marketshare))\n",
    "\n",
    "Resultloci"
   ]
  },
  {
   "cell_type": "markdown",
   "metadata": {},
   "source": [
    "## WTP"
   ]
  },
  {
   "cell_type": "markdown",
   "metadata": {},
   "source": [
    "Both the LOCI and the WTP-indicator are based on a logit demand function.\n",
    "The WTP indicator differs from the LOCI in the way the supply side is modelled. Where the LOCI-method is based on a differentiated Bertrand model, the WTP is based on a Nash bargaining model.\n",
    " \n",
    "The logic behind the WTP is the following: \n",
    "* Health insurance is an \"option\" on access to hospitals when needed.\n",
    "* The \"willingness to pay\" (WTP) for an insurance depends on the network of hospitals\n",
    "* WTP ($\\Delta V_{j, G}$) of consumers gives hospitals bargaining power over insurers\n",
    "  \n",
    "In a logit demand system, the expected utility of patient $t$ having access to a network $G$ is given by\n",
    "$\n",
    "V_{t, G} = \\ln \\sum_{g \\in G} \\exp(U_{tg})\n",
    "$\n",
    "\n",
    "The marginal contribution of hospital $j$ to an insurer's network $G$ is\n",
    "$\n",
    "\\Delta V_{j, G} = \\sum_t N_t (V_{t, G} - V_{t, G \\setminus j})\n",
    "$\n",
    "\n",
    "Substituting the logit demand system, this becomes\n",
    "$\n",
    "\\Delta V_{j, G} = \\sum_t w_{tj} \\frac{\\ln \\left(\\frac{1}{1-s_{tj}}\\right)}{ s_{tij} }\n",
    "$\n",
    "  "
   ]
  },
  {
   "cell_type": "markdown",
   "metadata": {},
   "source": [
    "## Calculation\n",
    "\n",
    "In order to calculate WTP ($\\Delta V_{j, G}$) we only need the 'w' and 's' from the loci calculation. We calculate 'gamma' as $$\\frac{\\ln \\left(\\frac{1}{1-s_{tj}}\\right)}{ s_{tij}}$$.\n"
   ]
  },
  {
   "cell_type": "code",
   "execution_count": 96,
   "metadata": {
    "collapsed": false
   },
   "outputs": [
    {
     "data": {
      "text/html": [
       "<table>\n",
       "<thead><tr><th></th><th scope=col>Zipcode</th><th scope=col>Hospital</th><th scope=col>Location</th><th scope=col>Patients</th><th scope=col>w</th><th scope=col>s</th><th scope=col>lambda</th><th scope=col>gamma</th></tr></thead>\n",
       "<tbody>\n",
       "\t<tr><th scope=row>1</th><td>A      </td><td>Moloch </td><td>A      </td><td>1222330</td><td>0.8    </td><td>0.85   </td><td>0.12   </td><td>1.79   </td></tr>\n",
       "\t<tr><th scope=row>2</th><td>B     </td><td>Moloch</td><td>A     </td><td>172018</td><td>0.11  </td><td>0.86  </td><td>0.02  </td><td>0.25  </td></tr>\n",
       "\t<tr><th scope=row>3</th><td>C     </td><td>Moloch</td><td>A     </td><td>63002 </td><td>0.04  </td><td>0.11  </td><td>0.04  </td><td>0.04  </td></tr>\n",
       "\t<tr><th scope=row>4</th><td>D     </td><td>Moloch</td><td>A     </td><td>60333 </td><td>0.04  </td><td>0.92  </td><td>0     </td><td>0.11  </td></tr>\n",
       "\t<tr><th scope=row>5</th><td>E     </td><td>Moloch</td><td>A     </td><td>3032  </td><td>0     </td><td>0.1   </td><td>0     </td><td>0     </td></tr>\n",
       "\t<tr><th scope=row>6</th><td>F     </td><td>Moloch</td><td>A     </td><td>4584  </td><td>0     </td><td>0.12  </td><td>0     </td><td>0     </td></tr>\n",
       "\t<tr><th scope=row>7</th><td>G     </td><td>Moloch</td><td>A     </td><td>0     </td><td>0     </td><td>0     </td><td>0     </td><td>NaN   </td></tr>\n",
       "\t<tr><th scope=row>8</th><td>A           </td><td>Giant Health</td><td>C           </td><td>101000      </td><td>0.16        </td><td>0.07        </td><td>0.15        </td><td>0.17        </td></tr>\n",
       "\t<tr><th scope=row>9</th><td>B           </td><td>Giant Health</td><td>C           </td><td>23201       </td><td>0.04        </td><td>0.12        </td><td>0.04        </td><td>0.04        </td></tr>\n",
       "\t<tr><th scope=row>10</th><td>C           </td><td>Giant Health</td><td>C           </td><td>506301      </td><td>0.8         </td><td>0.87        </td><td>0.1         </td><td>1.88        </td></tr>\n",
       "\t<tr><th scope=row>11</th><td>D           </td><td>Giant Health</td><td>C           </td><td>232         </td><td>0           </td><td>0           </td><td>0           </td><td>NaN         </td></tr>\n",
       "\t<tr><th scope=row>12</th><td>E           </td><td>Giant Health</td><td>C           </td><td>2187        </td><td>0           </td><td>0.07        </td><td>0           </td><td>0           </td></tr>\n",
       "\t<tr><th scope=row>13</th><td>F           </td><td>Giant Health</td><td>C           </td><td>3423        </td><td>0.01        </td><td>0.09        </td><td>0.01        </td><td>0.01        </td></tr>\n",
       "\t<tr><th scope=row>14</th><td>G           </td><td>Giant Health</td><td>C           </td><td>0           </td><td>0           </td><td>0           </td><td>0           </td><td>NaN         </td></tr>\n",
       "\t<tr><th scope=row>15</th><td>A          </td><td>Rose Garden</td><td>E          </td><td>23012      </td><td>0.4        </td><td>0.02       </td><td>0.39       </td><td>0.4        </td></tr>\n",
       "\t<tr><th scope=row>16</th><td>B          </td><td>Rose Garden</td><td>E          </td><td>4002       </td><td>0.07       </td><td>0.02       </td><td>0.07       </td><td>0.07       </td></tr>\n",
       "\t<tr><th scope=row>17</th><td>C          </td><td>Rose Garden</td><td>E          </td><td>4502       </td><td>0.08       </td><td>0.01       </td><td>0.08       </td><td>0.08       </td></tr>\n",
       "\t<tr><th scope=row>18</th><td>D          </td><td>Rose Garden</td><td>E          </td><td>402        </td><td>0.01       </td><td>0.01       </td><td>0.01       </td><td>0.01       </td></tr>\n",
       "\t<tr><th scope=row>19</th><td>E          </td><td>Rose Garden</td><td>E          </td><td>24232      </td><td>0.42       </td><td>0.82       </td><td>0.08       </td><td>0.88       </td></tr>\n",
       "\t<tr><th scope=row>20</th><td>F          </td><td>Rose Garden</td><td>E          </td><td>2088       </td><td>0.04       </td><td>0.05       </td><td>0.04       </td><td>0.04       </td></tr>\n",
       "\t<tr><th scope=row>21</th><td>G          </td><td>Rose Garden</td><td>E          </td><td>0          </td><td>0          </td><td>0          </td><td>0          </td><td>NaN        </td></tr>\n",
       "\t<tr><th scope=row>22</th><td>A    </td><td>Orbit</td><td>F    </td><td>1492 </td><td>0.04 </td><td>0    </td><td>0.04 </td><td>NaN  </td></tr>\n",
       "\t<tr><th scope=row>23</th><td>B    </td><td>Orbit</td><td>F    </td><td>13   </td><td>0    </td><td>0    </td><td>0    </td><td>NaN  </td></tr>\n",
       "\t<tr><th scope=row>24</th><td>C    </td><td>Orbit</td><td>F    </td><td>4333 </td><td>0.11 </td><td>0.01 </td><td>0.11 </td><td>0.11 </td></tr>\n",
       "\t<tr><th scope=row>25</th><td>D    </td><td>Orbit</td><td>F    </td><td>4502 </td><td>0.11 </td><td>0.07 </td><td>0.1  </td><td>0.11 </td></tr>\n",
       "\t<tr><th scope=row>26</th><td>E    </td><td>Orbit</td><td>F    </td><td>44   </td><td>0    </td><td>0    </td><td>0    </td><td>NaN  </td></tr>\n",
       "\t<tr><th scope=row>27</th><td>F    </td><td>Orbit</td><td>F    </td><td>29234</td><td>0.74 </td><td>0.74 </td><td>0.19 </td><td>1.35 </td></tr>\n",
       "\t<tr><th scope=row>28</th><td>G    </td><td>Orbit</td><td>F    </td><td>0    </td><td>0    </td><td>0    </td><td>0    </td><td>NaN  </td></tr>\n",
       "\t<tr><th scope=row>29</th><td>A    </td><td>Boone</td><td>A    </td><td>90000</td><td>0.99 </td><td>0.06 </td><td>0.93 </td><td>1.02 </td></tr>\n",
       "\t<tr><th scope=row>30</th><td>B    </td><td>Boone</td><td>A    </td><td>343  </td><td>0    </td><td>0    </td><td>0    </td><td>NaN  </td></tr>\n",
       "\t<tr><th scope=row>31</th><td>C    </td><td>Boone</td><td>A    </td><td>566  </td><td>0.01 </td><td>0    </td><td>0.01 </td><td>NaN  </td></tr>\n",
       "\t<tr><th scope=row>32</th><td>D    </td><td>Boone</td><td>A    </td><td>234  </td><td>0    </td><td>0    </td><td>0    </td><td>NaN  </td></tr>\n",
       "\t<tr><th scope=row>33</th><td>E    </td><td>Boone</td><td>A    </td><td>3    </td><td>0    </td><td>0    </td><td>0    </td><td>NaN  </td></tr>\n",
       "\t<tr><th scope=row>34</th><td>F    </td><td>Boone</td><td>A    </td><td>34   </td><td>0    </td><td>0    </td><td>0    </td><td>NaN  </td></tr>\n",
       "\t<tr><th scope=row>35</th><td>G    </td><td>Boone</td><td>A    </td><td>130  </td><td>0    </td><td>1    </td><td>0    </td><td>NaN  </td></tr>\n",
       "</tbody>\n",
       "</table>\n"
      ],
      "text/latex": [
       "\\begin{tabular}{r|llllllll}\n",
       "  & Zipcode & Hospital & Location & Patients & w & s & lambda & gamma\\\\\n",
       "\\hline\n",
       "\t1 & A       & Moloch  & A       & 1222330 & 0.8     & 0.85    & 0.12    & 1.79   \\\\\n",
       "\t2 & B      & Moloch & A      & 172018 & 0.11   & 0.86   & 0.02   & 0.25  \\\\\n",
       "\t3 & C      & Moloch & A      & 63002  & 0.04   & 0.11   & 0.04   & 0.04  \\\\\n",
       "\t4 & D      & Moloch & A      & 60333  & 0.04   & 0.92   & 0      & 0.11  \\\\\n",
       "\t5 & E      & Moloch & A      & 3032   & 0      & 0.1    & 0      & 0     \\\\\n",
       "\t6 & F      & Moloch & A      & 4584   & 0      & 0.12   & 0      & 0     \\\\\n",
       "\t7 & G      & Moloch & A      & 0      & 0      & 0      & 0      & NaN   \\\\\n",
       "\t8 & A            & Giant Health & C            & 101000       & 0.16         & 0.07         & 0.15         & 0.17        \\\\\n",
       "\t9 & B            & Giant Health & C            & 23201        & 0.04         & 0.12         & 0.04         & 0.04        \\\\\n",
       "\t10 & C            & Giant Health & C            & 506301       & 0.8          & 0.87         & 0.1          & 1.88        \\\\\n",
       "\t11 & D            & Giant Health & C            & 232          & 0            & 0            & 0            & NaN         \\\\\n",
       "\t12 & E            & Giant Health & C            & 2187         & 0            & 0.07         & 0            & 0           \\\\\n",
       "\t13 & F            & Giant Health & C            & 3423         & 0.01         & 0.09         & 0.01         & 0.01        \\\\\n",
       "\t14 & G            & Giant Health & C            & 0            & 0            & 0            & 0            & NaN         \\\\\n",
       "\t15 & A           & Rose Garden & E           & 23012       & 0.4         & 0.02        & 0.39        & 0.4        \\\\\n",
       "\t16 & B           & Rose Garden & E           & 4002        & 0.07        & 0.02        & 0.07        & 0.07       \\\\\n",
       "\t17 & C           & Rose Garden & E           & 4502        & 0.08        & 0.01        & 0.08        & 0.08       \\\\\n",
       "\t18 & D           & Rose Garden & E           & 402         & 0.01        & 0.01        & 0.01        & 0.01       \\\\\n",
       "\t19 & E           & Rose Garden & E           & 24232       & 0.42        & 0.82        & 0.08        & 0.88       \\\\\n",
       "\t20 & F           & Rose Garden & E           & 2088        & 0.04        & 0.05        & 0.04        & 0.04       \\\\\n",
       "\t21 & G           & Rose Garden & E           & 0           & 0           & 0           & 0           & NaN        \\\\\n",
       "\t22 & A     & Orbit & F     & 1492  & 0.04  & 0     & 0.04  & NaN  \\\\\n",
       "\t23 & B     & Orbit & F     & 13    & 0     & 0     & 0     & NaN  \\\\\n",
       "\t24 & C     & Orbit & F     & 4333  & 0.11  & 0.01  & 0.11  & 0.11 \\\\\n",
       "\t25 & D     & Orbit & F     & 4502  & 0.11  & 0.07  & 0.1   & 0.11 \\\\\n",
       "\t26 & E     & Orbit & F     & 44    & 0     & 0     & 0     & NaN  \\\\\n",
       "\t27 & F     & Orbit & F     & 29234 & 0.74  & 0.74  & 0.19  & 1.35 \\\\\n",
       "\t28 & G     & Orbit & F     & 0     & 0     & 0     & 0     & NaN  \\\\\n",
       "\t29 & A     & Boone & A     & 90000 & 0.99  & 0.06  & 0.93  & 1.02 \\\\\n",
       "\t30 & B     & Boone & A     & 343   & 0     & 0     & 0     & NaN  \\\\\n",
       "\t31 & C     & Boone & A     & 566   & 0.01  & 0     & 0.01  & NaN  \\\\\n",
       "\t32 & D     & Boone & A     & 234   & 0     & 0     & 0     & NaN  \\\\\n",
       "\t33 & E     & Boone & A     & 3     & 0     & 0     & 0     & NaN  \\\\\n",
       "\t34 & F     & Boone & A     & 34    & 0     & 0     & 0     & NaN  \\\\\n",
       "\t35 & G     & Boone & A     & 130   & 0     & 1     & 0     & NaN  \\\\\n",
       "\\end{tabular}\n"
      ],
      "text/plain": [
       "   Zipcode     Hospital Location Patients    w    s lambda gamma\n",
       "1        A       Moloch        A  1222330 0.80 0.85   0.12  1.79\n",
       "2        B       Moloch        A   172018 0.11 0.86   0.02  0.25\n",
       "3        C       Moloch        A    63002 0.04 0.11   0.04  0.04\n",
       "4        D       Moloch        A    60333 0.04 0.92   0.00  0.11\n",
       "5        E       Moloch        A     3032 0.00 0.10   0.00  0.00\n",
       "6        F       Moloch        A     4584 0.00 0.12   0.00  0.00\n",
       "7        G       Moloch        A        0 0.00 0.00   0.00   NaN\n",
       "8        A Giant Health        C   101000 0.16 0.07   0.15  0.17\n",
       "9        B Giant Health        C    23201 0.04 0.12   0.04  0.04\n",
       "10       C Giant Health        C   506301 0.80 0.87   0.10  1.88\n",
       "11       D Giant Health        C      232 0.00 0.00   0.00   NaN\n",
       "12       E Giant Health        C     2187 0.00 0.07   0.00  0.00\n",
       "13       F Giant Health        C     3423 0.01 0.09   0.01  0.01\n",
       "14       G Giant Health        C        0 0.00 0.00   0.00   NaN\n",
       "15       A  Rose Garden        E    23012 0.40 0.02   0.39  0.40\n",
       "16       B  Rose Garden        E     4002 0.07 0.02   0.07  0.07\n",
       "17       C  Rose Garden        E     4502 0.08 0.01   0.08  0.08\n",
       "18       D  Rose Garden        E      402 0.01 0.01   0.01  0.01\n",
       "19       E  Rose Garden        E    24232 0.42 0.82   0.08  0.88\n",
       "20       F  Rose Garden        E     2088 0.04 0.05   0.04  0.04\n",
       "21       G  Rose Garden        E        0 0.00 0.00   0.00   NaN\n",
       "22       A        Orbit        F     1492 0.04 0.00   0.04   NaN\n",
       "23       B        Orbit        F       13 0.00 0.00   0.00   NaN\n",
       "24       C        Orbit        F     4333 0.11 0.01   0.11  0.11\n",
       "25       D        Orbit        F     4502 0.11 0.07   0.10  0.11\n",
       "26       E        Orbit        F       44 0.00 0.00   0.00   NaN\n",
       "27       F        Orbit        F    29234 0.74 0.74   0.19  1.35\n",
       "28       G        Orbit        F        0 0.00 0.00   0.00   NaN\n",
       "29       A        Boone        A    90000 0.99 0.06   0.93  1.02\n",
       "30       B        Boone        A      343 0.00 0.00   0.00   NaN\n",
       "31       C        Boone        A      566 0.01 0.00   0.01   NaN\n",
       "32       D        Boone        A      234 0.00 0.00   0.00   NaN\n",
       "33       E        Boone        A        3 0.00 0.00   0.00   NaN\n",
       "34       F        Boone        A       34 0.00 0.00   0.00   NaN\n",
       "35       G        Boone        A      130 0.00 1.00   0.00   NaN"
      ]
     },
     "metadata": {},
     "output_type": "display_data"
    }
   ],
   "source": [
    "mm <- mm %>%\n",
    "mutate(gamma=round(w*(log(1/(1-s))/s), digits=2)) \n",
    "mm"
   ]
  },
  {
   "cell_type": "markdown",
   "metadata": {},
   "source": [
    "The data contain a number of zero's. This lead to NA's in the WTP calculation. Therefore, we want to get rid of the NA's with the filter command:"
   ]
  },
  {
   "cell_type": "code",
   "execution_count": 97,
   "metadata": {
    "collapsed": false
   },
   "outputs": [
    {
     "data": {
      "text/html": [
       "<table>\n",
       "<thead><tr><th></th><th scope=col>Zipcode</th><th scope=col>Hospital</th><th scope=col>Location</th><th scope=col>Patients</th><th scope=col>w</th><th scope=col>s</th><th scope=col>lambda</th><th scope=col>gamma</th></tr></thead>\n",
       "<tbody>\n",
       "\t<tr><th scope=row>1</th><td>A      </td><td>Moloch </td><td>A      </td><td>1222330</td><td>0.8    </td><td>0.85   </td><td>0.12   </td><td>1.79   </td></tr>\n",
       "\t<tr><th scope=row>2</th><td>B     </td><td>Moloch</td><td>A     </td><td>172018</td><td>0.11  </td><td>0.86  </td><td>0.02  </td><td>0.25  </td></tr>\n",
       "\t<tr><th scope=row>3</th><td>C     </td><td>Moloch</td><td>A     </td><td>63002 </td><td>0.04  </td><td>0.11  </td><td>0.04  </td><td>0.04  </td></tr>\n",
       "\t<tr><th scope=row>4</th><td>D     </td><td>Moloch</td><td>A     </td><td>60333 </td><td>0.04  </td><td>0.92  </td><td>0     </td><td>0.11  </td></tr>\n",
       "\t<tr><th scope=row>5</th><td>E     </td><td>Moloch</td><td>A     </td><td>3032  </td><td>0     </td><td>0.1   </td><td>0     </td><td>0     </td></tr>\n",
       "\t<tr><th scope=row>6</th><td>F     </td><td>Moloch</td><td>A     </td><td>4584  </td><td>0     </td><td>0.12  </td><td>0     </td><td>0     </td></tr>\n",
       "\t<tr><th scope=row>7</th><td>A           </td><td>Giant Health</td><td>C           </td><td>101000      </td><td>0.16        </td><td>0.07        </td><td>0.15        </td><td>0.17        </td></tr>\n",
       "\t<tr><th scope=row>8</th><td>B           </td><td>Giant Health</td><td>C           </td><td>23201       </td><td>0.04        </td><td>0.12        </td><td>0.04        </td><td>0.04        </td></tr>\n",
       "\t<tr><th scope=row>9</th><td>C           </td><td>Giant Health</td><td>C           </td><td>506301      </td><td>0.8         </td><td>0.87        </td><td>0.1         </td><td>1.88        </td></tr>\n",
       "\t<tr><th scope=row>10</th><td>E           </td><td>Giant Health</td><td>C           </td><td>2187        </td><td>0           </td><td>0.07        </td><td>0           </td><td>0           </td></tr>\n",
       "\t<tr><th scope=row>11</th><td>F           </td><td>Giant Health</td><td>C           </td><td>3423        </td><td>0.01        </td><td>0.09        </td><td>0.01        </td><td>0.01        </td></tr>\n",
       "\t<tr><th scope=row>12</th><td>A          </td><td>Rose Garden</td><td>E          </td><td>23012      </td><td>0.4        </td><td>0.02       </td><td>0.39       </td><td>0.4        </td></tr>\n",
       "\t<tr><th scope=row>13</th><td>B          </td><td>Rose Garden</td><td>E          </td><td>4002       </td><td>0.07       </td><td>0.02       </td><td>0.07       </td><td>0.07       </td></tr>\n",
       "\t<tr><th scope=row>14</th><td>C          </td><td>Rose Garden</td><td>E          </td><td>4502       </td><td>0.08       </td><td>0.01       </td><td>0.08       </td><td>0.08       </td></tr>\n",
       "\t<tr><th scope=row>15</th><td>D          </td><td>Rose Garden</td><td>E          </td><td>402        </td><td>0.01       </td><td>0.01       </td><td>0.01       </td><td>0.01       </td></tr>\n",
       "\t<tr><th scope=row>16</th><td>E          </td><td>Rose Garden</td><td>E          </td><td>24232      </td><td>0.42       </td><td>0.82       </td><td>0.08       </td><td>0.88       </td></tr>\n",
       "\t<tr><th scope=row>17</th><td>F          </td><td>Rose Garden</td><td>E          </td><td>2088       </td><td>0.04       </td><td>0.05       </td><td>0.04       </td><td>0.04       </td></tr>\n",
       "\t<tr><th scope=row>18</th><td>C    </td><td>Orbit</td><td>F    </td><td>4333 </td><td>0.11 </td><td>0.01 </td><td>0.11 </td><td>0.11 </td></tr>\n",
       "\t<tr><th scope=row>19</th><td>D    </td><td>Orbit</td><td>F    </td><td>4502 </td><td>0.11 </td><td>0.07 </td><td>0.1  </td><td>0.11 </td></tr>\n",
       "\t<tr><th scope=row>20</th><td>F    </td><td>Orbit</td><td>F    </td><td>29234</td><td>0.74 </td><td>0.74 </td><td>0.19 </td><td>1.35 </td></tr>\n",
       "\t<tr><th scope=row>21</th><td>A    </td><td>Boone</td><td>A    </td><td>90000</td><td>0.99 </td><td>0.06 </td><td>0.93 </td><td>1.02 </td></tr>\n",
       "</tbody>\n",
       "</table>\n"
      ],
      "text/latex": [
       "\\begin{tabular}{r|llllllll}\n",
       "  & Zipcode & Hospital & Location & Patients & w & s & lambda & gamma\\\\\n",
       "\\hline\n",
       "\t1 & A       & Moloch  & A       & 1222330 & 0.8     & 0.85    & 0.12    & 1.79   \\\\\n",
       "\t2 & B      & Moloch & A      & 172018 & 0.11   & 0.86   & 0.02   & 0.25  \\\\\n",
       "\t3 & C      & Moloch & A      & 63002  & 0.04   & 0.11   & 0.04   & 0.04  \\\\\n",
       "\t4 & D      & Moloch & A      & 60333  & 0.04   & 0.92   & 0      & 0.11  \\\\\n",
       "\t5 & E      & Moloch & A      & 3032   & 0      & 0.1    & 0      & 0     \\\\\n",
       "\t6 & F      & Moloch & A      & 4584   & 0      & 0.12   & 0      & 0     \\\\\n",
       "\t7 & A            & Giant Health & C            & 101000       & 0.16         & 0.07         & 0.15         & 0.17        \\\\\n",
       "\t8 & B            & Giant Health & C            & 23201        & 0.04         & 0.12         & 0.04         & 0.04        \\\\\n",
       "\t9 & C            & Giant Health & C            & 506301       & 0.8          & 0.87         & 0.1          & 1.88        \\\\\n",
       "\t10 & E            & Giant Health & C            & 2187         & 0            & 0.07         & 0            & 0           \\\\\n",
       "\t11 & F            & Giant Health & C            & 3423         & 0.01         & 0.09         & 0.01         & 0.01        \\\\\n",
       "\t12 & A           & Rose Garden & E           & 23012       & 0.4         & 0.02        & 0.39        & 0.4        \\\\\n",
       "\t13 & B           & Rose Garden & E           & 4002        & 0.07        & 0.02        & 0.07        & 0.07       \\\\\n",
       "\t14 & C           & Rose Garden & E           & 4502        & 0.08        & 0.01        & 0.08        & 0.08       \\\\\n",
       "\t15 & D           & Rose Garden & E           & 402         & 0.01        & 0.01        & 0.01        & 0.01       \\\\\n",
       "\t16 & E           & Rose Garden & E           & 24232       & 0.42        & 0.82        & 0.08        & 0.88       \\\\\n",
       "\t17 & F           & Rose Garden & E           & 2088        & 0.04        & 0.05        & 0.04        & 0.04       \\\\\n",
       "\t18 & C     & Orbit & F     & 4333  & 0.11  & 0.01  & 0.11  & 0.11 \\\\\n",
       "\t19 & D     & Orbit & F     & 4502  & 0.11  & 0.07  & 0.1   & 0.11 \\\\\n",
       "\t20 & F     & Orbit & F     & 29234 & 0.74  & 0.74  & 0.19  & 1.35 \\\\\n",
       "\t21 & A     & Boone & A     & 90000 & 0.99  & 0.06  & 0.93  & 1.02 \\\\\n",
       "\\end{tabular}\n"
      ],
      "text/plain": [
       "   Zipcode     Hospital Location Patients    w    s lambda gamma\n",
       "1        A       Moloch        A  1222330 0.80 0.85   0.12  1.79\n",
       "2        B       Moloch        A   172018 0.11 0.86   0.02  0.25\n",
       "3        C       Moloch        A    63002 0.04 0.11   0.04  0.04\n",
       "4        D       Moloch        A    60333 0.04 0.92   0.00  0.11\n",
       "5        E       Moloch        A     3032 0.00 0.10   0.00  0.00\n",
       "6        F       Moloch        A     4584 0.00 0.12   0.00  0.00\n",
       "7        A Giant Health        C   101000 0.16 0.07   0.15  0.17\n",
       "8        B Giant Health        C    23201 0.04 0.12   0.04  0.04\n",
       "9        C Giant Health        C   506301 0.80 0.87   0.10  1.88\n",
       "10       E Giant Health        C     2187 0.00 0.07   0.00  0.00\n",
       "11       F Giant Health        C     3423 0.01 0.09   0.01  0.01\n",
       "12       A  Rose Garden        E    23012 0.40 0.02   0.39  0.40\n",
       "13       B  Rose Garden        E     4002 0.07 0.02   0.07  0.07\n",
       "14       C  Rose Garden        E     4502 0.08 0.01   0.08  0.08\n",
       "15       D  Rose Garden        E      402 0.01 0.01   0.01  0.01\n",
       "16       E  Rose Garden        E    24232 0.42 0.82   0.08  0.88\n",
       "17       F  Rose Garden        E     2088 0.04 0.05   0.04  0.04\n",
       "18       C        Orbit        F     4333 0.11 0.01   0.11  0.11\n",
       "19       D        Orbit        F     4502 0.11 0.07   0.10  0.11\n",
       "20       F        Orbit        F    29234 0.74 0.74   0.19  1.35\n",
       "21       A        Boone        A    90000 0.99 0.06   0.93  1.02"
      ]
     },
     "metadata": {},
     "output_type": "display_data"
    }
   ],
   "source": [
    "mm <- mm %>%\n",
    "filter(!is.na(gamma))\n",
    "\n",
    "mm"
   ]
  },
  {
   "cell_type": "markdown",
   "metadata": {},
   "source": [
    "Now we have a cleaned dataset, we can calculate the WTP's similar to the way we calculated the loci's:"
   ]
  },
  {
   "cell_type": "code",
   "execution_count": 98,
   "metadata": {
    "collapsed": false
   },
   "outputs": [
    {
     "data": {
      "text/html": [
       "<table>\n",
       "<thead><tr><th></th><th scope=col>Hospital</th><th scope=col>WTP</th></tr></thead>\n",
       "<tbody>\n",
       "\t<tr><th scope=row>1</th><td>Moloch</td><td>2.19  </td></tr>\n",
       "\t<tr><th scope=row>2</th><td>Giant Health</td><td>2.1         </td></tr>\n",
       "\t<tr><th scope=row>3</th><td>Orbit</td><td>1.57 </td></tr>\n",
       "\t<tr><th scope=row>4</th><td>Rose Garden</td><td>1.48       </td></tr>\n",
       "\t<tr><th scope=row>5</th><td>Boone</td><td>1.02 </td></tr>\n",
       "</tbody>\n",
       "</table>\n"
      ],
      "text/latex": [
       "\\begin{tabular}{r|ll}\n",
       "  & Hospital & WTP\\\\\n",
       "\\hline\n",
       "\t1 & Moloch & 2.19  \\\\\n",
       "\t2 & Giant Health & 2.1         \\\\\n",
       "\t3 & Orbit & 1.57 \\\\\n",
       "\t4 & Rose Garden & 1.48       \\\\\n",
       "\t5 & Boone & 1.02 \\\\\n",
       "\\end{tabular}\n"
      ],
      "text/plain": [
       "      Hospital  WTP\n",
       "1       Moloch 2.19\n",
       "2 Giant Health 2.10\n",
       "3        Orbit 1.57\n",
       "4  Rose Garden 1.48\n",
       "5        Boone 1.02"
      ]
     },
     "metadata": {},
     "output_type": "display_data"
    }
   ],
   "source": [
    "ResultWTP <- mm %>%\n",
    "group_by(Hospital) %>%\n",
    "summarise(WTP=round(sum(gamma),digits=2)) %>%\n",
    "arrange(desc(WTP))\n",
    "\n",
    "ResultWTP"
   ]
  },
  {
   "cell_type": "markdown",
   "metadata": {},
   "source": [
    "We have calculated the loci's and the WTP's seperately. We could have calculated them in one 'pipe'. Since it is not possible to use \"summarise' twice in one pipe, commands need to be combined."
   ]
  },
  {
   "cell_type": "code",
   "execution_count": 99,
   "metadata": {
    "collapsed": false
   },
   "outputs": [
    {
     "data": {
      "text/html": [
       "<table>\n",
       "<thead><tr><th></th><th scope=col>Hospital</th><th scope=col>WTP</th><th scope=col>loci</th><th scope=col>weighted_marketshare</th></tr></thead>\n",
       "<tbody>\n",
       "\t<tr><th scope=row>1</th><td>Moloch</td><td>2.19  </td><td>0.18  </td><td>0.82  </td></tr>\n",
       "\t<tr><th scope=row>2</th><td>Giant Health</td><td>2.1         </td><td>0.3         </td><td>0.7         </td></tr>\n",
       "\t<tr><th scope=row>3</th><td>Orbit</td><td>1.57 </td><td>0.4  </td><td>0.6  </td></tr>\n",
       "\t<tr><th scope=row>4</th><td>Rose Garden</td><td>1.48       </td><td>0.67       </td><td>0.33       </td></tr>\n",
       "\t<tr><th scope=row>5</th><td>Boone</td><td>1.02 </td><td>0.93 </td><td>0.07 </td></tr>\n",
       "</tbody>\n",
       "</table>\n"
      ],
      "text/latex": [
       "\\begin{tabular}{r|llll}\n",
       "  & Hospital & WTP & loci & weighted\\_marketshare\\\\\n",
       "\\hline\n",
       "\t1 & Moloch & 2.19   & 0.18   & 0.82  \\\\\n",
       "\t2 & Giant Health & 2.1          & 0.3          & 0.7         \\\\\n",
       "\t3 & Orbit & 1.57  & 0.4   & 0.6  \\\\\n",
       "\t4 & Rose Garden & 1.48        & 0.67        & 0.33       \\\\\n",
       "\t5 & Boone & 1.02  & 0.93  & 0.07 \\\\\n",
       "\\end{tabular}\n"
      ],
      "text/plain": [
       "      Hospital  WTP loci weighted_marketshare\n",
       "1       Moloch 2.19 0.18                 0.82\n",
       "2 Giant Health 2.10 0.30                 0.70\n",
       "3        Orbit 1.57 0.40                 0.60\n",
       "4  Rose Garden 1.48 0.67                 0.33\n",
       "5        Boone 1.02 0.93                 0.07"
      ]
     },
     "metadata": {},
     "output_type": "display_data"
    }
   ],
   "source": [
    "Result <- mm %>%\n",
    "group_by(Hospital) %>%\n",
    "summarise(WTP=round(sum(gamma),digits=2), loci=round(sum(lambda),digits=2)) %>%\n",
    "mutate(weighted_marketshare=round(1-loci, digits=2))%>%\n",
    "arrange(desc(WTP))\n",
    "\n",
    "Result"
   ]
  },
  {
   "cell_type": "markdown",
   "metadata": {},
   "source": [
    "## PLOT\n",
    "\n",
    "We end the lecture with a plot as we discussed during the previous lecture. We start with loading the package ggplot2 and then draw the relationship between the loci and the WTP.\n"
   ]
  },
  {
   "cell_type": "code",
   "execution_count": 100,
   "metadata": {
    "collapsed": true
   },
   "outputs": [],
   "source": [
    "library(ggplot2)"
   ]
  },
  {
   "cell_type": "code",
   "execution_count": 101,
   "metadata": {
    "collapsed": false
   },
   "outputs": [
    {
     "data": {},
     "metadata": {},
     "output_type": "display_data"
    },
    {
     "data": {
      "image/png": "[encoded data removed]",
      "text/plain": [
       "plot without title"
      ]
     },
     "metadata": {},
     "output_type": "display_data"
    }
   ],
   "source": [
    "ggplot(Result, aes(x=weighted_marketshare, y=WTP)) + geom_point() + geom_smooth(method=lm)"
   ]
  },
  {
   "cell_type": "markdown",
   "metadata": {},
   "source": [
    "# End of the lecture"
   ]
  }
 ],
 "metadata": {
  "anaconda-cloud": {},
  "kernelspec": {
   "display_name": "R",
   "language": "R",
   "name": "ir"
  },
  "language_info": {
   "codemirror_mode": "r",
   "file_extension": ".r",
   "mimetype": "text/x-r-source",
   "name": "R",
   "pygments_lexer": "r",
   "version": "3.3.2"
  }
 },
 "nbformat": 4,
 "nbformat_minor": 1
}
