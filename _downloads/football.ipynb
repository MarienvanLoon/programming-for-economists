{
 "cells": [
  {
   "cell_type": "markdown",
   "metadata": {},
   "source": [
    "# Example football\n",
    "\n",
    "In this example we work with a small dataset about footballclubs in the Netherlands. In this example we will learn how to work with data and make some simple graphs. \n",
    "\n",
    "\n"
   ]
  },
  {
   "cell_type": "markdown",
   "metadata": {},
   "source": [
    "## Data handling\n",
    "\n",
    "\n",
    "The first thing we need to do is to get the packages we need to work with the data. Since we have data in an excel format we will use the package \"readxl\". Furthermore, we will use the package \"data.table\" to work with the data.\n"
   ]
  },
  {
   "cell_type": "code",
   "execution_count": 1,
   "metadata": {
    "collapsed": true
   },
   "outputs": [],
   "source": [
    "library(readxl)\n",
    "library(data.table)"
   ]
  },
  {
   "cell_type": "markdown",
   "metadata": {},
   "source": [
    "Now we need to read the data. Make sure you save your notebookfile in the same directory as the data to enable the notebook to find the data. We will call our dataset \"fball\""
   ]
  },
  {
   "cell_type": "code",
   "execution_count": 2,
   "metadata": {
    "collapsed": false
   },
   "outputs": [],
   "source": [
    "fball <- data.table( read_excel( 'football.xlsx' , 1 ) )"
   ]
  },
  {
   "cell_type": "markdown",
   "metadata": {},
   "source": [
    "Now we have our data in the notebook, we want to have a look at our data."
   ]
  },
  {
   "cell_type": "code",
   "execution_count": 3,
   "metadata": {
    "collapsed": false
   },
   "outputs": [
    {
     "data": {
      "text/html": [
       "<table>\n",
       "<thead><tr><th scope=col>Eredivisie 2015/2016</th><th scope=col>V2</th></tr></thead>\n",
       "<tbody>\n",
       "\t<tr><td>Club         </td><td>Points       </td></tr>\n",
       "\t<tr><td>PSV          </td><td>84           </td></tr>\n",
       "\t<tr><td>Ajax         </td><td>82           </td></tr>\n",
       "\t<tr><td>Feyenoord    </td><td>63           </td></tr>\n",
       "\t<tr><td>AZ           </td><td>59           </td></tr>\n",
       "\t<tr><td>Utrecht      </td><td>53           </td></tr>\n",
       "\t<tr><td>Heracles     </td><td>51           </td></tr>\n",
       "\t<tr><td>Groningen    </td><td>50           </td></tr>\n",
       "\t<tr><td>PEC          </td><td>48           </td></tr>\n",
       "\t<tr><td>Vitesse      </td><td>46           </td></tr>\n",
       "\t<tr><td>NEC          </td><td>46           </td></tr>\n",
       "\t<tr><td>ADO          </td><td>43           </td></tr>\n",
       "\t<tr><td>Heereveen    </td><td>42           </td></tr>\n",
       "\t<tr><td>Twente       </td><td>40           </td></tr>\n",
       "\t<tr><td>Roda         </td><td>34           </td></tr>\n",
       "\t<tr><td>Excelsior    </td><td>30           </td></tr>\n",
       "\t<tr><td>Willem II    </td><td>29           </td></tr>\n",
       "\t<tr><td>De Graafschap</td><td>23           </td></tr>\n",
       "\t<tr><td>Cambuur      </td><td>18           </td></tr>\n",
       "\t<tr><td>NA           </td><td>NA           </td></tr>\n",
       "\t<tr><td>NA           </td><td>NA           </td></tr>\n",
       "</tbody>\n",
       "</table>\n"
      ],
      "text/latex": [
       "\\begin{tabular}{r|ll}\n",
       " Eredivisie 2015/2016 & V2\\\\\n",
       "\\hline\n",
       "\t Club          & Points       \\\\\n",
       "\t PSV           & 84           \\\\\n",
       "\t Ajax          & 82           \\\\\n",
       "\t Feyenoord     & 63           \\\\\n",
       "\t AZ            & 59           \\\\\n",
       "\t Utrecht       & 53           \\\\\n",
       "\t Heracles      & 51           \\\\\n",
       "\t Groningen     & 50           \\\\\n",
       "\t PEC           & 48           \\\\\n",
       "\t Vitesse       & 46           \\\\\n",
       "\t NEC           & 46           \\\\\n",
       "\t ADO           & 43           \\\\\n",
       "\t Heereveen     & 42           \\\\\n",
       "\t Twente        & 40           \\\\\n",
       "\t Roda          & 34           \\\\\n",
       "\t Excelsior     & 30           \\\\\n",
       "\t Willem II     & 29           \\\\\n",
       "\t De Graafschap & 23           \\\\\n",
       "\t Cambuur       & 18           \\\\\n",
       "\t NA            & NA           \\\\\n",
       "\t NA            & NA           \\\\\n",
       "\\end{tabular}\n"
      ],
      "text/plain": [
       "   Eredivisie 2015/2016 V2    \n",
       "1  Club                 Points\n",
       "2  PSV                  84    \n",
       "3  Ajax                 82    \n",
       "4  Feyenoord            63    \n",
       "5  AZ                   59    \n",
       "6  Utrecht              53    \n",
       "7  Heracles             51    \n",
       "8  Groningen            50    \n",
       "9  PEC                  48    \n",
       "10 Vitesse              46    \n",
       "11 NEC                  46    \n",
       "12 ADO                  43    \n",
       "13 Heereveen            42    \n",
       "14 Twente               40    \n",
       "15 Roda                 34    \n",
       "16 Excelsior            30    \n",
       "17 Willem II            29    \n",
       "18 De Graafschap        23    \n",
       "19 Cambuur              18    \n",
       "20 NA                   NA    \n",
       "21 NA                   NA    "
      ]
     },
     "metadata": {},
     "output_type": "display_data"
    }
   ],
   "source": [
    "fball"
   ]
  },
  {
   "cell_type": "markdown",
   "metadata": {},
   "source": [
    "We note that observation 1 contains \"club\" and \"points\". We do not want this to be an observations, since the cell should be the columnnames. Therefore, we need to change the datatable. The first step we take is to make a new dataframe with the name \"clubnames\". The command 'clubnames' shows how the dataframe looks like."
   ]
  },
  {
   "cell_type": "code",
   "execution_count": 4,
   "metadata": {
    "collapsed": false
   },
   "outputs": [
    {
     "data": {
      "text/html": [
       "<ol class=list-inline>\n",
       "\t<li>'club'</li>\n",
       "\t<li>'points'</li>\n",
       "</ol>\n"
      ],
      "text/latex": [
       "\\begin{enumerate*}\n",
       "\\item 'club'\n",
       "\\item 'points'\n",
       "\\end{enumerate*}\n"
      ],
      "text/markdown": [
       "1. 'club'\n",
       "2. 'points'\n",
       "\n",
       "\n"
      ],
      "text/plain": [
       "[1] \"club\"   \"points\""
      ]
     },
     "metadata": {},
     "output_type": "display_data"
    }
   ],
   "source": [
    "clubnames <-c(\"club\", \"points\")\n",
    "clubnames\n"
   ]
  },
  {
   "cell_type": "markdown",
   "metadata": {},
   "source": [
    "The second step is to use the names of clubnames in the datatable fball. The command 'fball' shows the new datatable."
   ]
  },
  {
   "cell_type": "code",
   "execution_count": 5,
   "metadata": {
    "collapsed": false
   },
   "outputs": [
    {
     "data": {
      "text/html": [
       "<table>\n",
       "<thead><tr><th scope=col>club</th><th scope=col>points</th></tr></thead>\n",
       "<tbody>\n",
       "\t<tr><td>Club         </td><td>Points       </td></tr>\n",
       "\t<tr><td>PSV          </td><td>84           </td></tr>\n",
       "\t<tr><td>Ajax         </td><td>82           </td></tr>\n",
       "\t<tr><td>Feyenoord    </td><td>63           </td></tr>\n",
       "\t<tr><td>AZ           </td><td>59           </td></tr>\n",
       "\t<tr><td>Utrecht      </td><td>53           </td></tr>\n",
       "\t<tr><td>Heracles     </td><td>51           </td></tr>\n",
       "\t<tr><td>Groningen    </td><td>50           </td></tr>\n",
       "\t<tr><td>PEC          </td><td>48           </td></tr>\n",
       "\t<tr><td>Vitesse      </td><td>46           </td></tr>\n",
       "\t<tr><td>NEC          </td><td>46           </td></tr>\n",
       "\t<tr><td>ADO          </td><td>43           </td></tr>\n",
       "\t<tr><td>Heereveen    </td><td>42           </td></tr>\n",
       "\t<tr><td>Twente       </td><td>40           </td></tr>\n",
       "\t<tr><td>Roda         </td><td>34           </td></tr>\n",
       "\t<tr><td>Excelsior    </td><td>30           </td></tr>\n",
       "\t<tr><td>Willem II    </td><td>29           </td></tr>\n",
       "\t<tr><td>De Graafschap</td><td>23           </td></tr>\n",
       "\t<tr><td>Cambuur      </td><td>18           </td></tr>\n",
       "\t<tr><td>NA           </td><td>NA           </td></tr>\n",
       "\t<tr><td>NA           </td><td>NA           </td></tr>\n",
       "</tbody>\n",
       "</table>\n"
      ],
      "text/latex": [
       "\\begin{tabular}{r|ll}\n",
       " club & points\\\\\n",
       "\\hline\n",
       "\t Club          & Points       \\\\\n",
       "\t PSV           & 84           \\\\\n",
       "\t Ajax          & 82           \\\\\n",
       "\t Feyenoord     & 63           \\\\\n",
       "\t AZ            & 59           \\\\\n",
       "\t Utrecht       & 53           \\\\\n",
       "\t Heracles      & 51           \\\\\n",
       "\t Groningen     & 50           \\\\\n",
       "\t PEC           & 48           \\\\\n",
       "\t Vitesse       & 46           \\\\\n",
       "\t NEC           & 46           \\\\\n",
       "\t ADO           & 43           \\\\\n",
       "\t Heereveen     & 42           \\\\\n",
       "\t Twente        & 40           \\\\\n",
       "\t Roda          & 34           \\\\\n",
       "\t Excelsior     & 30           \\\\\n",
       "\t Willem II     & 29           \\\\\n",
       "\t De Graafschap & 23           \\\\\n",
       "\t Cambuur       & 18           \\\\\n",
       "\t NA            & NA           \\\\\n",
       "\t NA            & NA           \\\\\n",
       "\\end{tabular}\n"
      ],
      "text/plain": [
       "   club          points\n",
       "1  Club          Points\n",
       "2  PSV           84    \n",
       "3  Ajax          82    \n",
       "4  Feyenoord     63    \n",
       "5  AZ            59    \n",
       "6  Utrecht       53    \n",
       "7  Heracles      51    \n",
       "8  Groningen     50    \n",
       "9  PEC           48    \n",
       "10 Vitesse       46    \n",
       "11 NEC           46    \n",
       "12 ADO           43    \n",
       "13 Heereveen     42    \n",
       "14 Twente        40    \n",
       "15 Roda          34    \n",
       "16 Excelsior     30    \n",
       "17 Willem II     29    \n",
       "18 De Graafschap 23    \n",
       "19 Cambuur       18    \n",
       "20 NA            NA    \n",
       "21 NA            NA    "
      ]
     },
     "metadata": {},
     "output_type": "display_data"
    }
   ],
   "source": [
    "setnames (fball, clubnames)\n",
    "fball"
   ]
  },
  {
   "cell_type": "markdown",
   "metadata": {},
   "source": [
    "We still have an observation that we want (row 1). But we also don't want the (empty) observations in rows 20 en 21. We will subset the datatable to get rid of these obervations in 2 steps, because removing one observation changes the numbering of the rows. We will start with removing row 1."
   ]
  },
  {
   "cell_type": "code",
   "execution_count": 6,
   "metadata": {
    "collapsed": false
   },
   "outputs": [
    {
     "data": {
      "text/html": [
       "<table>\n",
       "<thead><tr><th scope=col>club</th><th scope=col>points</th></tr></thead>\n",
       "<tbody>\n",
       "\t<tr><td>PSV          </td><td>84           </td></tr>\n",
       "\t<tr><td>Ajax         </td><td>82           </td></tr>\n",
       "\t<tr><td>Feyenoord    </td><td>63           </td></tr>\n",
       "\t<tr><td>AZ           </td><td>59           </td></tr>\n",
       "\t<tr><td>Utrecht      </td><td>53           </td></tr>\n",
       "\t<tr><td>Heracles     </td><td>51           </td></tr>\n",
       "\t<tr><td>Groningen    </td><td>50           </td></tr>\n",
       "\t<tr><td>PEC          </td><td>48           </td></tr>\n",
       "\t<tr><td>Vitesse      </td><td>46           </td></tr>\n",
       "\t<tr><td>NEC          </td><td>46           </td></tr>\n",
       "\t<tr><td>ADO          </td><td>43           </td></tr>\n",
       "\t<tr><td>Heereveen    </td><td>42           </td></tr>\n",
       "\t<tr><td>Twente       </td><td>40           </td></tr>\n",
       "\t<tr><td>Roda         </td><td>34           </td></tr>\n",
       "\t<tr><td>Excelsior    </td><td>30           </td></tr>\n",
       "\t<tr><td>Willem II    </td><td>29           </td></tr>\n",
       "\t<tr><td>De Graafschap</td><td>23           </td></tr>\n",
       "\t<tr><td>Cambuur      </td><td>18           </td></tr>\n",
       "\t<tr><td>NA           </td><td>NA           </td></tr>\n",
       "\t<tr><td>NA           </td><td>NA           </td></tr>\n",
       "</tbody>\n",
       "</table>\n"
      ],
      "text/latex": [
       "\\begin{tabular}{r|ll}\n",
       " club & points\\\\\n",
       "\\hline\n",
       "\t PSV           & 84           \\\\\n",
       "\t Ajax          & 82           \\\\\n",
       "\t Feyenoord     & 63           \\\\\n",
       "\t AZ            & 59           \\\\\n",
       "\t Utrecht       & 53           \\\\\n",
       "\t Heracles      & 51           \\\\\n",
       "\t Groningen     & 50           \\\\\n",
       "\t PEC           & 48           \\\\\n",
       "\t Vitesse       & 46           \\\\\n",
       "\t NEC           & 46           \\\\\n",
       "\t ADO           & 43           \\\\\n",
       "\t Heereveen     & 42           \\\\\n",
       "\t Twente        & 40           \\\\\n",
       "\t Roda          & 34           \\\\\n",
       "\t Excelsior     & 30           \\\\\n",
       "\t Willem II     & 29           \\\\\n",
       "\t De Graafschap & 23           \\\\\n",
       "\t Cambuur       & 18           \\\\\n",
       "\t NA            & NA           \\\\\n",
       "\t NA            & NA           \\\\\n",
       "\\end{tabular}\n"
      ],
      "text/plain": [
       "   club          points\n",
       "1  PSV           84    \n",
       "2  Ajax          82    \n",
       "3  Feyenoord     63    \n",
       "4  AZ            59    \n",
       "5  Utrecht       53    \n",
       "6  Heracles      51    \n",
       "7  Groningen     50    \n",
       "8  PEC           48    \n",
       "9  Vitesse       46    \n",
       "10 NEC           46    \n",
       "11 ADO           43    \n",
       "12 Heereveen     42    \n",
       "13 Twente        40    \n",
       "14 Roda          34    \n",
       "15 Excelsior     30    \n",
       "16 Willem II     29    \n",
       "17 De Graafschap 23    \n",
       "18 Cambuur       18    \n",
       "19 NA            NA    \n",
       "20 NA            NA    "
      ]
     },
     "metadata": {},
     "output_type": "display_data"
    }
   ],
   "source": [
    "\n",
    "fball <- fball[ -1 , ]\n",
    "\n",
    "\n",
    "fball"
   ]
  },
  {
   "cell_type": "markdown",
   "metadata": {},
   "source": [
    "We now want to remover rows 19 and 20:"
   ]
  },
  {
   "cell_type": "code",
   "execution_count": 7,
   "metadata": {
    "collapsed": false
   },
   "outputs": [
    {
     "data": {
      "text/html": [
       "<table>\n",
       "<thead><tr><th scope=col>club</th><th scope=col>points</th></tr></thead>\n",
       "<tbody>\n",
       "\t<tr><td>PSV          </td><td>84           </td></tr>\n",
       "\t<tr><td>Ajax         </td><td>82           </td></tr>\n",
       "\t<tr><td>Feyenoord    </td><td>63           </td></tr>\n",
       "\t<tr><td>AZ           </td><td>59           </td></tr>\n",
       "\t<tr><td>Utrecht      </td><td>53           </td></tr>\n",
       "\t<tr><td>Heracles     </td><td>51           </td></tr>\n",
       "\t<tr><td>Groningen    </td><td>50           </td></tr>\n",
       "\t<tr><td>PEC          </td><td>48           </td></tr>\n",
       "\t<tr><td>Vitesse      </td><td>46           </td></tr>\n",
       "\t<tr><td>NEC          </td><td>46           </td></tr>\n",
       "\t<tr><td>ADO          </td><td>43           </td></tr>\n",
       "\t<tr><td>Heereveen    </td><td>42           </td></tr>\n",
       "\t<tr><td>Twente       </td><td>40           </td></tr>\n",
       "\t<tr><td>Roda         </td><td>34           </td></tr>\n",
       "\t<tr><td>Excelsior    </td><td>30           </td></tr>\n",
       "\t<tr><td>Willem II    </td><td>29           </td></tr>\n",
       "\t<tr><td>De Graafschap</td><td>23           </td></tr>\n",
       "\t<tr><td>Cambuur      </td><td>18           </td></tr>\n",
       "</tbody>\n",
       "</table>\n"
      ],
      "text/latex": [
       "\\begin{tabular}{r|ll}\n",
       " club & points\\\\\n",
       "\\hline\n",
       "\t PSV           & 84           \\\\\n",
       "\t Ajax          & 82           \\\\\n",
       "\t Feyenoord     & 63           \\\\\n",
       "\t AZ            & 59           \\\\\n",
       "\t Utrecht       & 53           \\\\\n",
       "\t Heracles      & 51           \\\\\n",
       "\t Groningen     & 50           \\\\\n",
       "\t PEC           & 48           \\\\\n",
       "\t Vitesse       & 46           \\\\\n",
       "\t NEC           & 46           \\\\\n",
       "\t ADO           & 43           \\\\\n",
       "\t Heereveen     & 42           \\\\\n",
       "\t Twente        & 40           \\\\\n",
       "\t Roda          & 34           \\\\\n",
       "\t Excelsior     & 30           \\\\\n",
       "\t Willem II     & 29           \\\\\n",
       "\t De Graafschap & 23           \\\\\n",
       "\t Cambuur       & 18           \\\\\n",
       "\\end{tabular}\n"
      ],
      "text/plain": [
       "   club          points\n",
       "1  PSV           84    \n",
       "2  Ajax          82    \n",
       "3  Feyenoord     63    \n",
       "4  AZ            59    \n",
       "5  Utrecht       53    \n",
       "6  Heracles      51    \n",
       "7  Groningen     50    \n",
       "8  PEC           48    \n",
       "9  Vitesse       46    \n",
       "10 NEC           46    \n",
       "11 ADO           43    \n",
       "12 Heereveen     42    \n",
       "13 Twente        40    \n",
       "14 Roda          34    \n",
       "15 Excelsior     30    \n",
       "16 Willem II     29    \n",
       "17 De Graafschap 23    \n",
       "18 Cambuur       18    "
      ]
     },
     "metadata": {},
     "output_type": "display_data"
    }
   ],
   "source": [
    "fball <- fball[-19:-20,]\n",
    "fball"
   ]
  },
  {
   "cell_type": "markdown",
   "metadata": {},
   "source": [
    "Now that we have our first data, we want to add the data of our second sheet about budgets in the excel file. We will do the same procedure. In this case we do not use the number of the sheet, but we will use the alternative of using the name of the sheet."
   ]
  },
  {
   "cell_type": "code",
   "execution_count": 8,
   "metadata": {
    "collapsed": false
   },
   "outputs": [
    {
     "data": {
      "text/html": [
       "<table>\n",
       "<thead><tr><th scope=col>Eredivisie 2015/2016</th><th scope=col>V2</th></tr></thead>\n",
       "<tbody>\n",
       "\t<tr><td>Club         </td><td>Budget       </td></tr>\n",
       "\t<tr><td>PSV          </td><td>63           </td></tr>\n",
       "\t<tr><td>Ajax         </td><td>65           </td></tr>\n",
       "\t<tr><td>Feyenoord    </td><td>50           </td></tr>\n",
       "\t<tr><td>AZ           </td><td>28           </td></tr>\n",
       "\t<tr><td>Utrecht      </td><td>17           </td></tr>\n",
       "\t<tr><td>Heracles     </td><td>10           </td></tr>\n",
       "\t<tr><td>Groningen    </td><td>22           </td></tr>\n",
       "\t<tr><td>PEC          </td><td>9            </td></tr>\n",
       "\t<tr><td>Vitesse      </td><td>28           </td></tr>\n",
       "\t<tr><td>NEC          </td><td>11           </td></tr>\n",
       "\t<tr><td>ADO          </td><td>13           </td></tr>\n",
       "\t<tr><td>Heereveen    </td><td>22           </td></tr>\n",
       "\t<tr><td>Twente       </td><td>36           </td></tr>\n",
       "\t<tr><td>Roda         </td><td>10           </td></tr>\n",
       "\t<tr><td>Excelsior    </td><td>5            </td></tr>\n",
       "\t<tr><td>Willem II    </td><td>9            </td></tr>\n",
       "\t<tr><td>De Graafschap</td><td>7            </td></tr>\n",
       "\t<tr><td>Cambuur      </td><td>7            </td></tr>\n",
       "\t<tr><td>NA           </td><td>NA           </td></tr>\n",
       "\t<tr><td>NA           </td><td>NA           </td></tr>\n",
       "</tbody>\n",
       "</table>\n"
      ],
      "text/latex": [
       "\\begin{tabular}{r|ll}\n",
       " Eredivisie 2015/2016 & V2\\\\\n",
       "\\hline\n",
       "\t Club          & Budget       \\\\\n",
       "\t PSV           & 63           \\\\\n",
       "\t Ajax          & 65           \\\\\n",
       "\t Feyenoord     & 50           \\\\\n",
       "\t AZ            & 28           \\\\\n",
       "\t Utrecht       & 17           \\\\\n",
       "\t Heracles      & 10           \\\\\n",
       "\t Groningen     & 22           \\\\\n",
       "\t PEC           & 9            \\\\\n",
       "\t Vitesse       & 28           \\\\\n",
       "\t NEC           & 11           \\\\\n",
       "\t ADO           & 13           \\\\\n",
       "\t Heereveen     & 22           \\\\\n",
       "\t Twente        & 36           \\\\\n",
       "\t Roda          & 10           \\\\\n",
       "\t Excelsior     & 5            \\\\\n",
       "\t Willem II     & 9            \\\\\n",
       "\t De Graafschap & 7            \\\\\n",
       "\t Cambuur       & 7            \\\\\n",
       "\t NA            & NA           \\\\\n",
       "\t NA            & NA           \\\\\n",
       "\\end{tabular}\n"
      ],
      "text/plain": [
       "   Eredivisie 2015/2016 V2    \n",
       "1  Club                 Budget\n",
       "2  PSV                  63    \n",
       "3  Ajax                 65    \n",
       "4  Feyenoord            50    \n",
       "5  AZ                   28    \n",
       "6  Utrecht              17    \n",
       "7  Heracles             10    \n",
       "8  Groningen            22    \n",
       "9  PEC                  9     \n",
       "10 Vitesse              28    \n",
       "11 NEC                  11    \n",
       "12 ADO                  13    \n",
       "13 Heereveen            22    \n",
       "14 Twente               36    \n",
       "15 Roda                 10    \n",
       "16 Excelsior            5     \n",
       "17 Willem II            9     \n",
       "18 De Graafschap        7     \n",
       "19 Cambuur              7     \n",
       "20 NA                   NA    \n",
       "21 NA                   NA    "
      ]
     },
     "metadata": {},
     "output_type": "display_data"
    }
   ],
   "source": [
    "fbudget <- data.table( read_excel( 'football.xlsx' , 'Budgets' ) )\n",
    "fbudget"
   ]
  },
  {
   "cell_type": "code",
   "execution_count": 9,
   "metadata": {
    "collapsed": false
   },
   "outputs": [
    {
     "data": {
      "text/html": [
       "<ol class=list-inline>\n",
       "\t<li>'club'</li>\n",
       "\t<li>'budget'</li>\n",
       "</ol>\n"
      ],
      "text/latex": [
       "\\begin{enumerate*}\n",
       "\\item 'club'\n",
       "\\item 'budget'\n",
       "\\end{enumerate*}\n"
      ],
      "text/markdown": [
       "1. 'club'\n",
       "2. 'budget'\n",
       "\n",
       "\n"
      ],
      "text/plain": [
       "[1] \"club\"   \"budget\""
      ]
     },
     "metadata": {},
     "output_type": "display_data"
    }
   ],
   "source": [
    "clubbudget <-c(\"club\", \"budget\")\n",
    "clubbudget"
   ]
  },
  {
   "cell_type": "markdown",
   "metadata": {},
   "source": [
    "Now we merge the datasets again."
   ]
  },
  {
   "cell_type": "code",
   "execution_count": 10,
   "metadata": {
    "collapsed": false
   },
   "outputs": [
    {
     "data": {
      "text/html": [
       "<table>\n",
       "<thead><tr><th scope=col>club</th><th scope=col>budget</th></tr></thead>\n",
       "<tbody>\n",
       "\t<tr><td>Club         </td><td>Budget       </td></tr>\n",
       "\t<tr><td>PSV          </td><td>63           </td></tr>\n",
       "\t<tr><td>Ajax         </td><td>65           </td></tr>\n",
       "\t<tr><td>Feyenoord    </td><td>50           </td></tr>\n",
       "\t<tr><td>AZ           </td><td>28           </td></tr>\n",
       "\t<tr><td>Utrecht      </td><td>17           </td></tr>\n",
       "\t<tr><td>Heracles     </td><td>10           </td></tr>\n",
       "\t<tr><td>Groningen    </td><td>22           </td></tr>\n",
       "\t<tr><td>PEC          </td><td>9            </td></tr>\n",
       "\t<tr><td>Vitesse      </td><td>28           </td></tr>\n",
       "\t<tr><td>NEC          </td><td>11           </td></tr>\n",
       "\t<tr><td>ADO          </td><td>13           </td></tr>\n",
       "\t<tr><td>Heereveen    </td><td>22           </td></tr>\n",
       "\t<tr><td>Twente       </td><td>36           </td></tr>\n",
       "\t<tr><td>Roda         </td><td>10           </td></tr>\n",
       "\t<tr><td>Excelsior    </td><td>5            </td></tr>\n",
       "\t<tr><td>Willem II    </td><td>9            </td></tr>\n",
       "\t<tr><td>De Graafschap</td><td>7            </td></tr>\n",
       "\t<tr><td>Cambuur      </td><td>7            </td></tr>\n",
       "\t<tr><td>NA           </td><td>NA           </td></tr>\n",
       "\t<tr><td>NA           </td><td>NA           </td></tr>\n",
       "</tbody>\n",
       "</table>\n"
      ],
      "text/latex": [
       "\\begin{tabular}{r|ll}\n",
       " club & budget\\\\\n",
       "\\hline\n",
       "\t Club          & Budget       \\\\\n",
       "\t PSV           & 63           \\\\\n",
       "\t Ajax          & 65           \\\\\n",
       "\t Feyenoord     & 50           \\\\\n",
       "\t AZ            & 28           \\\\\n",
       "\t Utrecht       & 17           \\\\\n",
       "\t Heracles      & 10           \\\\\n",
       "\t Groningen     & 22           \\\\\n",
       "\t PEC           & 9            \\\\\n",
       "\t Vitesse       & 28           \\\\\n",
       "\t NEC           & 11           \\\\\n",
       "\t ADO           & 13           \\\\\n",
       "\t Heereveen     & 22           \\\\\n",
       "\t Twente        & 36           \\\\\n",
       "\t Roda          & 10           \\\\\n",
       "\t Excelsior     & 5            \\\\\n",
       "\t Willem II     & 9            \\\\\n",
       "\t De Graafschap & 7            \\\\\n",
       "\t Cambuur       & 7            \\\\\n",
       "\t NA            & NA           \\\\\n",
       "\t NA            & NA           \\\\\n",
       "\\end{tabular}\n"
      ],
      "text/plain": [
       "   club          budget\n",
       "1  Club          Budget\n",
       "2  PSV           63    \n",
       "3  Ajax          65    \n",
       "4  Feyenoord     50    \n",
       "5  AZ            28    \n",
       "6  Utrecht       17    \n",
       "7  Heracles      10    \n",
       "8  Groningen     22    \n",
       "9  PEC           9     \n",
       "10 Vitesse       28    \n",
       "11 NEC           11    \n",
       "12 ADO           13    \n",
       "13 Heereveen     22    \n",
       "14 Twente        36    \n",
       "15 Roda          10    \n",
       "16 Excelsior     5     \n",
       "17 Willem II     9     \n",
       "18 De Graafschap 7     \n",
       "19 Cambuur       7     \n",
       "20 NA            NA    \n",
       "21 NA            NA    "
      ]
     },
     "metadata": {},
     "output_type": "display_data"
    }
   ],
   "source": [
    "setnames (fbudget, clubbudget)\n",
    "fbudget"
   ]
  },
  {
   "cell_type": "markdown",
   "metadata": {},
   "source": [
    "Now we have to get rid of the first observation. But we will first remove the NA's. We will do this in another way than above."
   ]
  },
  {
   "cell_type": "code",
   "execution_count": 11,
   "metadata": {
    "collapsed": false
   },
   "outputs": [
    {
     "data": {
      "text/html": [
       "<table>\n",
       "<thead><tr><th scope=col>club</th><th scope=col>budget</th></tr></thead>\n",
       "<tbody>\n",
       "\t<tr><td>Club         </td><td>Budget       </td></tr>\n",
       "\t<tr><td>PSV          </td><td>63           </td></tr>\n",
       "\t<tr><td>Ajax         </td><td>65           </td></tr>\n",
       "\t<tr><td>Feyenoord    </td><td>50           </td></tr>\n",
       "\t<tr><td>AZ           </td><td>28           </td></tr>\n",
       "\t<tr><td>Utrecht      </td><td>17           </td></tr>\n",
       "\t<tr><td>Heracles     </td><td>10           </td></tr>\n",
       "\t<tr><td>Groningen    </td><td>22           </td></tr>\n",
       "\t<tr><td>PEC          </td><td>9            </td></tr>\n",
       "\t<tr><td>Vitesse      </td><td>28           </td></tr>\n",
       "\t<tr><td>NEC          </td><td>11           </td></tr>\n",
       "\t<tr><td>ADO          </td><td>13           </td></tr>\n",
       "\t<tr><td>Heereveen    </td><td>22           </td></tr>\n",
       "\t<tr><td>Twente       </td><td>36           </td></tr>\n",
       "\t<tr><td>Roda         </td><td>10           </td></tr>\n",
       "\t<tr><td>Excelsior    </td><td>5            </td></tr>\n",
       "\t<tr><td>Willem II    </td><td>9            </td></tr>\n",
       "\t<tr><td>De Graafschap</td><td>7            </td></tr>\n",
       "\t<tr><td>Cambuur      </td><td>7            </td></tr>\n",
       "</tbody>\n",
       "</table>\n"
      ],
      "text/latex": [
       "\\begin{tabular}{r|ll}\n",
       " club & budget\\\\\n",
       "\\hline\n",
       "\t Club          & Budget       \\\\\n",
       "\t PSV           & 63           \\\\\n",
       "\t Ajax          & 65           \\\\\n",
       "\t Feyenoord     & 50           \\\\\n",
       "\t AZ            & 28           \\\\\n",
       "\t Utrecht       & 17           \\\\\n",
       "\t Heracles      & 10           \\\\\n",
       "\t Groningen     & 22           \\\\\n",
       "\t PEC           & 9            \\\\\n",
       "\t Vitesse       & 28           \\\\\n",
       "\t NEC           & 11           \\\\\n",
       "\t ADO           & 13           \\\\\n",
       "\t Heereveen     & 22           \\\\\n",
       "\t Twente        & 36           \\\\\n",
       "\t Roda          & 10           \\\\\n",
       "\t Excelsior     & 5            \\\\\n",
       "\t Willem II     & 9            \\\\\n",
       "\t De Graafschap & 7            \\\\\n",
       "\t Cambuur       & 7            \\\\\n",
       "\\end{tabular}\n"
      ],
      "text/plain": [
       "   club          budget\n",
       "1  Club          Budget\n",
       "2  PSV           63    \n",
       "3  Ajax          65    \n",
       "4  Feyenoord     50    \n",
       "5  AZ            28    \n",
       "6  Utrecht       17    \n",
       "7  Heracles      10    \n",
       "8  Groningen     22    \n",
       "9  PEC           9     \n",
       "10 Vitesse       28    \n",
       "11 NEC           11    \n",
       "12 ADO           13    \n",
       "13 Heereveen     22    \n",
       "14 Twente        36    \n",
       "15 Roda          10    \n",
       "16 Excelsior     5     \n",
       "17 Willem II     9     \n",
       "18 De Graafschap 7     \n",
       "19 Cambuur       7     "
      ]
     },
     "metadata": {},
     "output_type": "display_data"
    }
   ],
   "source": [
    "na.omit(fbudget)"
   ]
  },
  {
   "cell_type": "code",
   "execution_count": 12,
   "metadata": {
    "collapsed": false
   },
   "outputs": [
    {
     "data": {
      "text/html": [
       "<table>\n",
       "<thead><tr><th scope=col>club</th><th scope=col>budget</th></tr></thead>\n",
       "<tbody>\n",
       "\t<tr><td>PSV          </td><td>63           </td></tr>\n",
       "\t<tr><td>Ajax         </td><td>65           </td></tr>\n",
       "\t<tr><td>Feyenoord    </td><td>50           </td></tr>\n",
       "\t<tr><td>AZ           </td><td>28           </td></tr>\n",
       "\t<tr><td>Utrecht      </td><td>17           </td></tr>\n",
       "\t<tr><td>Heracles     </td><td>10           </td></tr>\n",
       "\t<tr><td>Groningen    </td><td>22           </td></tr>\n",
       "\t<tr><td>PEC          </td><td>9            </td></tr>\n",
       "\t<tr><td>Vitesse      </td><td>28           </td></tr>\n",
       "\t<tr><td>NEC          </td><td>11           </td></tr>\n",
       "\t<tr><td>ADO          </td><td>13           </td></tr>\n",
       "\t<tr><td>Heereveen    </td><td>22           </td></tr>\n",
       "\t<tr><td>Twente       </td><td>36           </td></tr>\n",
       "\t<tr><td>Roda         </td><td>10           </td></tr>\n",
       "\t<tr><td>Excelsior    </td><td>5            </td></tr>\n",
       "\t<tr><td>Willem II    </td><td>9            </td></tr>\n",
       "\t<tr><td>De Graafschap</td><td>7            </td></tr>\n",
       "\t<tr><td>Cambuur      </td><td>7            </td></tr>\n",
       "\t<tr><td>NA           </td><td>NA           </td></tr>\n",
       "\t<tr><td>NA           </td><td>NA           </td></tr>\n",
       "</tbody>\n",
       "</table>\n"
      ],
      "text/latex": [
       "\\begin{tabular}{r|ll}\n",
       " club & budget\\\\\n",
       "\\hline\n",
       "\t PSV           & 63           \\\\\n",
       "\t Ajax          & 65           \\\\\n",
       "\t Feyenoord     & 50           \\\\\n",
       "\t AZ            & 28           \\\\\n",
       "\t Utrecht       & 17           \\\\\n",
       "\t Heracles      & 10           \\\\\n",
       "\t Groningen     & 22           \\\\\n",
       "\t PEC           & 9            \\\\\n",
       "\t Vitesse       & 28           \\\\\n",
       "\t NEC           & 11           \\\\\n",
       "\t ADO           & 13           \\\\\n",
       "\t Heereveen     & 22           \\\\\n",
       "\t Twente        & 36           \\\\\n",
       "\t Roda          & 10           \\\\\n",
       "\t Excelsior     & 5            \\\\\n",
       "\t Willem II     & 9            \\\\\n",
       "\t De Graafschap & 7            \\\\\n",
       "\t Cambuur       & 7            \\\\\n",
       "\t NA            & NA           \\\\\n",
       "\t NA            & NA           \\\\\n",
       "\\end{tabular}\n"
      ],
      "text/plain": [
       "   club          budget\n",
       "1  PSV           63    \n",
       "2  Ajax          65    \n",
       "3  Feyenoord     50    \n",
       "4  AZ            28    \n",
       "5  Utrecht       17    \n",
       "6  Heracles      10    \n",
       "7  Groningen     22    \n",
       "8  PEC           9     \n",
       "9  Vitesse       28    \n",
       "10 NEC           11    \n",
       "11 ADO           13    \n",
       "12 Heereveen     22    \n",
       "13 Twente        36    \n",
       "14 Roda          10    \n",
       "15 Excelsior     5     \n",
       "16 Willem II     9     \n",
       "17 De Graafschap 7     \n",
       "18 Cambuur       7     \n",
       "19 NA            NA    \n",
       "20 NA            NA    "
      ]
     },
     "metadata": {},
     "output_type": "display_data"
    }
   ],
   "source": [
    "fbudget <- fbudget[ -1 , ]\n",
    "\n",
    "\n",
    "fbudget"
   ]
  },
  {
   "cell_type": "markdown",
   "metadata": {
    "collapsed": true
   },
   "source": []
  },
  {
   "cell_type": "markdown",
   "metadata": {},
   "source": [
    "We have two datasets ('fball' and 'fbudget') and we want to merge them together. In this case merging is simple, because we can only "
   ]
  },
  {
   "cell_type": "code",
   "execution_count": 13,
   "metadata": {
    "collapsed": false
   },
   "outputs": [
    {
     "data": {
      "text/html": [
       "<table>\n",
       "<thead><tr><th scope=col>club</th><th scope=col>points</th><th scope=col>budget</th></tr></thead>\n",
       "<tbody>\n",
       "\t<tr><td>ADO          </td><td>43           </td><td>13           </td></tr>\n",
       "\t<tr><td>AZ           </td><td>59           </td><td>28           </td></tr>\n",
       "\t<tr><td>Ajax         </td><td>82           </td><td>65           </td></tr>\n",
       "\t<tr><td>Cambuur      </td><td>18           </td><td>7            </td></tr>\n",
       "\t<tr><td>De Graafschap</td><td>23           </td><td>7            </td></tr>\n",
       "\t<tr><td>Excelsior    </td><td>30           </td><td>5            </td></tr>\n",
       "\t<tr><td>Feyenoord    </td><td>63           </td><td>50           </td></tr>\n",
       "\t<tr><td>Groningen    </td><td>50           </td><td>22           </td></tr>\n",
       "\t<tr><td>Heereveen    </td><td>42           </td><td>22           </td></tr>\n",
       "\t<tr><td>Heracles     </td><td>51           </td><td>10           </td></tr>\n",
       "\t<tr><td>NEC          </td><td>46           </td><td>11           </td></tr>\n",
       "\t<tr><td>PEC          </td><td>48           </td><td>9            </td></tr>\n",
       "\t<tr><td>PSV          </td><td>84           </td><td>63           </td></tr>\n",
       "\t<tr><td>Roda         </td><td>34           </td><td>10           </td></tr>\n",
       "\t<tr><td>Twente       </td><td>40           </td><td>36           </td></tr>\n",
       "\t<tr><td>Utrecht      </td><td>53           </td><td>17           </td></tr>\n",
       "\t<tr><td>Vitesse      </td><td>46           </td><td>28           </td></tr>\n",
       "\t<tr><td>Willem II    </td><td>29           </td><td>9            </td></tr>\n",
       "</tbody>\n",
       "</table>\n"
      ],
      "text/latex": [
       "\\begin{tabular}{r|lll}\n",
       " club & points & budget\\\\\n",
       "\\hline\n",
       "\t ADO           & 43            & 13           \\\\\n",
       "\t AZ            & 59            & 28           \\\\\n",
       "\t Ajax          & 82            & 65           \\\\\n",
       "\t Cambuur       & 18            & 7            \\\\\n",
       "\t De Graafschap & 23            & 7            \\\\\n",
       "\t Excelsior     & 30            & 5            \\\\\n",
       "\t Feyenoord     & 63            & 50           \\\\\n",
       "\t Groningen     & 50            & 22           \\\\\n",
       "\t Heereveen     & 42            & 22           \\\\\n",
       "\t Heracles      & 51            & 10           \\\\\n",
       "\t NEC           & 46            & 11           \\\\\n",
       "\t PEC           & 48            & 9            \\\\\n",
       "\t PSV           & 84            & 63           \\\\\n",
       "\t Roda          & 34            & 10           \\\\\n",
       "\t Twente        & 40            & 36           \\\\\n",
       "\t Utrecht       & 53            & 17           \\\\\n",
       "\t Vitesse       & 46            & 28           \\\\\n",
       "\t Willem II     & 29            & 9            \\\\\n",
       "\\end{tabular}\n"
      ],
      "text/plain": [
       "   club          points budget\n",
       "1  ADO           43     13    \n",
       "2  AZ            59     28    \n",
       "3  Ajax          82     65    \n",
       "4  Cambuur       18     7     \n",
       "5  De Graafschap 23     7     \n",
       "6  Excelsior     30     5     \n",
       "7  Feyenoord     63     50    \n",
       "8  Groningen     50     22    \n",
       "9  Heereveen     42     22    \n",
       "10 Heracles      51     10    \n",
       "11 NEC           46     11    \n",
       "12 PEC           48     9     \n",
       "13 PSV           84     63    \n",
       "14 Roda          34     10    \n",
       "15 Twente        40     36    \n",
       "16 Utrecht       53     17    \n",
       "17 Vitesse       46     28    \n",
       "18 Willem II     29     9     "
      ]
     },
     "metadata": {},
     "output_type": "display_data"
    }
   ],
   "source": [
    "total <- merge( fball ,fbudget,by=c(\"club\"))\n",
    "              \n",
    "total"
   ]
  },
  {
   "cell_type": "markdown",
   "metadata": {},
   "source": [
    "Before we manipulate the data, we need to check the structure of the data."
   ]
  },
  {
   "cell_type": "code",
   "execution_count": 14,
   "metadata": {
    "collapsed": false
   },
   "outputs": [
    {
     "name": "stdout",
     "output_type": "stream",
     "text": [
      "Classes ‘data.table’ and 'data.frame':\t18 obs. of  3 variables:\n",
      " $ club  : chr  \"ADO\" \"AZ\" \"Ajax\" \"Cambuur\" ...\n",
      " $ points: chr  \"43\" \"59\" \"82\" \"18\" ...\n",
      " $ budget: chr  \"13\" \"28\" \"65\" \"7\" ...\n",
      " - attr(*, \".internal.selfref\")=<externalptr> \n",
      " - attr(*, \"sorted\")= chr \"club\"\n"
     ]
    }
   ],
   "source": [
    "str(total)"
   ]
  },
  {
   "cell_type": "markdown",
   "metadata": {},
   "source": [
    "We observe that all variables are \"characters\" . However, we want \"points\" and \"budget\" to be numeric variables."
   ]
  },
  {
   "cell_type": "code",
   "execution_count": 15,
   "metadata": {
    "collapsed": false
   },
   "outputs": [
    {
     "data": {
      "text/html": [
       "<table>\n",
       "<thead><tr><th scope=col>club</th><th scope=col>points</th><th scope=col>budget</th></tr></thead>\n",
       "<tbody>\n",
       "\t<tr><td>ADO          </td><td>43           </td><td>13           </td></tr>\n",
       "\t<tr><td>AZ           </td><td>59           </td><td>28           </td></tr>\n",
       "\t<tr><td>Ajax         </td><td>82           </td><td>65           </td></tr>\n",
       "\t<tr><td>Cambuur      </td><td>18           </td><td>7            </td></tr>\n",
       "\t<tr><td>De Graafschap</td><td>23           </td><td>7            </td></tr>\n",
       "\t<tr><td>Excelsior    </td><td>30           </td><td>5            </td></tr>\n",
       "\t<tr><td>Feyenoord    </td><td>63           </td><td>50           </td></tr>\n",
       "\t<tr><td>Groningen    </td><td>50           </td><td>22           </td></tr>\n",
       "\t<tr><td>Heereveen    </td><td>42           </td><td>22           </td></tr>\n",
       "\t<tr><td>Heracles     </td><td>51           </td><td>10           </td></tr>\n",
       "\t<tr><td>NEC          </td><td>46           </td><td>11           </td></tr>\n",
       "\t<tr><td>PEC          </td><td>48           </td><td>9            </td></tr>\n",
       "\t<tr><td>PSV          </td><td>84           </td><td>63           </td></tr>\n",
       "\t<tr><td>Roda         </td><td>34           </td><td>10           </td></tr>\n",
       "\t<tr><td>Twente       </td><td>40           </td><td>36           </td></tr>\n",
       "\t<tr><td>Utrecht      </td><td>53           </td><td>17           </td></tr>\n",
       "\t<tr><td>Vitesse      </td><td>46           </td><td>28           </td></tr>\n",
       "\t<tr><td>Willem II    </td><td>29           </td><td>9            </td></tr>\n",
       "</tbody>\n",
       "</table>\n"
      ],
      "text/latex": [
       "\\begin{tabular}{r|lll}\n",
       " club & points & budget\\\\\n",
       "\\hline\n",
       "\t ADO           & 43            & 13           \\\\\n",
       "\t AZ            & 59            & 28           \\\\\n",
       "\t Ajax          & 82            & 65           \\\\\n",
       "\t Cambuur       & 18            & 7            \\\\\n",
       "\t De Graafschap & 23            & 7            \\\\\n",
       "\t Excelsior     & 30            & 5            \\\\\n",
       "\t Feyenoord     & 63            & 50           \\\\\n",
       "\t Groningen     & 50            & 22           \\\\\n",
       "\t Heereveen     & 42            & 22           \\\\\n",
       "\t Heracles      & 51            & 10           \\\\\n",
       "\t NEC           & 46            & 11           \\\\\n",
       "\t PEC           & 48            & 9            \\\\\n",
       "\t PSV           & 84            & 63           \\\\\n",
       "\t Roda          & 34            & 10           \\\\\n",
       "\t Twente        & 40            & 36           \\\\\n",
       "\t Utrecht       & 53            & 17           \\\\\n",
       "\t Vitesse       & 46            & 28           \\\\\n",
       "\t Willem II     & 29            & 9            \\\\\n",
       "\\end{tabular}\n"
      ],
      "text/plain": [
       "   club          points budget\n",
       "1  ADO           43     13    \n",
       "2  AZ            59     28    \n",
       "3  Ajax          82     65    \n",
       "4  Cambuur       18     7     \n",
       "5  De Graafschap 23     7     \n",
       "6  Excelsior     30     5     \n",
       "7  Feyenoord     63     50    \n",
       "8  Groningen     50     22    \n",
       "9  Heereveen     42     22    \n",
       "10 Heracles      51     10    \n",
       "11 NEC           46     11    \n",
       "12 PEC           48     9     \n",
       "13 PSV           84     63    \n",
       "14 Roda          34     10    \n",
       "15 Twente        40     36    \n",
       "16 Utrecht       53     17    \n",
       "17 Vitesse       46     28    \n",
       "18 Willem II     29     9     "
      ]
     },
     "metadata": {},
     "output_type": "display_data"
    },
    {
     "data": {
      "text/html": [
       "<table>\n",
       "<thead><tr><th scope=col>club</th><th scope=col>points</th><th scope=col>budget</th></tr></thead>\n",
       "<tbody>\n",
       "\t<tr><td>ADO          </td><td>43           </td><td>13           </td></tr>\n",
       "\t<tr><td>AZ           </td><td>59           </td><td>28           </td></tr>\n",
       "\t<tr><td>Ajax         </td><td>82           </td><td>65           </td></tr>\n",
       "\t<tr><td>Cambuur      </td><td>18           </td><td> 7           </td></tr>\n",
       "\t<tr><td>De Graafschap</td><td>23           </td><td> 7           </td></tr>\n",
       "\t<tr><td>Excelsior    </td><td>30           </td><td> 5           </td></tr>\n",
       "\t<tr><td>Feyenoord    </td><td>63           </td><td>50           </td></tr>\n",
       "\t<tr><td>Groningen    </td><td>50           </td><td>22           </td></tr>\n",
       "\t<tr><td>Heereveen    </td><td>42           </td><td>22           </td></tr>\n",
       "\t<tr><td>Heracles     </td><td>51           </td><td>10           </td></tr>\n",
       "\t<tr><td>NEC          </td><td>46           </td><td>11           </td></tr>\n",
       "\t<tr><td>PEC          </td><td>48           </td><td> 9           </td></tr>\n",
       "\t<tr><td>PSV          </td><td>84           </td><td>63           </td></tr>\n",
       "\t<tr><td>Roda         </td><td>34           </td><td>10           </td></tr>\n",
       "\t<tr><td>Twente       </td><td>40           </td><td>36           </td></tr>\n",
       "\t<tr><td>Utrecht      </td><td>53           </td><td>17           </td></tr>\n",
       "\t<tr><td>Vitesse      </td><td>46           </td><td>28           </td></tr>\n",
       "\t<tr><td>Willem II    </td><td>29           </td><td> 9           </td></tr>\n",
       "</tbody>\n",
       "</table>\n"
      ],
      "text/latex": [
       "\\begin{tabular}{r|lll}\n",
       " club & points & budget\\\\\n",
       "\\hline\n",
       "\t ADO           & 43            & 13           \\\\\n",
       "\t AZ            & 59            & 28           \\\\\n",
       "\t Ajax          & 82            & 65           \\\\\n",
       "\t Cambuur       & 18            &  7           \\\\\n",
       "\t De Graafschap & 23            &  7           \\\\\n",
       "\t Excelsior     & 30            &  5           \\\\\n",
       "\t Feyenoord     & 63            & 50           \\\\\n",
       "\t Groningen     & 50            & 22           \\\\\n",
       "\t Heereveen     & 42            & 22           \\\\\n",
       "\t Heracles      & 51            & 10           \\\\\n",
       "\t NEC           & 46            & 11           \\\\\n",
       "\t PEC           & 48            &  9           \\\\\n",
       "\t PSV           & 84            & 63           \\\\\n",
       "\t Roda          & 34            & 10           \\\\\n",
       "\t Twente        & 40            & 36           \\\\\n",
       "\t Utrecht       & 53            & 17           \\\\\n",
       "\t Vitesse       & 46            & 28           \\\\\n",
       "\t Willem II     & 29            &  9           \\\\\n",
       "\\end{tabular}\n"
      ],
      "text/plain": [
       "   club          points budget\n",
       "1  ADO           43     13    \n",
       "2  AZ            59     28    \n",
       "3  Ajax          82     65    \n",
       "4  Cambuur       18      7    \n",
       "5  De Graafschap 23      7    \n",
       "6  Excelsior     30      5    \n",
       "7  Feyenoord     63     50    \n",
       "8  Groningen     50     22    \n",
       "9  Heereveen     42     22    \n",
       "10 Heracles      51     10    \n",
       "11 NEC           46     11    \n",
       "12 PEC           48      9    \n",
       "13 PSV           84     63    \n",
       "14 Roda          34     10    \n",
       "15 Twente        40     36    \n",
       "16 Utrecht       53     17    \n",
       "17 Vitesse       46     28    \n",
       "18 Willem II     29      9    "
      ]
     },
     "metadata": {},
     "output_type": "display_data"
    },
    {
     "name": "stdout",
     "output_type": "stream",
     "text": [
      "Classes ‘data.table’ and 'data.frame':\t18 obs. of  3 variables:\n",
      " $ club  : chr  \"ADO\" \"AZ\" \"Ajax\" \"Cambuur\" ...\n",
      " $ points: num  43 59 82 18 23 30 63 50 42 51 ...\n",
      " $ budget: num  13 28 65 7 7 5 50 22 22 10 ...\n",
      " - attr(*, \".internal.selfref\")=<externalptr> \n",
      " - attr(*, \"sorted\")= chr \"club\"\n"
     ]
    }
   ],
   "source": [
    "total[ , points:=as.numeric( points )  ]\n",
    "total[ , budget:=as.numeric (budget  )]\n",
    "str(total)"
   ]
  },
  {
   "cell_type": "markdown",
   "metadata": {},
   "source": [
    "Our dataset is ready. Now we can explore the data. We can start with summary statistics."
   ]
  },
  {
   "cell_type": "code",
   "execution_count": 16,
   "metadata": {
    "collapsed": false
   },
   "outputs": [
    {
     "data": {
      "text/plain": [
       "     club               points          budget     \n",
       " Length:18          Min.   :18.00   Min.   : 5.00  \n",
       " Class :character   1st Qu.:35.50   1st Qu.: 9.25  \n",
       " Mode  :character   Median :46.00   Median :15.00  \n",
       "                    Mean   :46.72   Mean   :22.89  \n",
       "                    3rd Qu.:52.50   3rd Qu.:28.00  \n",
       "                    Max.   :84.00   Max.   :65.00  "
      ]
     },
     "metadata": {},
     "output_type": "display_data"
    }
   ],
   "source": [
    "summary(total)"
   ]
  },
  {
   "cell_type": "markdown",
   "metadata": {},
   "source": [
    "It is always a good idea to explore the data visually. We can use the package ggplot2 to plot nearly anything. We will provide some examples. Just have a look at the codes and the result. In lecture 2 will go more into the ggplot package."
   ]
  },
  {
   "cell_type": "code",
   "execution_count": 17,
   "metadata": {
    "collapsed": false
   },
   "outputs": [],
   "source": [
    "library(ggplot2)\n"
   ]
  },
  {
   "cell_type": "code",
   "execution_count": 18,
   "metadata": {
    "collapsed": false
   },
   "outputs": [
    {
     "data": {},
     "metadata": {},
     "output_type": "display_data"
    },
    {
     "data": {
      "image/png": "[encoded data removed]",
      "text/plain": [
       "plot without title"
      ]
     },
     "metadata": {},
     "output_type": "display_data"
    }
   ],
   "source": [
    "ggplot(total, aes(x=budget, y=points, label=club))  + geom_text() + geom_smooth(method=lm) "
   ]
  },
  {
   "cell_type": "markdown",
   "metadata": {},
   "source": [
    "We can also run a simple regression to estimate the relation between points and budget with the following code:"
   ]
  },
  {
   "cell_type": "code",
   "execution_count": 19,
   "metadata": {
    "collapsed": false
   },
   "outputs": [
    {
     "data": {
      "text/plain": [
       "\n",
       "Call:\n",
       "lm(formula = points ~ budget, data = total)\n",
       "\n",
       "Residuals:\n",
       "     Min       1Q   Median       3Q      Max \n",
       "-17.0932  -5.0668  -0.2798   7.5635  14.4730 \n",
       "\n",
       "Coefficients:\n",
       "            Estimate Std. Error t value Pr(>|t|)    \n",
       "(Intercept)   28.617      3.620   7.904 6.48e-07 ***\n",
       "budget         0.791      0.123   6.430 8.32e-06 ***\n",
       "---\n",
       "Signif. codes:  0 ‘***’ 0.001 ‘**’ 0.01 ‘*’ 0.05 ‘.’ 0.1 ‘ ’ 1\n",
       "\n",
       "Residual standard error: 9.655 on 16 degrees of freedom\n",
       "Multiple R-squared:  0.721,\tAdjusted R-squared:  0.7036 \n",
       "F-statistic: 41.35 on 1 and 16 DF,  p-value: 8.32e-06\n"
      ]
     },
     "metadata": {},
     "output_type": "display_data"
    }
   ],
   "source": [
    "reg <- lm (points ~ budget, data=total)\n",
    "summary(reg)"
   ]
  },
  {
   "cell_type": "code",
   "execution_count": null,
   "metadata": {
    "collapsed": true
   },
   "outputs": [],
   "source": []
  }
 ],
 "metadata": {
  "anaconda-cloud": {},
  "kernelspec": {
   "display_name": "R",
   "language": "R",
   "name": "ir"
  },
  "language_info": {
   "codemirror_mode": "r",
   "file_extension": ".r",
   "mimetype": "text/x-r-source",
   "name": "R",
   "pygments_lexer": "r",
   "version": "3.3.1"
  }
 },
 "nbformat": 4,
 "nbformat_minor": 1
}
