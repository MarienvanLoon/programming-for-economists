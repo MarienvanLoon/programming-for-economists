{
 "cells": [
  {
   "cell_type": "markdown",
   "metadata": {},
   "source": [
    "# From wide to long and vice versa\n",
    "\n",
    "Mark Klik & Misja Mikkers\n",
    "\n",
    "# Packages\n"
   ]
  },
  {
   "cell_type": "code",
   "execution_count": 3,
   "metadata": {
    "collapsed": false
   },
   "outputs": [
    {
     "name": "stderr",
     "output_type": "stream",
     "text": [
      "Warning message:\n",
      "\"package 'tidyverse' was built under R version 3.3.3\"-- Attaching packages --------------------------------------- tidyverse 1.2.1 --\n",
      "v ggplot2 2.2.1     v purrr   0.2.4\n",
      "v tibble  1.3.4     v dplyr   0.7.4\n",
      "v tidyr   0.7.2     v stringr 1.2.0\n",
      "v readr   1.1.1     v forcats 0.2.0\n",
      "Warning message:\n",
      "\"package 'ggplot2' was built under R version 3.3.3\"Warning message:\n",
      "\"package 'tibble' was built under R version 3.3.3\"Warning message:\n",
      "\"package 'tidyr' was built under R version 3.3.3\"Warning message:\n",
      "\"package 'readr' was built under R version 3.3.3\"Warning message:\n",
      "\"package 'purrr' was built under R version 3.3.3\"Warning message:\n",
      "\"package 'dplyr' was built under R version 3.3.3\"Warning message:\n",
      "\"package 'forcats' was built under R version 3.3.3\"-- Conflicts ------------------------------------------ tidyverse_conflicts() --\n",
      "x dplyr::filter() masks stats::filter()\n",
      "x dplyr::lag()    masks stats::lag()\n"
     ]
    }
   ],
   "source": [
    "library(tidyverse)"
   ]
  },
  {
   "cell_type": "markdown",
   "metadata": {},
   "source": [
    "# Introduction\n",
    "\n",
    "A dataset often looks like:"
   ]
  },
  {
   "cell_type": "code",
   "execution_count": 2,
   "metadata": {
    "collapsed": false
   },
   "outputs": [
    {
     "data": {
      "text/html": [
       "<table>\n",
       "<thead><tr><th scope=col>ID</th><th scope=col>Year_1</th><th scope=col>Year_2</th><th scope=col>Year_3</th><th scope=col>Year_4</th></tr></thead>\n",
       "<tbody>\n",
       "\t<tr><td>1</td><td>a</td><td>b</td><td>c</td><td>d</td></tr>\n",
       "\t<tr><td>2</td><td>e</td><td>f</td><td>g</td><td>h</td></tr>\n",
       "\t<tr><td>3</td><td>i</td><td>j</td><td>k</td><td>l</td></tr>\n",
       "</tbody>\n",
       "</table>\n"
      ],
      "text/latex": [
       "\\begin{tabular}{r|lllll}\n",
       " ID & Year\\_1 & Year\\_2 & Year\\_3 & Year\\_4\\\\\n",
       "\\hline\n",
       "\t 1 & a & b & c & d\\\\\n",
       "\t 2 & e & f & g & h\\\\\n",
       "\t 3 & i & j & k & l\\\\\n",
       "\\end{tabular}\n"
      ],
      "text/markdown": [
       "\n",
       "ID | Year_1 | Year_2 | Year_3 | Year_4 | \n",
       "|---|---|---|\n",
       "| 1 | a | b | c | d | \n",
       "| 2 | e | f | g | h | \n",
       "| 3 | i | j | k | l | \n",
       "\n",
       "\n"
      ],
      "text/plain": [
       "  ID Year_1 Year_2 Year_3 Year_4\n",
       "1 1  a      b      c      d     \n",
       "2 2  e      f      g      h     \n",
       "3 3  i      j      k      l     "
      ]
     },
     "metadata": {},
     "output_type": "display_data"
    }
   ],
   "source": [
    "data1 <- data.frame(\n",
    "  ID= c(1,2,3),\n",
    "  Year_1 = c(\"a\",\"e\",\"i\"),\n",
    "  Year_2 = c(\"b\", \"f\", \"j\"),\n",
    "  Year_3 = c(\"c\", \"g\", \"k\"),\n",
    "  Year_4 = c(\"d\", \"h\", \"l\"), stringsAsFactors = FALSE)\n",
    "data1"
   ]
  },
  {
   "cell_type": "markdown",
   "metadata": {},
   "source": [
    "But often we need the data to look like this:"
   ]
  },
  {
   "cell_type": "code",
   "execution_count": 3,
   "metadata": {
    "collapsed": false
   },
   "outputs": [
    {
     "name": "stderr",
     "output_type": "stream",
     "text": [
      "Warning message:\n",
      "\"package 'bindrcpp' was built under R version 3.3.3\""
     ]
    },
    {
     "data": {
      "text/html": [
       "<table>\n",
       "<thead><tr><th scope=col>ID</th><th scope=col>Year</th><th scope=col>Value</th></tr></thead>\n",
       "<tbody>\n",
       "\t<tr><td>1     </td><td>Year_1</td><td>a     </td></tr>\n",
       "\t<tr><td>1     </td><td>Year_2</td><td>b     </td></tr>\n",
       "\t<tr><td>1     </td><td>Year_3</td><td>c     </td></tr>\n",
       "\t<tr><td>1     </td><td>Year_4</td><td>d     </td></tr>\n",
       "\t<tr><td>2     </td><td>Year_1</td><td>e     </td></tr>\n",
       "\t<tr><td>2     </td><td>Year_2</td><td>f     </td></tr>\n",
       "\t<tr><td>2     </td><td>Year_3</td><td>g     </td></tr>\n",
       "\t<tr><td>2     </td><td>Year_4</td><td>h     </td></tr>\n",
       "\t<tr><td>3     </td><td>Year_1</td><td>i     </td></tr>\n",
       "\t<tr><td>3     </td><td>Year_2</td><td>j     </td></tr>\n",
       "\t<tr><td>3     </td><td>Year_3</td><td>k     </td></tr>\n",
       "\t<tr><td>3     </td><td>Year_4</td><td>l     </td></tr>\n",
       "</tbody>\n",
       "</table>\n"
      ],
      "text/latex": [
       "\\begin{tabular}{r|lll}\n",
       " ID & Year & Value\\\\\n",
       "\\hline\n",
       "\t 1        & Year\\_1 & a       \\\\\n",
       "\t 1        & Year\\_2 & b       \\\\\n",
       "\t 1        & Year\\_3 & c       \\\\\n",
       "\t 1        & Year\\_4 & d       \\\\\n",
       "\t 2        & Year\\_1 & e       \\\\\n",
       "\t 2        & Year\\_2 & f       \\\\\n",
       "\t 2        & Year\\_3 & g       \\\\\n",
       "\t 2        & Year\\_4 & h       \\\\\n",
       "\t 3        & Year\\_1 & i       \\\\\n",
       "\t 3        & Year\\_2 & j       \\\\\n",
       "\t 3        & Year\\_3 & k       \\\\\n",
       "\t 3        & Year\\_4 & l       \\\\\n",
       "\\end{tabular}\n"
      ],
      "text/markdown": [
       "\n",
       "ID | Year | Value | \n",
       "|---|---|---|---|---|---|---|---|---|---|---|---|\n",
       "| 1      | Year_1 | a      | \n",
       "| 1      | Year_2 | b      | \n",
       "| 1      | Year_3 | c      | \n",
       "| 1      | Year_4 | d      | \n",
       "| 2      | Year_1 | e      | \n",
       "| 2      | Year_2 | f      | \n",
       "| 2      | Year_3 | g      | \n",
       "| 2      | Year_4 | h      | \n",
       "| 3      | Year_1 | i      | \n",
       "| 3      | Year_2 | j      | \n",
       "| 3      | Year_3 | k      | \n",
       "| 3      | Year_4 | l      | \n",
       "\n",
       "\n"
      ],
      "text/plain": [
       "   ID Year   Value\n",
       "1  1  Year_1 a    \n",
       "2  1  Year_2 b    \n",
       "3  1  Year_3 c    \n",
       "4  1  Year_4 d    \n",
       "5  2  Year_1 e    \n",
       "6  2  Year_2 f    \n",
       "7  2  Year_3 g    \n",
       "8  2  Year_4 h    \n",
       "9  3  Year_1 i    \n",
       "10 3  Year_2 j    \n",
       "11 3  Year_3 k    \n",
       "12 3  Year_4 l    "
      ]
     },
     "metadata": {},
     "output_type": "display_data"
    }
   ],
   "source": [
    "data1a <-gather(data1, Year, Value, Year_1:Year_4) %>%\n",
    "    arrange(ID)\n",
    "data1a"
   ]
  },
  {
   "cell_type": "markdown",
   "metadata": {},
   "source": [
    "For the creation of figures, you often need a long format. In this notebook you will learn how to change dataframes from wide to long and vice versa."
   ]
  },
  {
   "cell_type": "markdown",
   "metadata": {},
   "source": [
    "# Example\n",
    "\n",
    "## Dataframe\n",
    "\n",
    "First, we create a wide dataframe:\n"
   ]
  },
  {
   "cell_type": "code",
   "execution_count": 1,
   "metadata": {
    "collapsed": false
   },
   "outputs": [
    {
     "data": {
      "text/html": [
       "<table>\n",
       "<thead><tr><th scope=col>ID</th><th scope=col>Year_1</th><th scope=col>Year_2</th><th scope=col>Year_3</th><th scope=col>Year_4</th></tr></thead>\n",
       "<tbody>\n",
       "\t<tr><td>1</td><td>a</td><td>b</td><td>c</td><td>d</td></tr>\n",
       "\t<tr><td>2</td><td>e</td><td>f</td><td>g</td><td>h</td></tr>\n",
       "\t<tr><td>3</td><td>i</td><td>j</td><td>k</td><td>l</td></tr>\n",
       "</tbody>\n",
       "</table>\n"
      ],
      "text/latex": [
       "\\begin{tabular}{r|lllll}\n",
       " ID & Year\\_1 & Year\\_2 & Year\\_3 & Year\\_4\\\\\n",
       "\\hline\n",
       "\t 1 & a & b & c & d\\\\\n",
       "\t 2 & e & f & g & h\\\\\n",
       "\t 3 & i & j & k & l\\\\\n",
       "\\end{tabular}\n"
      ],
      "text/markdown": [
       "\n",
       "ID | Year_1 | Year_2 | Year_3 | Year_4 | \n",
       "|---|---|---|\n",
       "| 1 | a | b | c | d | \n",
       "| 2 | e | f | g | h | \n",
       "| 3 | i | j | k | l | \n",
       "\n",
       "\n"
      ],
      "text/plain": [
       "  ID Year_1 Year_2 Year_3 Year_4\n",
       "1 1  a      b      c      d     \n",
       "2 2  e      f      g      h     \n",
       "3 3  i      j      k      l     "
      ]
     },
     "metadata": {},
     "output_type": "display_data"
    }
   ],
   "source": [
    "data1 <- data.frame(\n",
    "  ID= c(1,2,3),\n",
    "  Year_1 = c(\"a\",\"e\",\"i\"),\n",
    "  Year_2 = c(\"b\", \"f\", \"j\"),\n",
    "  Year_3 = c(\"c\", \"g\", \"k\"),\n",
    "  Year_4 = c(\"d\", \"h\", \"l\"),\n",
    "  stringsAsFactors = FALSE)\n",
    "data1\n"
   ]
  },
  {
   "cell_type": "markdown",
   "metadata": {},
   "source": [
    "## From _wide_ to _long_\n",
    "\n",
    "If we want to change the format from _wide_ to _long_ , we want to use the function `gather()` with the following syntax:\n",
    "\n",
    "\n",
    "`gather(data, key = \"key\", value = \"value\", ...,)`\n",
    "\n",
    "\n",
    "The parameter _key_ represents the name of that you want to give to the _key-column_ . (In our example we want to call this column  _Year_). For the parameter _value_ you choose the name for the _value-column_ (in our example _Value_). For the dots you need the fill in the columns that contain a  _value_  (in our case _Year_1_ until _Year_4_).\n",
    "\n",
    "The command works like this:\n"
   ]
  },
  {
   "cell_type": "code",
   "execution_count": 4,
   "metadata": {
    "collapsed": false
   },
   "outputs": [
    {
     "name": "stdout",
     "output_type": "stream",
     "text": [
      "   ID   Year Value\n",
      "1   1 Year_1     a\n",
      "2   2 Year_1     e\n",
      "3   3 Year_1     i\n",
      "4   1 Year_2     b\n",
      "5   2 Year_2     f\n",
      "6   3 Year_2     j\n",
      "7   1 Year_3     c\n",
      "8   2 Year_3     g\n",
      "9   3 Year_3     k\n",
      "10  1 Year_4     d\n",
      "11  2 Year_4     h\n",
      "12  3 Year_4     l\n"
     ]
    }
   ],
   "source": [
    "data2 <- data1 %>%\n",
    "  gather(Year, Value, Year_1:Year_4)\n",
    "print(data2)"
   ]
  },
  {
   "cell_type": "markdown",
   "metadata": {},
   "source": [
    "We can sort the dataframe on ID.\n"
   ]
  },
  {
   "cell_type": "code",
   "execution_count": 5,
   "metadata": {
    "collapsed": false
   },
   "outputs": [
    {
     "name": "stderr",
     "output_type": "stream",
     "text": [
      "Warning message:\n",
      "\"package 'bindrcpp' was built under R version 3.3.3\""
     ]
    },
    {
     "name": "stdout",
     "output_type": "stream",
     "text": [
      "   ID   Year Value\n",
      "1   1 Year_1     a\n",
      "2   1 Year_2     b\n",
      "3   1 Year_3     c\n",
      "4   1 Year_4     d\n",
      "5   2 Year_1     e\n",
      "6   2 Year_2     f\n",
      "7   2 Year_3     g\n",
      "8   2 Year_4     h\n",
      "9   3 Year_1     i\n",
      "10  3 Year_2     j\n",
      "11  3 Year_3     k\n",
      "12  3 Year_4     l\n"
     ]
    }
   ],
   "source": [
    "data2 <- data2 %>%\n",
    "  arrange(ID)\n",
    "print(data2)"
   ]
  },
  {
   "cell_type": "markdown",
   "metadata": {},
   "source": [
    "## From _long_ to _wide_\n",
    "\n",
    "We can reverse the process with the function `spread()`. This function has the following syntax:\n",
    "\n",
    "`spread(data, key, value, ...)`\n",
    "\n",
    "The parameter _key_ is the name of the column that contains the values to be spreaded (in our example _Year_). The parameter _value_ is the name of the column with _values_."
   ]
  },
  {
   "cell_type": "code",
   "execution_count": 6,
   "metadata": {
    "collapsed": false
   },
   "outputs": [
    {
     "name": "stdout",
     "output_type": "stream",
     "text": [
      "  ID Year_1 Year_2 Year_3 Year_4\n",
      "1  1      a      b      c      d\n",
      "2  2      e      f      g      h\n",
      "3  3      i      j      k      l\n"
     ]
    }
   ],
   "source": [
    "data3 <- data2 %>%\n",
    "  spread(Year, Value)\n",
    "print(data3)"
   ]
  },
  {
   "cell_type": "markdown",
   "metadata": {},
   "source": [
    "With this function you achieve the opposite of `gather()`:"
   ]
  },
  {
   "cell_type": "code",
   "execution_count": 7,
   "metadata": {
    "collapsed": false
   },
   "outputs": [
    {
     "data": {
      "text/html": [
       "<table>\n",
       "<thead><tr><th></th><th scope=col>ID</th><th scope=col>Year_1</th><th scope=col>Year_2</th><th scope=col>Year_3</th><th scope=col>Year_4</th></tr></thead>\n",
       "<tbody>\n",
       "\t<tr><th scope=row>1</th><td>TRUE</td><td>TRUE</td><td>TRUE</td><td>TRUE</td><td>TRUE</td></tr>\n",
       "\t<tr><th scope=row>2</th><td>TRUE</td><td>TRUE</td><td>TRUE</td><td>TRUE</td><td>TRUE</td></tr>\n",
       "\t<tr><th scope=row>3</th><td>TRUE</td><td>TRUE</td><td>TRUE</td><td>TRUE</td><td>TRUE</td></tr>\n",
       "</tbody>\n",
       "</table>\n"
      ],
      "text/latex": [
       "\\begin{tabular}{r|lllll}\n",
       "  & ID & Year\\_1 & Year\\_2 & Year\\_3 & Year\\_4\\\\\n",
       "\\hline\n",
       "\t1 & TRUE & TRUE & TRUE & TRUE & TRUE\\\\\n",
       "\t2 & TRUE & TRUE & TRUE & TRUE & TRUE\\\\\n",
       "\t3 & TRUE & TRUE & TRUE & TRUE & TRUE\\\\\n",
       "\\end{tabular}\n"
      ],
      "text/markdown": [
       "\n",
       "| <!--/--> | ID | Year_1 | Year_2 | Year_3 | Year_4 | \n",
       "|---|---|---|\n",
       "| 1 | TRUE | TRUE | TRUE | TRUE | TRUE | \n",
       "| 2 | TRUE | TRUE | TRUE | TRUE | TRUE | \n",
       "| 3 | TRUE | TRUE | TRUE | TRUE | TRUE | \n",
       "\n",
       "\n"
      ],
      "text/plain": [
       "  ID   Year_1 Year_2 Year_3 Year_4\n",
       "1 TRUE TRUE   TRUE   TRUE   TRUE  \n",
       "2 TRUE TRUE   TRUE   TRUE   TRUE  \n",
       "3 TRUE TRUE   TRUE   TRUE   TRUE  "
      ]
     },
     "metadata": {},
     "output_type": "display_data"
    }
   ],
   "source": [
    "dataTest <- data1 %>%\n",
    "  gather(Year, Value, Year_1:Year_4) %>%\n",
    "  spread(Year, Value)\n",
    "\n",
    "dataTest == data1"
   ]
  },
  {
   "cell_type": "markdown",
   "metadata": {},
   "source": [
    "# Assignment\n",
    "\n",
    "1. Read the file _groei.csv_ . Please note: because the _csv_ file containts numbers in the column names, R will put an X in front of the column names. Because we don't want the X, you need to add the command `check.names = FALSE`. Then the command will look something like this: `read.csv2(\"../Sourcedata/your_file_name.csv\", check.names = FALSE)`\n",
    "2.  Change the file to a _long_ format. Please note that you can't use numbers as column names in the function `gather()`, because R would think e.g. 2002 is column 2002. How to solve this?"
   ]
  },
  {
   "cell_type": "code",
   "execution_count": null,
   "metadata": {
    "collapsed": false
   },
   "outputs": [],
   "source": [
    "oecd1 <-\n",
    "  \n",
    "head(oecd1)\n",
    "oecd2 <-\n",
    "  \n",
    "\n",
    "head(oecd2)"
   ]
  },
  {
   "cell_type": "markdown",
   "metadata": {},
   "source": [
    "You can check whether the 2 methods deliver the same results with:\n",
    "\n"
   ]
  },
  {
   "cell_type": "code",
   "execution_count": 10,
   "metadata": {
    "collapsed": false
   },
   "outputs": [
    {
     "data": {
      "text/html": [
       "0"
      ],
      "text/latex": [
       "0"
      ],
      "text/markdown": [
       "0"
      ],
      "text/plain": [
       "[1] 0"
      ]
     },
     "metadata": {},
     "output_type": "display_data"
    }
   ],
   "source": [
    "sum(oecd1 != oecd2, na.rm = TRUE)"
   ]
  },
  {
   "cell_type": "markdown",
   "metadata": {},
   "source": [
    "No differences!\n",
    "\n",
    "End of Notebook"
   ]
  }
 ],
 "metadata": {
  "anaconda-cloud": {},
  "kernelspec": {
   "display_name": "R",
   "language": "R",
   "name": "ir"
  },
  "language_info": {
   "codemirror_mode": "r",
   "file_extension": ".r",
   "mimetype": "text/x-r-source",
   "name": "R",
   "pygments_lexer": "r",
   "version": "3.3.2"
  }
 },
 "nbformat": 4,
 "nbformat_minor": 1
}
