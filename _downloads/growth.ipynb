{
 "cells": [
  {
   "cell_type": "markdown",
   "metadata": {},
   "source": [
    "# Growth of health care cost"
   ]
  },
  {
   "cell_type": "markdown",
   "metadata": {},
   "source": [
    "First we load our data from the oecd. We will have the \"curative cost\" per country for a number of years. "
   ]
  },
  {
   "cell_type": "code",
   "execution_count": 22,
   "metadata": {
    "collapsed": false
   },
   "outputs": [
    {
     "data": {
      "text/html": [
       "<table>\n",
       "<thead><tr><th scope=col>Country</th><th scope=col>X2000</th><th scope=col>X2001</th><th scope=col>X2002</th><th scope=col>X2003</th><th scope=col>X2004</th><th scope=col>X2005</th><th scope=col>X2006</th><th scope=col>X2007</th><th scope=col>X2008</th><th scope=col>X2009</th><th scope=col>X2010</th><th scope=col>X2011</th><th scope=col>X2012</th><th scope=col>X2013</th></tr></thead>\n",
       "<tbody>\n",
       "\t<tr><td>Australia     </td><td>2279.5        </td><td>2386.6        </td><td>2484.5        </td><td>2560.6        </td><td>2684.0        </td><td>2694.1        </td><td>2765.5        </td><td>2837.1        </td><td>2873.5        </td><td>3003.0        </td><td>2980.2        </td><td>3082.8        </td><td>3148.5        </td><td>    NA        </td></tr>\n",
       "\t<tr><td>Austria       </td><td>2454.8        </td><td>2503.2        </td><td>2564.1        </td><td>2615.5        </td><td>2661.7        </td><td>2689.9        </td><td>2736.7        </td><td>2829.9        </td><td>2898.8        </td><td>2898.0        </td><td>2940.5        </td><td>2962.7        </td><td>3025.0        </td><td>3008.5        </td></tr>\n",
       "\t<tr><td>Canada        </td><td>2049.8        </td><td>2149.9        </td><td>2258.5        </td><td>2308.0        </td><td>2363.4        </td><td>2413.5        </td><td>2536.9        </td><td>2585.7        </td><td>2641.3        </td><td>2831.8        </td><td>2914.5        </td><td>2892.1        </td><td>2900.6        </td><td>2907.2        </td></tr>\n",
       "\t<tr><td>Czech Republic</td><td> 963.7        </td><td>1025.0        </td><td>1097.4        </td><td>1199.5        </td><td>1217.6        </td><td>1278.4        </td><td>1314.6        </td><td>1334.3        </td><td>1436.4        </td><td>1575.1        </td><td>1519.3        </td><td>1565.8        </td><td>1574.7        </td><td>1556.9        </td></tr>\n",
       "\t<tr><td>Denmark       </td><td>1903.7        </td><td>1977.5        </td><td>2050.7        </td><td>2116.8        </td><td>2183.7        </td><td>2245.3        </td><td>2360.2        </td><td>2372.2        </td><td>2403.2        </td><td>2547.2        </td><td>2511.0        </td><td>2485.1        </td><td>2465.9        </td><td>2446.9        </td></tr>\n",
       "\t<tr><td>Estonia       </td><td> 555.4        </td><td> 542.2        </td><td> 571.9        </td><td> 635.0        </td><td> 703.3        </td><td> 748.6        </td><td> 824.7        </td><td> 911.7        </td><td> 980.7        </td><td> 968.5        </td><td> 921.6        </td><td> 928.4        </td><td> 991.1        </td><td>1036.1        </td></tr>\n",
       "</tbody>\n",
       "</table>\n"
      ],
      "text/latex": [
       "\\begin{tabular}{r|lllllllllllllll}\n",
       " Country & X2000 & X2001 & X2002 & X2003 & X2004 & X2005 & X2006 & X2007 & X2008 & X2009 & X2010 & X2011 & X2012 & X2013\\\\\n",
       "\\hline\n",
       "\t Australia      & 2279.5         & 2386.6         & 2484.5         & 2560.6         & 2684.0         & 2694.1         & 2765.5         & 2837.1         & 2873.5         & 3003.0         & 2980.2         & 3082.8         & 3148.5         &     NA        \\\\\n",
       "\t Austria        & 2454.8         & 2503.2         & 2564.1         & 2615.5         & 2661.7         & 2689.9         & 2736.7         & 2829.9         & 2898.8         & 2898.0         & 2940.5         & 2962.7         & 3025.0         & 3008.5        \\\\\n",
       "\t Canada         & 2049.8         & 2149.9         & 2258.5         & 2308.0         & 2363.4         & 2413.5         & 2536.9         & 2585.7         & 2641.3         & 2831.8         & 2914.5         & 2892.1         & 2900.6         & 2907.2        \\\\\n",
       "\t Czech Republic &  963.7         & 1025.0         & 1097.4         & 1199.5         & 1217.6         & 1278.4         & 1314.6         & 1334.3         & 1436.4         & 1575.1         & 1519.3         & 1565.8         & 1574.7         & 1556.9        \\\\\n",
       "\t Denmark        & 1903.7         & 1977.5         & 2050.7         & 2116.8         & 2183.7         & 2245.3         & 2360.2         & 2372.2         & 2403.2         & 2547.2         & 2511.0         & 2485.1         & 2465.9         & 2446.9        \\\\\n",
       "\t Estonia        &  555.4         &  542.2         &  571.9         &  635.0         &  703.3         &  748.6         &  824.7         &  911.7         &  980.7         &  968.5         &  921.6         &  928.4         &  991.1         & 1036.1        \\\\\n",
       "\\end{tabular}\n"
      ],
      "text/markdown": [
       "\n",
       "Country | X2000 | X2001 | X2002 | X2003 | X2004 | X2005 | X2006 | X2007 | X2008 | X2009 | X2010 | X2011 | X2012 | X2013 | \n",
       "|---|---|---|---|---|---|\n",
       "| Australia      | 2279.5         | 2386.6         | 2484.5         | 2560.6         | 2684.0         | 2694.1         | 2765.5         | 2837.1         | 2873.5         | 3003.0         | 2980.2         | 3082.8         | 3148.5         |     NA         | \n",
       "| Austria        | 2454.8         | 2503.2         | 2564.1         | 2615.5         | 2661.7         | 2689.9         | 2736.7         | 2829.9         | 2898.8         | 2898.0         | 2940.5         | 2962.7         | 3025.0         | 3008.5         | \n",
       "| Canada         | 2049.8         | 2149.9         | 2258.5         | 2308.0         | 2363.4         | 2413.5         | 2536.9         | 2585.7         | 2641.3         | 2831.8         | 2914.5         | 2892.1         | 2900.6         | 2907.2         | \n",
       "| Czech Republic |  963.7         | 1025.0         | 1097.4         | 1199.5         | 1217.6         | 1278.4         | 1314.6         | 1334.3         | 1436.4         | 1575.1         | 1519.3         | 1565.8         | 1574.7         | 1556.9         | \n",
       "| Denmark        | 1903.7         | 1977.5         | 2050.7         | 2116.8         | 2183.7         | 2245.3         | 2360.2         | 2372.2         | 2403.2         | 2547.2         | 2511.0         | 2485.1         | 2465.9         | 2446.9         | \n",
       "| Estonia        |  555.4         |  542.2         |  571.9         |  635.0         |  703.3         |  748.6         |  824.7         |  911.7         |  980.7         |  968.5         |  921.6         |  928.4         |  991.1         | 1036.1         | \n",
       "\n",
       "\n"
      ],
      "text/plain": [
       "  Country        X2000  X2001  X2002  X2003  X2004  X2005  X2006  X2007  X2008 \n",
       "1 Australia      2279.5 2386.6 2484.5 2560.6 2684.0 2694.1 2765.5 2837.1 2873.5\n",
       "2 Austria        2454.8 2503.2 2564.1 2615.5 2661.7 2689.9 2736.7 2829.9 2898.8\n",
       "3 Canada         2049.8 2149.9 2258.5 2308.0 2363.4 2413.5 2536.9 2585.7 2641.3\n",
       "4 Czech Republic  963.7 1025.0 1097.4 1199.5 1217.6 1278.4 1314.6 1334.3 1436.4\n",
       "5 Denmark        1903.7 1977.5 2050.7 2116.8 2183.7 2245.3 2360.2 2372.2 2403.2\n",
       "6 Estonia         555.4  542.2  571.9  635.0  703.3  748.6  824.7  911.7  980.7\n",
       "  X2009  X2010  X2011  X2012  X2013 \n",
       "1 3003.0 2980.2 3082.8 3148.5     NA\n",
       "2 2898.0 2940.5 2962.7 3025.0 3008.5\n",
       "3 2831.8 2914.5 2892.1 2900.6 2907.2\n",
       "4 1575.1 1519.3 1565.8 1574.7 1556.9\n",
       "5 2547.2 2511.0 2485.1 2465.9 2446.9\n",
       "6  968.5  921.6  928.4  991.1 1036.1"
      ]
     },
     "metadata": {},
     "output_type": "display_data"
    }
   ],
   "source": [
    "gr <- read.csv2(\"cc.csv\")\n",
    "head(gr)"
   ]
  },
  {
   "cell_type": "markdown",
   "metadata": {},
   "source": [
    "You see that R added 'X' before the years. In this case, this is quite handy because we want to manipulate the data. E.g. if we would like to divide value in the year 2013 by the value in the year 2000, R would think you the numbers in stead of the values.\n",
    "\n",
    "If you don't want the x-s, you can use the command check.names=FALSE to prevent that. As an example:"
   ]
  },
  {
   "cell_type": "code",
   "execution_count": 40,
   "metadata": {
    "collapsed": false
   },
   "outputs": [
    {
     "data": {
      "text/html": [
       "<table>\n",
       "<thead><tr><th scope=col>Country</th><th scope=col>2000</th><th scope=col>2001</th><th scope=col>2002</th><th scope=col>2003</th><th scope=col>2004</th><th scope=col>2005</th><th scope=col>2006</th><th scope=col>2007</th><th scope=col>2008</th><th scope=col>2009</th><th scope=col>2010</th><th scope=col>2011</th><th scope=col>2012</th><th scope=col>2013</th></tr></thead>\n",
       "<tbody>\n",
       "\t<tr><td>Australia     </td><td>2279.5        </td><td>2386.6        </td><td>2484.5        </td><td>2560.6        </td><td>2684.0        </td><td>2694.1        </td><td>2765.5        </td><td>2837.1        </td><td>2873.5        </td><td>3003.0        </td><td>2980.2        </td><td>3082.8        </td><td>3148.5        </td><td>    NA        </td></tr>\n",
       "\t<tr><td>Austria       </td><td>2454.8        </td><td>2503.2        </td><td>2564.1        </td><td>2615.5        </td><td>2661.7        </td><td>2689.9        </td><td>2736.7        </td><td>2829.9        </td><td>2898.8        </td><td>2898.0        </td><td>2940.5        </td><td>2962.7        </td><td>3025.0        </td><td>3008.5        </td></tr>\n",
       "\t<tr><td>Canada        </td><td>2049.8        </td><td>2149.9        </td><td>2258.5        </td><td>2308.0        </td><td>2363.4        </td><td>2413.5        </td><td>2536.9        </td><td>2585.7        </td><td>2641.3        </td><td>2831.8        </td><td>2914.5        </td><td>2892.1        </td><td>2900.6        </td><td>2907.2        </td></tr>\n",
       "\t<tr><td>Czech Republic</td><td> 963.7        </td><td>1025.0        </td><td>1097.4        </td><td>1199.5        </td><td>1217.6        </td><td>1278.4        </td><td>1314.6        </td><td>1334.3        </td><td>1436.4        </td><td>1575.1        </td><td>1519.3        </td><td>1565.8        </td><td>1574.7        </td><td>1556.9        </td></tr>\n",
       "\t<tr><td>Denmark       </td><td>1903.7        </td><td>1977.5        </td><td>2050.7        </td><td>2116.8        </td><td>2183.7        </td><td>2245.3        </td><td>2360.2        </td><td>2372.2        </td><td>2403.2        </td><td>2547.2        </td><td>2511.0        </td><td>2485.1        </td><td>2465.9        </td><td>2446.9        </td></tr>\n",
       "\t<tr><td>Estonia       </td><td> 555.4        </td><td> 542.2        </td><td> 571.9        </td><td> 635.0        </td><td> 703.3        </td><td> 748.6        </td><td> 824.7        </td><td> 911.7        </td><td> 980.7        </td><td> 968.5        </td><td> 921.6        </td><td> 928.4        </td><td> 991.1        </td><td>1036.1        </td></tr>\n",
       "</tbody>\n",
       "</table>\n"
      ],
      "text/latex": [
       "\\begin{tabular}{r|lllllllllllllll}\n",
       " Country & 2000 & 2001 & 2002 & 2003 & 2004 & 2005 & 2006 & 2007 & 2008 & 2009 & 2010 & 2011 & 2012 & 2013\\\\\n",
       "\\hline\n",
       "\t Australia      & 2279.5         & 2386.6         & 2484.5         & 2560.6         & 2684.0         & 2694.1         & 2765.5         & 2837.1         & 2873.5         & 3003.0         & 2980.2         & 3082.8         & 3148.5         &     NA        \\\\\n",
       "\t Austria        & 2454.8         & 2503.2         & 2564.1         & 2615.5         & 2661.7         & 2689.9         & 2736.7         & 2829.9         & 2898.8         & 2898.0         & 2940.5         & 2962.7         & 3025.0         & 3008.5        \\\\\n",
       "\t Canada         & 2049.8         & 2149.9         & 2258.5         & 2308.0         & 2363.4         & 2413.5         & 2536.9         & 2585.7         & 2641.3         & 2831.8         & 2914.5         & 2892.1         & 2900.6         & 2907.2        \\\\\n",
       "\t Czech Republic &  963.7         & 1025.0         & 1097.4         & 1199.5         & 1217.6         & 1278.4         & 1314.6         & 1334.3         & 1436.4         & 1575.1         & 1519.3         & 1565.8         & 1574.7         & 1556.9        \\\\\n",
       "\t Denmark        & 1903.7         & 1977.5         & 2050.7         & 2116.8         & 2183.7         & 2245.3         & 2360.2         & 2372.2         & 2403.2         & 2547.2         & 2511.0         & 2485.1         & 2465.9         & 2446.9        \\\\\n",
       "\t Estonia        &  555.4         &  542.2         &  571.9         &  635.0         &  703.3         &  748.6         &  824.7         &  911.7         &  980.7         &  968.5         &  921.6         &  928.4         &  991.1         & 1036.1        \\\\\n",
       "\\end{tabular}\n"
      ],
      "text/markdown": [
       "\n",
       "Country | 2000 | 2001 | 2002 | 2003 | 2004 | 2005 | 2006 | 2007 | 2008 | 2009 | 2010 | 2011 | 2012 | 2013 | \n",
       "|---|---|---|---|---|---|\n",
       "| Australia      | 2279.5         | 2386.6         | 2484.5         | 2560.6         | 2684.0         | 2694.1         | 2765.5         | 2837.1         | 2873.5         | 3003.0         | 2980.2         | 3082.8         | 3148.5         |     NA         | \n",
       "| Austria        | 2454.8         | 2503.2         | 2564.1         | 2615.5         | 2661.7         | 2689.9         | 2736.7         | 2829.9         | 2898.8         | 2898.0         | 2940.5         | 2962.7         | 3025.0         | 3008.5         | \n",
       "| Canada         | 2049.8         | 2149.9         | 2258.5         | 2308.0         | 2363.4         | 2413.5         | 2536.9         | 2585.7         | 2641.3         | 2831.8         | 2914.5         | 2892.1         | 2900.6         | 2907.2         | \n",
       "| Czech Republic |  963.7         | 1025.0         | 1097.4         | 1199.5         | 1217.6         | 1278.4         | 1314.6         | 1334.3         | 1436.4         | 1575.1         | 1519.3         | 1565.8         | 1574.7         | 1556.9         | \n",
       "| Denmark        | 1903.7         | 1977.5         | 2050.7         | 2116.8         | 2183.7         | 2245.3         | 2360.2         | 2372.2         | 2403.2         | 2547.2         | 2511.0         | 2485.1         | 2465.9         | 2446.9         | \n",
       "| Estonia        |  555.4         |  542.2         |  571.9         |  635.0         |  703.3         |  748.6         |  824.7         |  911.7         |  980.7         |  968.5         |  921.6         |  928.4         |  991.1         | 1036.1         | \n",
       "\n",
       "\n"
      ],
      "text/plain": [
       "  Country        2000   2001   2002   2003   2004   2005   2006   2007   2008  \n",
       "1 Australia      2279.5 2386.6 2484.5 2560.6 2684.0 2694.1 2765.5 2837.1 2873.5\n",
       "2 Austria        2454.8 2503.2 2564.1 2615.5 2661.7 2689.9 2736.7 2829.9 2898.8\n",
       "3 Canada         2049.8 2149.9 2258.5 2308.0 2363.4 2413.5 2536.9 2585.7 2641.3\n",
       "4 Czech Republic  963.7 1025.0 1097.4 1199.5 1217.6 1278.4 1314.6 1334.3 1436.4\n",
       "5 Denmark        1903.7 1977.5 2050.7 2116.8 2183.7 2245.3 2360.2 2372.2 2403.2\n",
       "6 Estonia         555.4  542.2  571.9  635.0  703.3  748.6  824.7  911.7  980.7\n",
       "  2009   2010   2011   2012   2013  \n",
       "1 3003.0 2980.2 3082.8 3148.5     NA\n",
       "2 2898.0 2940.5 2962.7 3025.0 3008.5\n",
       "3 2831.8 2914.5 2892.1 2900.6 2907.2\n",
       "4 1575.1 1519.3 1565.8 1574.7 1556.9\n",
       "5 2547.2 2511.0 2485.1 2465.9 2446.9\n",
       "6  968.5  921.6  928.4  991.1 1036.1"
      ]
     },
     "metadata": {},
     "output_type": "display_data"
    }
   ],
   "source": [
    "exampledata <- read.csv2(\"cc.csv\", check.names=FALSE)\n",
    "head(exampledata)"
   ]
  },
  {
   "cell_type": "markdown",
   "metadata": {},
   "source": [
    "We use dplyr to manipulate the data."
   ]
  },
  {
   "cell_type": "code",
   "execution_count": 23,
   "metadata": {
    "collapsed": false
   },
   "outputs": [],
   "source": [
    "library(dplyr)"
   ]
  },
  {
   "cell_type": "markdown",
   "metadata": {},
   "source": [
    "We will first get a dataset without the NA's. So we have a dataframe with complete cases"
   ]
  },
  {
   "cell_type": "code",
   "execution_count": 24,
   "metadata": {
    "collapsed": false
   },
   "outputs": [
    {
     "data": {
      "text/html": [
       "<table>\n",
       "<thead><tr><th></th><th scope=col>Country</th><th scope=col>X2000</th><th scope=col>X2001</th><th scope=col>X2002</th><th scope=col>X2003</th><th scope=col>X2004</th><th scope=col>X2005</th><th scope=col>X2006</th><th scope=col>X2007</th><th scope=col>X2008</th><th scope=col>X2009</th><th scope=col>X2010</th><th scope=col>X2011</th><th scope=col>X2012</th><th scope=col>X2013</th></tr></thead>\n",
       "<tbody>\n",
       "\t<tr><th scope=row>2</th><td>Austria       </td><td>2454.8        </td><td>2503.2        </td><td>2564.1        </td><td>2615.5        </td><td>2661.7        </td><td>2689.9        </td><td>2736.7        </td><td>2829.9        </td><td>2898.8        </td><td>2898.0        </td><td>2940.5        </td><td>2962.7        </td><td>3025.0        </td><td>3008.5        </td></tr>\n",
       "\t<tr><th scope=row>3</th><td>Canada        </td><td>2049.8        </td><td>2149.9        </td><td>2258.5        </td><td>2308.0        </td><td>2363.4        </td><td>2413.5        </td><td>2536.9        </td><td>2585.7        </td><td>2641.3        </td><td>2831.8        </td><td>2914.5        </td><td>2892.1        </td><td>2900.6        </td><td>2907.2        </td></tr>\n",
       "\t<tr><th scope=row>4</th><td>Czech Republic</td><td> 963.7        </td><td>1025.0        </td><td>1097.4        </td><td>1199.5        </td><td>1217.6        </td><td>1278.4        </td><td>1314.6        </td><td>1334.3        </td><td>1436.4        </td><td>1575.1        </td><td>1519.3        </td><td>1565.8        </td><td>1574.7        </td><td>1556.9        </td></tr>\n",
       "\t<tr><th scope=row>5</th><td>Denmark       </td><td>1903.7        </td><td>1977.5        </td><td>2050.7        </td><td>2116.8        </td><td>2183.7        </td><td>2245.3        </td><td>2360.2        </td><td>2372.2        </td><td>2403.2        </td><td>2547.2        </td><td>2511.0        </td><td>2485.1        </td><td>2465.9        </td><td>2446.9        </td></tr>\n",
       "\t<tr><th scope=row>6</th><td>Estonia       </td><td> 555.4        </td><td> 542.2        </td><td> 571.9        </td><td> 635.0        </td><td> 703.3        </td><td> 748.6        </td><td> 824.7        </td><td> 911.7        </td><td> 980.7        </td><td> 968.5        </td><td> 921.6        </td><td> 928.4        </td><td> 991.1        </td><td>1036.1        </td></tr>\n",
       "\t<tr><th scope=row>7</th><td>Finland       </td><td>1511.5        </td><td>1587.4        </td><td>1696.7        </td><td>1792.6        </td><td>1880.3        </td><td>1969.0        </td><td>2018.6        </td><td>2048.8        </td><td>2119.3        </td><td>2119.3        </td><td>2179.4        </td><td>2239.0        </td><td>2269.8        </td><td>2310.6        </td></tr>\n",
       "</tbody>\n",
       "</table>\n"
      ],
      "text/latex": [
       "\\begin{tabular}{r|lllllllllllllll}\n",
       "  & Country & X2000 & X2001 & X2002 & X2003 & X2004 & X2005 & X2006 & X2007 & X2008 & X2009 & X2010 & X2011 & X2012 & X2013\\\\\n",
       "\\hline\n",
       "\t2 & Austria        & 2454.8         & 2503.2         & 2564.1         & 2615.5         & 2661.7         & 2689.9         & 2736.7         & 2829.9         & 2898.8         & 2898.0         & 2940.5         & 2962.7         & 3025.0         & 3008.5        \\\\\n",
       "\t3 & Canada         & 2049.8         & 2149.9         & 2258.5         & 2308.0         & 2363.4         & 2413.5         & 2536.9         & 2585.7         & 2641.3         & 2831.8         & 2914.5         & 2892.1         & 2900.6         & 2907.2        \\\\\n",
       "\t4 & Czech Republic &  963.7         & 1025.0         & 1097.4         & 1199.5         & 1217.6         & 1278.4         & 1314.6         & 1334.3         & 1436.4         & 1575.1         & 1519.3         & 1565.8         & 1574.7         & 1556.9        \\\\\n",
       "\t5 & Denmark        & 1903.7         & 1977.5         & 2050.7         & 2116.8         & 2183.7         & 2245.3         & 2360.2         & 2372.2         & 2403.2         & 2547.2         & 2511.0         & 2485.1         & 2465.9         & 2446.9        \\\\\n",
       "\t6 & Estonia        &  555.4         &  542.2         &  571.9         &  635.0         &  703.3         &  748.6         &  824.7         &  911.7         &  980.7         &  968.5         &  921.6         &  928.4         &  991.1         & 1036.1        \\\\\n",
       "\t7 & Finland        & 1511.5         & 1587.4         & 1696.7         & 1792.6         & 1880.3         & 1969.0         & 2018.6         & 2048.8         & 2119.3         & 2119.3         & 2179.4         & 2239.0         & 2269.8         & 2310.6        \\\\\n",
       "\\end{tabular}\n"
      ],
      "text/markdown": [
       "\n",
       "| <!--/--> | Country | X2000 | X2001 | X2002 | X2003 | X2004 | X2005 | X2006 | X2007 | X2008 | X2009 | X2010 | X2011 | X2012 | X2013 | \n",
       "|---|---|---|---|---|---|\n",
       "| 2 | Austria        | 2454.8         | 2503.2         | 2564.1         | 2615.5         | 2661.7         | 2689.9         | 2736.7         | 2829.9         | 2898.8         | 2898.0         | 2940.5         | 2962.7         | 3025.0         | 3008.5         | \n",
       "| 3 | Canada         | 2049.8         | 2149.9         | 2258.5         | 2308.0         | 2363.4         | 2413.5         | 2536.9         | 2585.7         | 2641.3         | 2831.8         | 2914.5         | 2892.1         | 2900.6         | 2907.2         | \n",
       "| 4 | Czech Republic |  963.7         | 1025.0         | 1097.4         | 1199.5         | 1217.6         | 1278.4         | 1314.6         | 1334.3         | 1436.4         | 1575.1         | 1519.3         | 1565.8         | 1574.7         | 1556.9         | \n",
       "| 5 | Denmark        | 1903.7         | 1977.5         | 2050.7         | 2116.8         | 2183.7         | 2245.3         | 2360.2         | 2372.2         | 2403.2         | 2547.2         | 2511.0         | 2485.1         | 2465.9         | 2446.9         | \n",
       "| 6 | Estonia        |  555.4         |  542.2         |  571.9         |  635.0         |  703.3         |  748.6         |  824.7         |  911.7         |  980.7         |  968.5         |  921.6         |  928.4         |  991.1         | 1036.1         | \n",
       "| 7 | Finland        | 1511.5         | 1587.4         | 1696.7         | 1792.6         | 1880.3         | 1969.0         | 2018.6         | 2048.8         | 2119.3         | 2119.3         | 2179.4         | 2239.0         | 2269.8         | 2310.6         | \n",
       "\n",
       "\n"
      ],
      "text/plain": [
       "  Country        X2000  X2001  X2002  X2003  X2004  X2005  X2006  X2007  X2008 \n",
       "2 Austria        2454.8 2503.2 2564.1 2615.5 2661.7 2689.9 2736.7 2829.9 2898.8\n",
       "3 Canada         2049.8 2149.9 2258.5 2308.0 2363.4 2413.5 2536.9 2585.7 2641.3\n",
       "4 Czech Republic  963.7 1025.0 1097.4 1199.5 1217.6 1278.4 1314.6 1334.3 1436.4\n",
       "5 Denmark        1903.7 1977.5 2050.7 2116.8 2183.7 2245.3 2360.2 2372.2 2403.2\n",
       "6 Estonia         555.4  542.2  571.9  635.0  703.3  748.6  824.7  911.7  980.7\n",
       "7 Finland        1511.5 1587.4 1696.7 1792.6 1880.3 1969.0 2018.6 2048.8 2119.3\n",
       "  X2009  X2010  X2011  X2012  X2013 \n",
       "2 2898.0 2940.5 2962.7 3025.0 3008.5\n",
       "3 2831.8 2914.5 2892.1 2900.6 2907.2\n",
       "4 1575.1 1519.3 1565.8 1574.7 1556.9\n",
       "5 2547.2 2511.0 2485.1 2465.9 2446.9\n",
       "6  968.5  921.6  928.4  991.1 1036.1\n",
       "7 2119.3 2179.4 2239.0 2269.8 2310.6"
      ]
     },
     "metadata": {},
     "output_type": "display_data"
    }
   ],
   "source": [
    "gr <- gr %>%\n",
    "na.omit()\n",
    "head(gr)"
   ]
  },
  {
   "cell_type": "markdown",
   "metadata": {},
   "source": [
    "The Netherlands changed the health care system in 2006. So we want to compare the growth of all countries in the period 2000-2005 with the growth in the period 2006-2013."
   ]
  },
  {
   "cell_type": "code",
   "execution_count": 36,
   "metadata": {
    "collapsed": false
   },
   "outputs": [
    {
     "data": {
      "text/html": [
       "<table>\n",
       "<thead><tr><th scope=col>Country</th><th scope=col>growth_period_2000_2005</th><th scope=col>growth_period_2006_2013</th></tr></thead>\n",
       "<tbody>\n",
       "\t<tr><td>Austria       </td><td>1.846006      </td><td>1.3618875     </td></tr>\n",
       "\t<tr><td>Canada        </td><td>3.320658      </td><td>1.9654594     </td></tr>\n",
       "\t<tr><td>Czech Republic</td><td>5.814450      </td><td>2.4460690     </td></tr>\n",
       "\t<tr><td>Denmark       </td><td>3.355876      </td><td>0.5166954     </td></tr>\n",
       "\t<tr><td>Estonia       </td><td>6.152149      </td><td>3.3137092     </td></tr>\n",
       "\t<tr><td>Finland       </td><td>5.430803      </td><td>1.9487890     </td></tr>\n",
       "\t<tr><td>Germany       </td><td>1.428288      </td><td>2.4886797     </td></tr>\n",
       "\t<tr><td>Korea         </td><td>3.737120      </td><td>4.2662583     </td></tr>\n",
       "\t<tr><td>Netherlands   </td><td>8.001258      </td><td>2.5292812     </td></tr>\n",
       "\t<tr><td>Switzerland   </td><td>3.143572      </td><td>2.4846486     </td></tr>\n",
       "</tbody>\n",
       "</table>\n"
      ],
      "text/latex": [
       "\\begin{tabular}{r|lll}\n",
       " Country & growth\\_period\\_2000\\_2005 & growth\\_period\\_2006\\_2013\\\\\n",
       "\\hline\n",
       "\t Austria        & 1.846006       & 1.3618875     \\\\\n",
       "\t Canada         & 3.320658       & 1.9654594     \\\\\n",
       "\t Czech Republic & 5.814450       & 2.4460690     \\\\\n",
       "\t Denmark        & 3.355876       & 0.5166954     \\\\\n",
       "\t Estonia        & 6.152149       & 3.3137092     \\\\\n",
       "\t Finland        & 5.430803       & 1.9487890     \\\\\n",
       "\t Germany        & 1.428288       & 2.4886797     \\\\\n",
       "\t Korea          & 3.737120       & 4.2662583     \\\\\n",
       "\t Netherlands    & 8.001258       & 2.5292812     \\\\\n",
       "\t Switzerland    & 3.143572       & 2.4846486     \\\\\n",
       "\\end{tabular}\n"
      ],
      "text/markdown": [
       "\n",
       "Country | growth_period_2000_2005 | growth_period_2006_2013 | \n",
       "|---|---|---|---|---|---|---|---|---|---|\n",
       "| Austria        | 1.846006       | 1.3618875      | \n",
       "| Canada         | 3.320658       | 1.9654594      | \n",
       "| Czech Republic | 5.814450       | 2.4460690      | \n",
       "| Denmark        | 3.355876       | 0.5166954      | \n",
       "| Estonia        | 6.152149       | 3.3137092      | \n",
       "| Finland        | 5.430803       | 1.9487890      | \n",
       "| Germany        | 1.428288       | 2.4886797      | \n",
       "| Korea          | 3.737120       | 4.2662583      | \n",
       "| Netherlands    | 8.001258       | 2.5292812      | \n",
       "| Switzerland    | 3.143572       | 2.4846486      | \n",
       "\n",
       "\n"
      ],
      "text/plain": [
       "   Country        growth_period_2000_2005 growth_period_2006_2013\n",
       "1  Austria        1.846006                1.3618875              \n",
       "2  Canada         3.320658                1.9654594              \n",
       "3  Czech Republic 5.814450                2.4460690              \n",
       "4  Denmark        3.355876                0.5166954              \n",
       "5  Estonia        6.152149                3.3137092              \n",
       "6  Finland        5.430803                1.9487890              \n",
       "7  Germany        1.428288                2.4886797              \n",
       "8  Korea          3.737120                4.2662583              \n",
       "9  Netherlands    8.001258                2.5292812              \n",
       "10 Switzerland    3.143572                2.4846486              "
      ]
     },
     "metadata": {},
     "output_type": "display_data"
    }
   ],
   "source": [
    "gr1 <-gr %>%\n",
    "mutate(growth_period_2000_2005 = ((X2005/X2000)^(1/5)-1) * 100) %>%\n",
    "mutate(growth_period_2006_2013 = ((X2013/X2006)^(1/7)-1) * 100) %>%\n",
    "select(Country, growth_period_2000_2005, growth_period_2006_2013)\n",
    "\n",
    "gr1"
   ]
  },
  {
   "cell_type": "markdown",
   "metadata": {},
   "source": [
    "To make a plot we need to load the package ggplot2. We will also load the package ggrepel.\n",
    "\n",
    "ggrepel implements functions to repel overlapping text labels away from each other and away from the data points that they label. The algorithm works as follows:\n",
    "For each box:\n",
    "* Move the box into the allowed plotting area.\n",
    "* If the bounding box overlaps other boxes:\n",
    "* Repel the overlapping boxes from each other.\n",
    "* If the bounding box overlaps data points:\n",
    "* Repel the box away from the data points.\n",
    "* Repeat until all overlaps are resolved, up to a preset limit of iterations\n",
    "\n",
    "\n",
    "\n"
   ]
  },
  {
   "cell_type": "code",
   "execution_count": 38,
   "metadata": {
    "collapsed": false
   },
   "outputs": [],
   "source": [
    "library(ggrepel)\n",
    "library(ggplot2)"
   ]
  },
  {
   "cell_type": "markdown",
   "metadata": {},
   "source": [
    "Now can make the plot. We want to make a scatterplot, with the growth in the period 2000-2005 on the x-axis and the growth in the period 2006-2013 on the y-axis. We want to have the names of the countries connected to our points. We can use geom_text for that. To prevent overlapping of the texts we use ggrepel.\n",
    "\n",
    "Furthermore,we want to include a line with a slope of 45 degrees. This would indicate that countries south east of the line have lower growth in the second period than in the first period. geom_abline adds this line.\n",
    "\n",
    "To prevent that the users get confused with different scales of the axis, we impose the same scale on both axes with xlim and ylim.\n",
    "\n",
    "xlab and ylab will give us nice names on the axes.\n"
   ]
  },
  {
   "cell_type": "code",
   "execution_count": 39,
   "metadata": {
    "collapsed": false
   },
   "outputs": [
    {
     "data": {},
     "metadata": {},
     "output_type": "display_data"
    },
    {
     "data": {
      "image/png": "[encoded data removed]",
      "text/plain": [
       "plot without title"
      ]
     },
     "metadata": {},
     "output_type": "display_data"
    }
   ],
   "source": [
    "ggplot(gr1, aes(x=growth_period_2000_2005, y=growth_period_2006_2013)) +\n",
    "  geom_point(colour = \"blue\", size = 3) +  xlab(\"Growth in 2000-2005\")+\n",
    "  ylab(\"Growth in 2006-2013\") +\n",
    "  geom_abline(intercept =0, slope = 1, size = 1) +\n",
    "  ylim(-2,10)+ xlim(-2,10)+\n",
    "  geom_text_repel(aes(label = Country), \n",
    "                  box.padding = unit(0.45, \"lines\"))\n",
    "\n",
    "\n",
    "\n"
   ]
  },
  {
   "cell_type": "code",
   "execution_count": null,
   "metadata": {
    "collapsed": true
   },
   "outputs": [],
   "source": []
  }
 ],
 "metadata": {
  "anaconda-cloud": {},
  "kernelspec": {
   "display_name": "R",
   "language": "R",
   "name": "ir"
  },
  "language_info": {
   "codemirror_mode": "r",
   "file_extension": ".r",
   "mimetype": "text/x-r-source",
   "name": "R",
   "pygments_lexer": "r",
   "version": "3.3.2"
  }
 },
 "nbformat": 4,
 "nbformat_minor": 0
}
