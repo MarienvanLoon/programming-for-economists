{
 "cells": [
  {
   "cell_type": "markdown",
   "metadata": {},
   "source": [
    "# Recapitulation of dplyr\n",
    "\n",
    "This is a very short recapitulation of `dplyr`. Both `tidyr` and `dplyr` are part of the package `tidyverse`. `ggplot2` is also part of the _tidyversum_ (for a complete list, [see here](https://www.tidyverse.org/packages/)). With `dplyr` you can manipulate dataframes.\n",
    "\n",
    "## Package `dplyr`\n",
    "\n",
    "In package `dplyr` there are 5 _verbs_ that are really important:\n",
    "\n",
    "1. `mutate()` creates new variables based on existing variables \n",
    "2. `select()` selects variables (columns). `select` allows you to rename variables as well: \n",
    "  `select(new_name = existing_name)`\n",
    "3. `filter()` selects observations (rows) based on a  logic test)\n",
    "4. `summarise()` reduces certain groups in a single value\n",
    "5. `arrange()` changes the order of the observations\n",
    "\n",
    "If you want guidance or help, you can use google or [this website](http://genomicsclass.github.io/book/pages/dplyr_tutorial.html).\n"
   ]
  },
  {
   "cell_type": "markdown",
   "metadata": {},
   "source": [
    "End of Notebook"
   ]
  }
 ],
 "metadata": {
  "anaconda-cloud": {},
  "kernelspec": {
   "display_name": "R",
   "language": "R",
   "name": "ir"
  },
  "language_info": {
   "codemirror_mode": "r",
   "file_extension": ".r",
   "mimetype": "text/x-r-source",
   "name": "R",
   "pygments_lexer": "r",
   "version": "3.3.2"
  }
 },
 "nbformat": 4,
 "nbformat_minor": 1
}
