{
 "cells": [
  {
   "cell_type": "markdown",
   "metadata": {},
   "source": [
    "# Lineair Regression\n",
    "Mark Klik & Misja Mikkers\n",
    "\n",
    "# Introduction\n",
    "\n",
    "In this course we will give you a short introduction to linear regression in `R`. This is not an extensive course, but it is aimed at helping you to get some intuition and to apply linear regression in `R`.\n",
    "\n",
    "With linear regression we will be able to examine whether a variable (often called \"the response\" or \"the dependent variable\") has a correlation with one or more other variables (\"predictors\"). Or, one could say, we will use predictors to predict the value of the response variable.\n",
    "\n",
    "## Packages"
   ]
  },
  {
   "cell_type": "code",
   "execution_count": 1,
   "metadata": {
    "collapsed": false
   },
   "outputs": [
    {
     "name": "stderr",
     "output_type": "stream",
     "text": [
      "Warning message:\n",
      "\"package 'tidyverse' was built under R version 3.3.3\"-- Attaching packages --------------------------------------- tidyverse 1.2.1 --\n",
      "v ggplot2 2.2.1     v purrr   0.2.4\n",
      "v tibble  1.3.4     v dplyr   0.7.4\n",
      "v tidyr   0.7.2     v stringr 1.2.0\n",
      "v readr   1.1.1     v forcats 0.2.0\n",
      "Warning message:\n",
      "\"package 'ggplot2' was built under R version 3.3.3\"Warning message:\n",
      "\"package 'tibble' was built under R version 3.3.3\"Warning message:\n",
      "\"package 'tidyr' was built under R version 3.3.3\"Warning message:\n",
      "\"package 'readr' was built under R version 3.3.3\"Warning message:\n",
      "\"package 'purrr' was built under R version 3.3.3\"Warning message:\n",
      "\"package 'dplyr' was built under R version 3.3.3\"Warning message:\n",
      "\"package 'forcats' was built under R version 3.3.3\"-- Conflicts ------------------------------------------ tidyverse_conflicts() --\n",
      "x dplyr::filter() masks stats::filter()\n",
      "x dplyr::lag()    masks stats::lag()\n",
      "Warning message:\n",
      "\"package 'PerformanceAnalytics' was built under R version 3.3.3\"Loading required package: xts\n",
      "Warning message:\n",
      "\"package 'xts' was built under R version 3.3.3\"Loading required package: zoo\n",
      "Warning message:\n",
      "\"package 'zoo' was built under R version 3.3.3\"\n",
      "Attaching package: 'zoo'\n",
      "\n",
      "The following objects are masked from 'package:base':\n",
      "\n",
      "    as.Date, as.Date.numeric\n",
      "\n",
      "\n",
      "Attaching package: 'xts'\n",
      "\n",
      "The following objects are masked from 'package:dplyr':\n",
      "\n",
      "    first, last\n",
      "\n",
      "\n",
      "Attaching package: 'PerformanceAnalytics'\n",
      "\n",
      "The following object is masked from 'package:graphics':\n",
      "\n",
      "    legend\n",
      "\n"
     ]
    }
   ],
   "source": [
    "library(tidyverse)\n",
    "library(PerformanceAnalytics)\n",
    "library(gvlma)\n"
   ]
  },
  {
   "cell_type": "markdown",
   "metadata": {},
   "source": [
    "# First small example\n",
    "\n",
    "## Data\n",
    "\n",
    "Our first small example will be with some football data. We will start with reading the data and taking a look at the data.\n"
   ]
  },
  {
   "cell_type": "code",
   "execution_count": 2,
   "metadata": {
    "collapsed": false
   },
   "outputs": [
    {
     "name": "stdout",
     "output_type": "stream",
     "text": [
      "'data.frame':\t18 obs. of  3 variables:\n",
      " $ Club  : Factor w/ 18 levels \"ADO\",\"Ajax\",\"AZ\",..: 1 2 3 4 5 6 7 8 9 10 ...\n",
      " $ Points: int  43 82 59 18 23 30 63 50 42 51 ...\n",
      " $ Budget: int  13 65 28 7 7 5 50 22 22 10 ...\n"
     ]
    },
    {
     "data": {
      "text/plain": [
       "            Club        Points          Budget     \n",
       " ADO          : 1   Min.   :18.00   Min.   : 5.00  \n",
       " Ajax         : 1   1st Qu.:35.50   1st Qu.: 9.25  \n",
       " AZ           : 1   Median :46.00   Median :15.00  \n",
       " Cambuur      : 1   Mean   :46.72   Mean   :22.89  \n",
       " De Graafschap: 1   3rd Qu.:52.50   3rd Qu.:28.00  \n",
       " Excelsior    : 1   Max.   :84.00   Max.   :65.00  \n",
       " (Other)      :12                                  "
      ]
     },
     "metadata": {},
     "output_type": "display_data"
    }
   ],
   "source": [
    "df1 <- read.csv2(\"../Sourcedata/football.csv\") \n",
    "str(df1)\n",
    "summary(df1)"
   ]
  },
  {
   "cell_type": "markdown",
   "metadata": {},
   "source": [
    "## Plot\n",
    "\n",
    "First, we make a plot of the data to inspect if we see a correlation between the budgets of clubs and their points."
   ]
  },
  {
   "cell_type": "code",
   "execution_count": 3,
   "metadata": {
    "collapsed": false
   },
   "outputs": [
    {
     "data": {},
     "metadata": {},
     "output_type": "display_data"
    },
    {
     "data": {
      "image/png": "[encoded data removed]",
      "text/plain": [
       "plot without title"
      ]
     },
     "metadata": {},
     "output_type": "display_data"
    }
   ],
   "source": [
    "plot1 <-ggplot(data = df1, aes(x = Budget, y = Points)) +\n",
    "  geom_point()\n",
    "plot1"
   ]
  },
  {
   "cell_type": "markdown",
   "metadata": {},
   "source": [
    "## The idea of linear regression\n",
    "\n",
    "With linear regression we can examine the **statistical** relationship between 2 variables. This relationship is not perfect.\n",
    "In this case we are specifically interested in linear relationships of the form:\n",
    "$$ y = \\alpha + \\beta * x + \\epsilon$$\n",
    "\n",
    "Where $\\alpha$ and $\\beta$ are the parameters to be estimated and $\\epsilon$ is the error or noise term. $\\alpha$ is the intercept with the $y$-axis and $\\beta$ determines the slope of the line.\n",
    "We are interested in finding an $\\alpha$ and $\\beta$ that fit our data best.\n",
    "\n",
    "## Best fit of the linear equation\n",
    "\n",
    "Our first try will be to plot the horizontal line corresponding to the average value of the variable points, showing also (in red) the distance between the realized value of the variable points and the average value."
   ]
  },
  {
   "cell_type": "code",
   "execution_count": 4,
   "metadata": {
    "collapsed": false
   },
   "outputs": [
    {
     "data": {},
     "metadata": {},
     "output_type": "display_data"
    },
    {
     "data": {
      "image/png": "[encoded data removed]",
      "text/plain": [
       "plot without title"
      ]
     },
     "metadata": {},
     "output_type": "display_data"
    }
   ],
   "source": [
    "plot2 <- plot1 + geom_hline(yintercept =  mean(df1$Points)) + \n",
    "geom_segment((aes(x = df1$Budget, y = df1$Points, xend = df1$Budget,\n",
    "  yend = mean(Points), color= \"red\"))) + \n",
    "  theme(legend.position=\"none\")\n",
    "plot2"
   ]
  },
  {
   "cell_type": "markdown",
   "metadata": {},
   "source": [
    "It appears that this line does not fit the data very well. \n",
    "Let's see if we can try better. It looks like an intercept of 30 points and a slope of 45 degrees is a reasonable estimate. We will therefore plot a line in the plot according to the formula:\n",
    "\n",
    "$$ Points = 30 + Budget$$\n",
    "\n",
    "To be able to plot the distances, we will have to calculate the predicted values of the points given a certain budget:\n"
   ]
  },
  {
   "cell_type": "code",
   "execution_count": 5,
   "metadata": {
    "collapsed": false
   },
   "outputs": [
    {
     "name": "stderr",
     "output_type": "stream",
     "text": [
      "Warning message:\n",
      "\"package 'bindrcpp' was built under R version 3.3.3\""
     ]
    },
    {
     "data": {
      "text/html": [
       "<table>\n",
       "<thead><tr><th scope=col>Club</th><th scope=col>Points</th><th scope=col>Budget</th><th scope=col>new_try</th></tr></thead>\n",
       "<tbody>\n",
       "\t<tr><td>ADO          </td><td>43           </td><td>13           </td><td>43           </td></tr>\n",
       "\t<tr><td>Ajax         </td><td>82           </td><td>65           </td><td>95           </td></tr>\n",
       "\t<tr><td>AZ           </td><td>59           </td><td>28           </td><td>58           </td></tr>\n",
       "\t<tr><td>Cambuur      </td><td>18           </td><td> 7           </td><td>37           </td></tr>\n",
       "\t<tr><td>De Graafschap</td><td>23           </td><td> 7           </td><td>37           </td></tr>\n",
       "\t<tr><td>Excelsior    </td><td>30           </td><td> 5           </td><td>35           </td></tr>\n",
       "\t<tr><td>Feyenoord    </td><td>63           </td><td>50           </td><td>80           </td></tr>\n",
       "\t<tr><td>Groningen    </td><td>50           </td><td>22           </td><td>52           </td></tr>\n",
       "\t<tr><td>Heereveen    </td><td>42           </td><td>22           </td><td>52           </td></tr>\n",
       "\t<tr><td>Heracles     </td><td>51           </td><td>10           </td><td>40           </td></tr>\n",
       "\t<tr><td>NEC          </td><td>46           </td><td>11           </td><td>41           </td></tr>\n",
       "\t<tr><td>PEC          </td><td>48           </td><td> 9           </td><td>39           </td></tr>\n",
       "\t<tr><td>PSV          </td><td>84           </td><td>63           </td><td>93           </td></tr>\n",
       "\t<tr><td>Roda         </td><td>34           </td><td>10           </td><td>40           </td></tr>\n",
       "\t<tr><td>Twente       </td><td>40           </td><td>36           </td><td>66           </td></tr>\n",
       "\t<tr><td>Utrecht      </td><td>53           </td><td>17           </td><td>47           </td></tr>\n",
       "\t<tr><td>Vitesse      </td><td>46           </td><td>28           </td><td>58           </td></tr>\n",
       "\t<tr><td>Willem II    </td><td>29           </td><td> 9           </td><td>39           </td></tr>\n",
       "</tbody>\n",
       "</table>\n"
      ],
      "text/latex": [
       "\\begin{tabular}{r|llll}\n",
       " Club & Points & Budget & new\\_try\\\\\n",
       "\\hline\n",
       "\t ADO           & 43            & 13            & 43           \\\\\n",
       "\t Ajax          & 82            & 65            & 95           \\\\\n",
       "\t AZ            & 59            & 28            & 58           \\\\\n",
       "\t Cambuur       & 18            &  7            & 37           \\\\\n",
       "\t De Graafschap & 23            &  7            & 37           \\\\\n",
       "\t Excelsior     & 30            &  5            & 35           \\\\\n",
       "\t Feyenoord     & 63            & 50            & 80           \\\\\n",
       "\t Groningen     & 50            & 22            & 52           \\\\\n",
       "\t Heereveen     & 42            & 22            & 52           \\\\\n",
       "\t Heracles      & 51            & 10            & 40           \\\\\n",
       "\t NEC           & 46            & 11            & 41           \\\\\n",
       "\t PEC           & 48            &  9            & 39           \\\\\n",
       "\t PSV           & 84            & 63            & 93           \\\\\n",
       "\t Roda          & 34            & 10            & 40           \\\\\n",
       "\t Twente        & 40            & 36            & 66           \\\\\n",
       "\t Utrecht       & 53            & 17            & 47           \\\\\n",
       "\t Vitesse       & 46            & 28            & 58           \\\\\n",
       "\t Willem II     & 29            &  9            & 39           \\\\\n",
       "\\end{tabular}\n"
      ],
      "text/markdown": [
       "\n",
       "Club | Points | Budget | new_try | \n",
       "|---|---|---|---|---|---|---|---|---|---|---|---|---|---|---|---|---|---|\n",
       "| ADO           | 43            | 13            | 43            | \n",
       "| Ajax          | 82            | 65            | 95            | \n",
       "| AZ            | 59            | 28            | 58            | \n",
       "| Cambuur       | 18            |  7            | 37            | \n",
       "| De Graafschap | 23            |  7            | 37            | \n",
       "| Excelsior     | 30            |  5            | 35            | \n",
       "| Feyenoord     | 63            | 50            | 80            | \n",
       "| Groningen     | 50            | 22            | 52            | \n",
       "| Heereveen     | 42            | 22            | 52            | \n",
       "| Heracles      | 51            | 10            | 40            | \n",
       "| NEC           | 46            | 11            | 41            | \n",
       "| PEC           | 48            |  9            | 39            | \n",
       "| PSV           | 84            | 63            | 93            | \n",
       "| Roda          | 34            | 10            | 40            | \n",
       "| Twente        | 40            | 36            | 66            | \n",
       "| Utrecht       | 53            | 17            | 47            | \n",
       "| Vitesse       | 46            | 28            | 58            | \n",
       "| Willem II     | 29            |  9            | 39            | \n",
       "\n",
       "\n"
      ],
      "text/plain": [
       "   Club          Points Budget new_try\n",
       "1  ADO           43     13     43     \n",
       "2  Ajax          82     65     95     \n",
       "3  AZ            59     28     58     \n",
       "4  Cambuur       18      7     37     \n",
       "5  De Graafschap 23      7     37     \n",
       "6  Excelsior     30      5     35     \n",
       "7  Feyenoord     63     50     80     \n",
       "8  Groningen     50     22     52     \n",
       "9  Heereveen     42     22     52     \n",
       "10 Heracles      51     10     40     \n",
       "11 NEC           46     11     41     \n",
       "12 PEC           48      9     39     \n",
       "13 PSV           84     63     93     \n",
       "14 Roda          34     10     40     \n",
       "15 Twente        40     36     66     \n",
       "16 Utrecht       53     17     47     \n",
       "17 Vitesse       46     28     58     \n",
       "18 Willem II     29      9     39     "
      ]
     },
     "metadata": {},
     "output_type": "display_data"
    }
   ],
   "source": [
    "df1 <- df1 %>%\n",
    "mutate(new_try = 30 + Budget)\n",
    "df1"
   ]
  },
  {
   "cell_type": "markdown",
   "metadata": {},
   "source": [
    "Now we can make the plot:"
   ]
  },
  {
   "cell_type": "code",
   "execution_count": 6,
   "metadata": {
    "collapsed": false
   },
   "outputs": [
    {
     "data": {},
     "metadata": {},
     "output_type": "display_data"
    },
    {
     "data": {
      "image/png": "[encoded data removed]",
      "text/plain": [
       "plot without title"
      ]
     },
     "metadata": {},
     "output_type": "display_data"
    }
   ],
   "source": [
    "plot2a <- plot1  + geom_abline(intercept = 30, slope = 1, color = \"blue\", size = 2)  + \n",
    "geom_segment((aes(x = df1$Budget, y = df1$Points, xend = df1$Budget,\n",
    "  yend = df1$new_try, color = \"red\"))) + \n",
    "  theme(legend.position = \"none\")\n",
    "plot2a"
   ]
  },
  {
   "cell_type": "markdown",
   "metadata": {},
   "source": [
    "This looks a lot better than our first try. That leaves us with the question about the \"best\" line. \n",
    "The \"best\" line in linear regression analysis is the line that minimizes the squared distance between the \"real\" values of $y$ and the predicted values of $y$ at the regression line.\n",
    "\n",
    "We will minimize the following:\n",
    "\n",
    " $$ \\sum\\limits_{i=1}^n (y_i - (\\alpha + \\beta* x))^2 $$\n",
    " \n",
    "We can derive this by using calculus, but `R` will do the work for you. Now we can plot the best fit:"
   ]
  },
  {
   "cell_type": "code",
   "execution_count": 7,
   "metadata": {
    "collapsed": false
   },
   "outputs": [
    {
     "data": {},
     "metadata": {},
     "output_type": "display_data"
    },
    {
     "data": {
      "image/png": "[encoded data removed]",
      "text/plain": [
       "plot without title"
      ]
     },
     "metadata": {},
     "output_type": "display_data"
    }
   ],
   "source": [
    "plot3 <- plot1 + geom_smooth(method = \"lm\", se = FALSE)\n",
    "plot3"
   ]
  },
  {
   "cell_type": "markdown",
   "metadata": {},
   "source": [
    "We can show that our plotted line in the last try, has the least squared error. Therefore, we must calculate the total sum of squared errors in all our tries.\n",
    " \n",
    "We start with the first try (where we plotted the mean of the points). We will calculate the mean of the points and then calculated the squared distance.\n",
    "\n",
    "Then we calculate squared distance of our new try (we have already calculated the predicted values to be able to plot the distances above).\n",
    "\n",
    "After that we will include the predicted values based on our best line in our dataframe and calculate the squared distance."
   ]
  },
  {
   "cell_type": "code",
   "execution_count": 8,
   "metadata": {
    "collapsed": false
   },
   "outputs": [
    {
     "data": {
      "text/html": [
       "<table>\n",
       "<thead><tr><th scope=col>Club</th><th scope=col>Points</th><th scope=col>Budget</th><th scope=col>new_try</th><th scope=col>mean_points</th><th scope=col>squared_distance</th><th scope=col>squared_distance_new_try</th><th scope=col>prediction_lm</th><th scope=col>squared_distance_lm</th></tr></thead>\n",
       "<tbody>\n",
       "\t<tr><td>ADO          </td><td>43           </td><td>13           </td><td>43           </td><td>46.72222     </td><td>  13.85494   </td><td>  0          </td><td>38.90001     </td><td> 16.809882   </td></tr>\n",
       "\t<tr><td>Ajax         </td><td>82           </td><td>65           </td><td>95           </td><td>46.72222     </td><td>1244.52160   </td><td>169          </td><td>80.03252     </td><td>  3.870966   </td></tr>\n",
       "\t<tr><td>AZ           </td><td>59           </td><td>28           </td><td>58           </td><td>46.72222     </td><td> 150.74383   </td><td>  1          </td><td>50.76516     </td><td> 67.812572   </td></tr>\n",
       "\t<tr><td>Cambuur      </td><td>18           </td><td> 7           </td><td>37           </td><td>46.72222     </td><td> 824.96605   </td><td>361          </td><td>34.15396     </td><td>260.950287   </td></tr>\n",
       "\t<tr><td>De Graafschap</td><td>23           </td><td> 7           </td><td>37           </td><td>46.72222     </td><td> 562.74383   </td><td>196          </td><td>34.15396     </td><td>124.410729   </td></tr>\n",
       "\t<tr><td>Excelsior    </td><td>30           </td><td> 5           </td><td>35           </td><td>46.72222     </td><td> 279.63272   </td><td> 25          </td><td>32.57194     </td><td>  6.614856   </td></tr>\n",
       "</tbody>\n",
       "</table>\n"
      ],
      "text/latex": [
       "\\begin{tabular}{r|lllllllll}\n",
       " Club & Points & Budget & new\\_try & mean\\_points & squared\\_distance & squared\\_distance\\_new\\_try & prediction\\_lm & squared\\_distance\\_lm\\\\\n",
       "\\hline\n",
       "\t ADO           & 43            & 13            & 43            & 46.72222      &   13.85494    &   0           & 38.90001      &  16.809882   \\\\\n",
       "\t Ajax          & 82            & 65            & 95            & 46.72222      & 1244.52160    & 169           & 80.03252      &   3.870966   \\\\\n",
       "\t AZ            & 59            & 28            & 58            & 46.72222      &  150.74383    &   1           & 50.76516      &  67.812572   \\\\\n",
       "\t Cambuur       & 18            &  7            & 37            & 46.72222      &  824.96605    & 361           & 34.15396      & 260.950287   \\\\\n",
       "\t De Graafschap & 23            &  7            & 37            & 46.72222      &  562.74383    & 196           & 34.15396      & 124.410729   \\\\\n",
       "\t Excelsior     & 30            &  5            & 35            & 46.72222      &  279.63272    &  25           & 32.57194      &   6.614856   \\\\\n",
       "\\end{tabular}\n"
      ],
      "text/markdown": [
       "\n",
       "Club | Points | Budget | new_try | mean_points | squared_distance | squared_distance_new_try | prediction_lm | squared_distance_lm | \n",
       "|---|---|---|---|---|---|\n",
       "| ADO           | 43            | 13            | 43            | 46.72222      |   13.85494    |   0           | 38.90001      |  16.809882    | \n",
       "| Ajax          | 82            | 65            | 95            | 46.72222      | 1244.52160    | 169           | 80.03252      |   3.870966    | \n",
       "| AZ            | 59            | 28            | 58            | 46.72222      |  150.74383    |   1           | 50.76516      |  67.812572    | \n",
       "| Cambuur       | 18            |  7            | 37            | 46.72222      |  824.96605    | 361           | 34.15396      | 260.950287    | \n",
       "| De Graafschap | 23            |  7            | 37            | 46.72222      |  562.74383    | 196           | 34.15396      | 124.410729    | \n",
       "| Excelsior     | 30            |  5            | 35            | 46.72222      |  279.63272    |  25           | 32.57194      |   6.614856    | \n",
       "\n",
       "\n"
      ],
      "text/plain": [
       "  Club          Points Budget new_try mean_points squared_distance\n",
       "1 ADO           43     13     43      46.72222      13.85494      \n",
       "2 Ajax          82     65     95      46.72222    1244.52160      \n",
       "3 AZ            59     28     58      46.72222     150.74383      \n",
       "4 Cambuur       18      7     37      46.72222     824.96605      \n",
       "5 De Graafschap 23      7     37      46.72222     562.74383      \n",
       "6 Excelsior     30      5     35      46.72222     279.63272      \n",
       "  squared_distance_new_try prediction_lm squared_distance_lm\n",
       "1   0                      38.90001       16.809882         \n",
       "2 169                      80.03252        3.870966         \n",
       "3   1                      50.76516       67.812572         \n",
       "4 361                      34.15396      260.950287         \n",
       "5 196                      34.15396      124.410729         \n",
       "6  25                      32.57194        6.614856         "
      ]
     },
     "metadata": {},
     "output_type": "display_data"
    }
   ],
   "source": [
    "\n",
    "# First try\n",
    "df1 <- df1 %>%\n",
    "  mutate(mean_points = mean(Points)) %>%\n",
    "  mutate(squared_distance = (Points - mean_points) ^ 2)\n",
    "\n",
    "# New try\n",
    "df1 <- df1 %>%\n",
    "  mutate(squared_distance_new_try = (Points - new_try) ^ 2)\n",
    "\n",
    "# Best line\n",
    "regression <- lm(data = df1, Points ~ Budget)\n",
    "\n",
    "df1 <- df1 %>%\n",
    "  mutate(prediction_lm = regression$fitted.values) %>%\n",
    "  mutate(squared_distance_lm = (Points - prediction_lm) ^ 2)\n",
    "\n",
    "head(df1)"
   ]
  },
  {
   "cell_type": "markdown",
   "metadata": {},
   "source": [
    "Now we can calculate the sum of the squared distances per model. First, we will make the \"wide\" table a \"long\" table, then group by model and calculated the squared distance per model."
   ]
  },
  {
   "cell_type": "code",
   "execution_count": 9,
   "metadata": {
    "collapsed": false
   },
   "outputs": [
    {
     "data": {
      "text/html": [
       "<table>\n",
       "<thead><tr><th scope=col>Model</th><th scope=col>squared_distance</th></tr></thead>\n",
       "<tbody>\n",
       "\t<tr><td>squared_distance_lm     </td><td>1491.460                </td></tr>\n",
       "\t<tr><td>squared_distance_new_try</td><td>2445.000                </td></tr>\n",
       "\t<tr><td>squared_distance        </td><td>5345.611                </td></tr>\n",
       "</tbody>\n",
       "</table>\n"
      ],
      "text/latex": [
       "\\begin{tabular}{r|ll}\n",
       " Model & squared\\_distance\\\\\n",
       "\\hline\n",
       "\t squared\\_distance\\_lm      & 1491.460                    \\\\\n",
       "\t squared\\_distance\\_new\\_try & 2445.000                      \\\\\n",
       "\t squared\\_distance         & 5345.611                  \\\\\n",
       "\\end{tabular}\n"
      ],
      "text/markdown": [
       "\n",
       "Model | squared_distance | \n",
       "|---|---|---|\n",
       "| squared_distance_lm      | 1491.460                 | \n",
       "| squared_distance_new_try | 2445.000                 | \n",
       "| squared_distance         | 5345.611                 | \n",
       "\n",
       "\n"
      ],
      "text/plain": [
       "  Model                    squared_distance\n",
       "1 squared_distance_lm      1491.460        \n",
       "2 squared_distance_new_try 2445.000        \n",
       "3 squared_distance         5345.611        "
      ]
     },
     "metadata": {},
     "output_type": "display_data"
    }
   ],
   "source": [
    "\n",
    "\n",
    "df2 <- df1 %>%\n",
    "  select(squared_distance, squared_distance_new_try, squared_distance_lm) %>%\n",
    "  gather(Model, Squared_distance, 1:3) %>%\n",
    "  group_by(Model) %>%\n",
    "  summarise(squared_distance = sum(Squared_distance)) %>%\n",
    "  arrange(squared_distance)\n",
    "\n",
    "df2"
   ]
  },
  {
   "cell_type": "markdown",
   "metadata": {},
   "source": [
    "## Doing a regression\n",
    "\n",
    "In the calculation above you have seen that we have run the command\n",
    "\n",
    "`regression <- lm(data=df1, Points ~ Budget)`, \n",
    "\n",
    "to get the optimal line. In general, running a command like this:\n",
    "\n",
    "`your_model <- lm(data = your_data, y ~ x)`\n",
    "\n",
    "will run a regression. Until now we have run a regression with 1 predictor. We can run models with more predictors. The general command will look like this:\n",
    "\n",
    "`your_model_with_more_predictors <- lm(data = your_data, y ~ x_1 + x_2 +x_3 + .. + x_n)`\n",
    "\n",
    "If you want to run a model with all variables, the code would be\n",
    "\n",
    "`your_model_with_all_predictors <- lm(data = your_data, y ~ .)`\n",
    "\n",
    "Finally, we also want to know something about our model. The predicted values values can be obtained by the following command:\n",
    "\n",
    "`your_model$fitted.values`\n",
    "\n",
    "More general information can be obtained by:\n",
    "\n",
    "`summary(your_model)`\n",
    "\n",
    "For example in this case:\n",
    "\n"
   ]
  },
  {
   "cell_type": "code",
   "execution_count": 10,
   "metadata": {
    "collapsed": false
   },
   "outputs": [
    {
     "data": {
      "text/plain": [
       "\n",
       "Call:\n",
       "lm(formula = Points ~ Budget, data = df1)\n",
       "\n",
       "Residuals:\n",
       "     Min       1Q   Median       3Q      Max \n",
       "-17.0932  -5.0668  -0.2798   7.5635  14.4730 \n",
       "\n",
       "Coefficients:\n",
       "            Estimate Std. Error t value Pr(>|t|)    \n",
       "(Intercept)   28.617      3.620   7.904 6.48e-07 ***\n",
       "Budget         0.791      0.123   6.430 8.32e-06 ***\n",
       "---\n",
       "Signif. codes:  0 '***' 0.001 '**' 0.01 '*' 0.05 '.' 0.1 ' ' 1\n",
       "\n",
       "Residual standard error: 9.655 on 16 degrees of freedom\n",
       "Multiple R-squared:  0.721,\tAdjusted R-squared:  0.7036 \n",
       "F-statistic: 41.35 on 1 and 16 DF,  p-value: 8.32e-06\n"
      ]
     },
     "metadata": {},
     "output_type": "display_data"
    }
   ],
   "source": [
    "summary(regression)"
   ]
  },
  {
   "cell_type": "markdown",
   "metadata": {},
   "source": [
    "There is a lot of information in the summary. \n",
    "\n",
    "There are a few elements that I would like to highlight:\n",
    "\n",
    " **Estimate** : We are trying to get the best fitting linear equation of the form:\n",
    " $$ y= \\alpha + \\beta * x $$\n",
    " \n",
    " The output Estimate gives the values for the $\\alpha$ (Intercept) and the $\\beta$ (Budget) in this example. In our example the coefficient for Budget is 0.791, which indicates that an increase of 1 (million euro's in this case) may lead to nearly 0.8 points extra.\n",
    " \n",
    " ** Pr(>|t|)** or **p-values**\n",
    " \n",
    "A regression tests the correlation between two variables. There is a \"null-hypothesis\"  (or $H_0$) which states that there is no correlation between the response and the predictor. If this hypothesis cannot be rejected, it means that there is no statistically significant correlation between the response and the predictor. If the hypothesis can be rejected, we assume there is a correlation.\n",
    " \n",
    "The p-value (or probability value) is the probability that the null-hypohtesis is true. \n",
    "\n",
    "\n",
    "* high p-values mean that your data are likely if the null hypothesis is true and -vice versa-\n",
    "* low p-values mean that your data are unlikely if the null hypothesis is true\n",
    "\n",
    "So low p-value (or more stars) are better.\n",
    "\n",
    "**$R^2$**\n",
    "\n",
    "The intuition behind the $R^2$ is that this number gives an indication about the percentage of variation in the data  explained by the regression (i.e. a $R^2$ of 1 means that the model has a perfect fit). See [wikipedia](https://en.wikipedia.org/wiki/Coefficient_of_determination) for more information.\n",
    "\n",
    "\n",
    "For a more complete intuition of the regression output see [here](https://feliperego.github.io/blog/2015/10/23/Interpreting-Model-Output-In-R)\n",
    "\n",
    "\n",
    "\n",
    "## Assumptions of linear regression\n",
    "\n",
    "There are assumptions underlying linear regression. We do not have time to discuss this in this lecture ([see e.g. here for a tutorial in R](http://r-statistics.co/Assumptions-of-Linear-Regression.html)).\n",
    "For this lecture, we will just learn how to check automatically for violation of these assumptions.\n",
    "The gvlma package gives a possibility to check the assumptions with the following command:\n"
   ]
  },
  {
   "cell_type": "code",
   "execution_count": 11,
   "metadata": {
    "collapsed": false
   },
   "outputs": [
    {
     "data": {
      "text/plain": [
       "\n",
       "Call:\n",
       "lm(formula = Points ~ Budget, data = df1)\n",
       "\n",
       "Coefficients:\n",
       "(Intercept)       Budget  \n",
       "     28.617        0.791  \n",
       "\n",
       "\n",
       "ASSESSMENT OF THE LINEAR MODEL ASSUMPTIONS\n",
       "USING THE GLOBAL TEST ON 4 DEGREES-OF-FREEDOM:\n",
       "Level of Significance =  0.05 \n",
       "\n",
       "Call:\n",
       " gvlma(x = regression) \n",
       "\n",
       "                     Value p-value                Decision\n",
       "Global Stat        0.95724  0.9162 Assumptions acceptable.\n",
       "Skewness           0.20394  0.6516 Assumptions acceptable.\n",
       "Kurtosis           0.54751  0.4593 Assumptions acceptable.\n",
       "Link Function      0.07265  0.7875 Assumptions acceptable.\n",
       "Heteroscedasticity 0.13314  0.7152 Assumptions acceptable."
      ]
     },
     "metadata": {},
     "output_type": "display_data"
    }
   ],
   "source": [
    "gvlma(regression)"
   ]
  },
  {
   "cell_type": "markdown",
   "metadata": {},
   "source": [
    "In this case, we may conclude that the assumptions are met.\n",
    "\n",
    "## Warning\n",
    "\n",
    "Please note that correlation does not mean causation. In other words: if two variables (or more) correlate with each other, that does not mean that one variable causes the other. The correlation could be \n",
    "coincidence (\"spurious correlation\", see for some funny examples [here](http://www.tylervigen.com/spurious-correlations), there could be reverse causality (e.g. the tsar in Russia once sent doctors to an area with a cholera epidemic, the peasants killed the doctors because of the correlation between the appearance of the doctors and the incidence of the illness), or the variables are both caused by a unknown variable (see [here](http://abcnews.go.com/WNT/story?id=1633286&page=1) for an example).\n",
    "\n",
    "\n",
    "# Assignment\n",
    "\n",
    "In this assignment we will run different regression models on a constructed data set.\n",
    "\n",
    "## Data\n",
    "\n",
    "We will construct our data.\n",
    "\n",
    "We will use the command `set.seed` to make our data reproducable.\n"
   ]
  },
  {
   "cell_type": "code",
   "execution_count": 12,
   "metadata": {
    "collapsed": true
   },
   "outputs": [],
   "source": [
    "set.seed(123)\n",
    "x1 <- runif(10000, min = 0, max = 1000)\n",
    "\n",
    "df3 <- as.data.frame(x1) %>%\n",
    "mutate(x2 =  runif(10000, min = 500, max = 1000)) %>%\n",
    "mutate(error = rnorm(10000, mean = 0, sd = 100)) %>%\n",
    "mutate(y = 6000 + 3 * x1 + 10 * x2 + error)"
   ]
  },
  {
   "cell_type": "markdown",
   "metadata": {},
   "source": [
    "Our goal will be to obtain the 'real values' of the intercept (6000), $x_1$ (3) and $x_2$ (10)\n",
    "\n",
    "## Inspection of the data\n",
    "\n",
    "First we will inspect the data with the package PerformanceAnalytics. You can use the command `chart.Correlation`. This gives a nice overview of the data. See [here for more information](https://rdrr.io/cran/PerformanceAnalytics/man/chart.Correlation.html).\n",
    "\n",
    "However, running the command will return many (unimportant and non-disruptive) warnings. Therefore, you might want to wrap your code in the command `suppressWarnings`. [See](https://github.com/braverock/PerformanceAnalytics/issues/62)."
   ]
  },
  {
   "cell_type": "code",
   "execution_count": null,
   "metadata": {
    "collapsed": false
   },
   "outputs": [],
   "source": []
  },
  {
   "cell_type": "markdown",
   "metadata": {},
   "source": [
    "## Model 1\n",
    "\n",
    "We will first do a linear regression with $y$ as response variable and $x_1$ as predictor. The equation that we will estimate has the form of:\n",
    "\n",
    "$$ y = \\alpha + \\beta * X_1$$\n",
    "Please comment on the results. Are the coefficients as you expected?\n",
    "What do you think about the $R^2$"
   ]
  },
  {
   "cell_type": "code",
   "execution_count": null,
   "metadata": {
    "collapsed": false
   },
   "outputs": [],
   "source": [
    "model1 <- \n",
    "summary(model1)"
   ]
  },
  {
   "cell_type": "markdown",
   "metadata": {},
   "source": [
    "Please check if the assumptions of linear regression are met:\n"
   ]
  },
  {
   "cell_type": "code",
   "execution_count": null,
   "metadata": {
    "collapsed": false
   },
   "outputs": [],
   "source": []
  },
  {
   "cell_type": "markdown",
   "metadata": {},
   "source": [
    "Unfortunately, our model shows some problems.\n",
    "\n",
    "You need to inspect visually how well the regression performs. Therfore, you are asked to make a scatterplot with the real values of y on the x-axis and predicted y-values on the y-axis."
   ]
  },
  {
   "cell_type": "code",
   "execution_count": 15,
   "metadata": {
    "collapsed": true
   },
   "outputs": [],
   "source": [
    "df3 <- df3 %>%\n",
    "  "
   ]
  },
  {
   "cell_type": "code",
   "execution_count": null,
   "metadata": {
    "collapsed": false
   },
   "outputs": [],
   "source": []
  },
  {
   "cell_type": "markdown",
   "metadata": {},
   "source": [
    "### Conclusion\n",
    "\n",
    "We conclude that the model does not perform very well, although the variables are significant.\n",
    "\n",
    "In this case we also know the real value of the parameters and the model provides a reasonable estimate of the $x_1$ parameter, but not of the intercept.\n",
    "\n",
    "\n",
    "## Model 2\n",
    "\n",
    "We will repeat model 1 with a slight adjustment.\n",
    "\n",
    "We will now estimate:\n",
    "\n",
    "$$ y = \\alpha + \\beta_1 * x_1 + \\beta_2 * x_2 $$\n",
    "You are asked to run this model 2.\n",
    "Please comment on the results. Are the coefficients as you expected?\n",
    "What do you think about the $R^2$"
   ]
  },
  {
   "cell_type": "code",
   "execution_count": null,
   "metadata": {
    "collapsed": false
   },
   "outputs": [],
   "source": [
    "model2<-\n",
    "summary(model2)"
   ]
  },
  {
   "cell_type": "markdown",
   "metadata": {},
   "source": [
    "We will also inspect visually how well the regression performs.\n",
    "Therefore, you are asked to make a scatterplot with the real values of y on the x-axis and predicted y-values of model2 on the y-axis. Please check if the assumptions for linear regression are met."
   ]
  },
  {
   "cell_type": "code",
   "execution_count": 18,
   "metadata": {
    "collapsed": true
   },
   "outputs": [],
   "source": [
    "df3 <- df3 %>%\n",
    "  "
   ]
  },
  {
   "cell_type": "code",
   "execution_count": null,
   "metadata": {
    "collapsed": false
   },
   "outputs": [],
   "source": []
  },
  {
   "cell_type": "markdown",
   "metadata": {},
   "source": [
    "Are the assumption of linear regression met?"
   ]
  },
  {
   "cell_type": "code",
   "execution_count": null,
   "metadata": {
    "collapsed": false
   },
   "outputs": [],
   "source": []
  },
  {
   "cell_type": "markdown",
   "metadata": {},
   "source": [
    "End of notebook"
   ]
  }
 ],
 "metadata": {
  "anaconda-cloud": {},
  "kernelspec": {
   "display_name": "R",
   "language": "R",
   "name": "ir"
  },
  "language_info": {
   "codemirror_mode": "r",
   "file_extension": ".r",
   "mimetype": "text/x-r-source",
   "name": "R",
   "pygments_lexer": "r",
   "version": "3.3.2"
  }
 },
 "nbformat": 4,
 "nbformat_minor": 1
}
