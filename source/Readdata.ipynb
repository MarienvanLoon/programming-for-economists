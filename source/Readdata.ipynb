{
 "cells": [
  {
   "cell_type": "markdown",
   "metadata": {},
   "source": [
    "# Read data\n",
    "\n",
    "Mark Klik & Misja Mikkers\n",
    "\n",
    "# Introduction\n",
    "\n",
    "This course is about working with data. Often your data will be stored in _Excel_ files (with the extension _xls_ or _xlsx_) or in _csv_ (comma separated values) files (with extension _csv_). Note that _csv_ files can also be opened in _Excel_.\n",
    "\n",
    "In this course we will teach you how to import data from _Excel_ and _csv_ files. However, in general, `R` can be used to open virtually any type of data file (e.g. _SPSS_ and _Stata_). Please use Google if you need to import data from other sources.\n",
    "\n",
    "## Packages\n"
   ]
  },
  {
   "cell_type": "code",
   "execution_count": 1,
   "metadata": {
    "collapsed": false
   },
   "outputs": [
    {
     "name": "stderr",
     "output_type": "stream",
     "text": [
      "Warning message:\n",
      "\"package 'tidyverse' was built under R version 3.3.3\"-- Attaching packages --------------------------------------- tidyverse 1.2.1 --\n",
      "v ggplot2 2.2.1     v purrr   0.2.4\n",
      "v tibble  1.3.4     v dplyr   0.7.4\n",
      "v tidyr   0.7.2     v stringr 1.2.0\n",
      "v readr   1.1.1     v forcats 0.2.0\n",
      "Warning message:\n",
      "\"package 'ggplot2' was built under R version 3.3.3\"Warning message:\n",
      "\"package 'tibble' was built under R version 3.3.3\"Warning message:\n",
      "\"package 'tidyr' was built under R version 3.3.3\"Warning message:\n",
      "\"package 'readr' was built under R version 3.3.3\"Warning message:\n",
      "\"package 'purrr' was built under R version 3.3.3\"Warning message:\n",
      "\"package 'dplyr' was built under R version 3.3.3\"Warning message:\n",
      "\"package 'forcats' was built under R version 3.3.3\"-- Conflicts ------------------------------------------ tidyverse_conflicts() --\n",
      "x dplyr::filter() masks stats::filter()\n",
      "x dplyr::lag()    masks stats::lag()\n",
      "Warning message:\n",
      "\"package 'readxl' was built under R version 3.3.3\""
     ]
    }
   ],
   "source": [
    "library(tidyverse)\n",
    "library(readxl)"
   ]
  },
  {
   "cell_type": "markdown",
   "metadata": {},
   "source": [
    "# Basic directory structure\n",
    "\n",
    "It's very usefull to create a directory structure for your project with one folder with the name _Code_ (in which you will save your notebook), one folder with the name _Sourcedata_ (where we will save all the source data) and a folder named _Output_ (where we will save any output that we want to save).\n",
    "\n",
    "![Directory Structure](ds.png)\n",
    "\n",
    "In the following examples we assume that you have structured your directory structure as indicated.\n",
    "\n",
    "# Read csv files\n",
    "\n",
    "## Read and specify the path\n",
    "\n",
    "We will start with reading the contents of the _csv_ file _football.csv_. This file contains data on the ranking of Dutch football teams in 2015 and 2016.\n",
    "\n",
    "We will use the command `your_dataframe <- read.csv2(\"file_name.csv\")`.\n",
    "\n",
    "_yourdataframe_ is the name that you give to the dataframe. In this example we will call the dataframe _football_.\n",
    "\n",
    "However, this only works if the data file is located in the same folder as the notebook. In this case we have saved our data in the folder _Sourcedata_ and the code in the folder _Code_. Therefore, we need to tell `R` where to find the datafile. \n",
    "\n",
    "We can include the path in parameter _file_name_. In this example we tell `R` to go 1 folder up ('..') and then go to the correct folder _Sourcedata_:"
   ]
  },
  {
   "cell_type": "code",
   "execution_count": 2,
   "metadata": {
    "collapsed": true
   },
   "outputs": [],
   "source": [
    "football <- read.csv2(\"../Sourcedata/football.csv\")"
   ]
  },
  {
   "cell_type": "markdown",
   "metadata": {},
   "source": [
    "## Inspect the dataframe\n",
    "\n",
    "We now have read the data. There are a few ways to inspect the data.\n",
    "If we want to see the complete dataframe we can just type the name and hit enter:"
   ]
  },
  {
   "cell_type": "code",
   "execution_count": 3,
   "metadata": {
    "collapsed": false
   },
   "outputs": [
    {
     "data": {
      "text/html": [
       "<table>\n",
       "<thead><tr><th scope=col>Club</th><th scope=col>Points</th><th scope=col>Budget</th></tr></thead>\n",
       "<tbody>\n",
       "\t<tr><td>ADO          </td><td>43           </td><td>13           </td></tr>\n",
       "\t<tr><td>Ajax         </td><td>82           </td><td>65           </td></tr>\n",
       "\t<tr><td>AZ           </td><td>59           </td><td>28           </td></tr>\n",
       "\t<tr><td>Cambuur      </td><td>18           </td><td> 7           </td></tr>\n",
       "\t<tr><td>De Graafschap</td><td>23           </td><td> 7           </td></tr>\n",
       "\t<tr><td>Excelsior    </td><td>30           </td><td> 5           </td></tr>\n",
       "\t<tr><td>Feyenoord    </td><td>63           </td><td>50           </td></tr>\n",
       "\t<tr><td>Groningen    </td><td>50           </td><td>22           </td></tr>\n",
       "\t<tr><td>Heereveen    </td><td>42           </td><td>22           </td></tr>\n",
       "\t<tr><td>Heracles     </td><td>51           </td><td>10           </td></tr>\n",
       "\t<tr><td>NEC          </td><td>46           </td><td>11           </td></tr>\n",
       "\t<tr><td>PEC          </td><td>48           </td><td> 9           </td></tr>\n",
       "\t<tr><td>PSV          </td><td>84           </td><td>63           </td></tr>\n",
       "\t<tr><td>Roda         </td><td>34           </td><td>10           </td></tr>\n",
       "\t<tr><td>Twente       </td><td>40           </td><td>36           </td></tr>\n",
       "\t<tr><td>Utrecht      </td><td>53           </td><td>17           </td></tr>\n",
       "\t<tr><td>Vitesse      </td><td>46           </td><td>28           </td></tr>\n",
       "\t<tr><td>Willem II    </td><td>29           </td><td> 9           </td></tr>\n",
       "</tbody>\n",
       "</table>\n"
      ],
      "text/latex": [
       "\\begin{tabular}{r|lll}\n",
       " Club & Points & Budget\\\\\n",
       "\\hline\n",
       "\t ADO           & 43            & 13           \\\\\n",
       "\t Ajax          & 82            & 65           \\\\\n",
       "\t AZ            & 59            & 28           \\\\\n",
       "\t Cambuur       & 18            &  7           \\\\\n",
       "\t De Graafschap & 23            &  7           \\\\\n",
       "\t Excelsior     & 30            &  5           \\\\\n",
       "\t Feyenoord     & 63            & 50           \\\\\n",
       "\t Groningen     & 50            & 22           \\\\\n",
       "\t Heereveen     & 42            & 22           \\\\\n",
       "\t Heracles      & 51            & 10           \\\\\n",
       "\t NEC           & 46            & 11           \\\\\n",
       "\t PEC           & 48            &  9           \\\\\n",
       "\t PSV           & 84            & 63           \\\\\n",
       "\t Roda          & 34            & 10           \\\\\n",
       "\t Twente        & 40            & 36           \\\\\n",
       "\t Utrecht       & 53            & 17           \\\\\n",
       "\t Vitesse       & 46            & 28           \\\\\n",
       "\t Willem II     & 29            &  9           \\\\\n",
       "\\end{tabular}\n"
      ],
      "text/markdown": [
       "\n",
       "Club | Points | Budget | \n",
       "|---|---|---|---|---|---|---|---|---|---|---|---|---|---|---|---|---|---|\n",
       "| ADO           | 43            | 13            | \n",
       "| Ajax          | 82            | 65            | \n",
       "| AZ            | 59            | 28            | \n",
       "| Cambuur       | 18            |  7            | \n",
       "| De Graafschap | 23            |  7            | \n",
       "| Excelsior     | 30            |  5            | \n",
       "| Feyenoord     | 63            | 50            | \n",
       "| Groningen     | 50            | 22            | \n",
       "| Heereveen     | 42            | 22            | \n",
       "| Heracles      | 51            | 10            | \n",
       "| NEC           | 46            | 11            | \n",
       "| PEC           | 48            |  9            | \n",
       "| PSV           | 84            | 63            | \n",
       "| Roda          | 34            | 10            | \n",
       "| Twente        | 40            | 36            | \n",
       "| Utrecht       | 53            | 17            | \n",
       "| Vitesse       | 46            | 28            | \n",
       "| Willem II     | 29            |  9            | \n",
       "\n",
       "\n"
      ],
      "text/plain": [
       "   Club          Points Budget\n",
       "1  ADO           43     13    \n",
       "2  Ajax          82     65    \n",
       "3  AZ            59     28    \n",
       "4  Cambuur       18      7    \n",
       "5  De Graafschap 23      7    \n",
       "6  Excelsior     30      5    \n",
       "7  Feyenoord     63     50    \n",
       "8  Groningen     50     22    \n",
       "9  Heereveen     42     22    \n",
       "10 Heracles      51     10    \n",
       "11 NEC           46     11    \n",
       "12 PEC           48      9    \n",
       "13 PSV           84     63    \n",
       "14 Roda          34     10    \n",
       "15 Twente        40     36    \n",
       "16 Utrecht       53     17    \n",
       "17 Vitesse       46     28    \n",
       "18 Willem II     29      9    "
      ]
     },
     "metadata": {},
     "output_type": "display_data"
    }
   ],
   "source": [
    "football"
   ]
  },
  {
   "cell_type": "markdown",
   "metadata": {},
   "source": [
    "This may not be very practical if you have very large dataframes. With the command `head(name_dataframe)`, you can see the first rows of the dataframe,"
   ]
  },
  {
   "cell_type": "code",
   "execution_count": 4,
   "metadata": {
    "collapsed": false
   },
   "outputs": [
    {
     "data": {
      "text/html": [
       "<table>\n",
       "<thead><tr><th scope=col>Club</th><th scope=col>Points</th><th scope=col>Budget</th></tr></thead>\n",
       "<tbody>\n",
       "\t<tr><td>ADO          </td><td>43           </td><td>13           </td></tr>\n",
       "\t<tr><td>Ajax         </td><td>82           </td><td>65           </td></tr>\n",
       "\t<tr><td>AZ           </td><td>59           </td><td>28           </td></tr>\n",
       "\t<tr><td>Cambuur      </td><td>18           </td><td> 7           </td></tr>\n",
       "\t<tr><td>De Graafschap</td><td>23           </td><td> 7           </td></tr>\n",
       "\t<tr><td>Excelsior    </td><td>30           </td><td> 5           </td></tr>\n",
       "</tbody>\n",
       "</table>\n"
      ],
      "text/latex": [
       "\\begin{tabular}{r|lll}\n",
       " Club & Points & Budget\\\\\n",
       "\\hline\n",
       "\t ADO           & 43            & 13           \\\\\n",
       "\t Ajax          & 82            & 65           \\\\\n",
       "\t AZ            & 59            & 28           \\\\\n",
       "\t Cambuur       & 18            &  7           \\\\\n",
       "\t De Graafschap & 23            &  7           \\\\\n",
       "\t Excelsior     & 30            &  5           \\\\\n",
       "\\end{tabular}\n"
      ],
      "text/markdown": [
       "\n",
       "Club | Points | Budget | \n",
       "|---|---|---|---|---|---|\n",
       "| ADO           | 43            | 13            | \n",
       "| Ajax          | 82            | 65            | \n",
       "| AZ            | 59            | 28            | \n",
       "| Cambuur       | 18            |  7            | \n",
       "| De Graafschap | 23            |  7            | \n",
       "| Excelsior     | 30            |  5            | \n",
       "\n",
       "\n"
      ],
      "text/plain": [
       "  Club          Points Budget\n",
       "1 ADO           43     13    \n",
       "2 Ajax          82     65    \n",
       "3 AZ            59     28    \n",
       "4 Cambuur       18      7    \n",
       "5 De Graafschap 23      7    \n",
       "6 Excelsior     30      5    "
      ]
     },
     "metadata": {},
     "output_type": "display_data"
    }
   ],
   "source": [
    "head(football)"
   ]
  },
  {
   "cell_type": "markdown",
   "metadata": {},
   "source": [
    "while with `tail(name_dataframe)` you can see the last rows:\n"
   ]
  },
  {
   "cell_type": "code",
   "execution_count": 5,
   "metadata": {
    "collapsed": false
   },
   "outputs": [
    {
     "data": {
      "text/html": [
       "<table>\n",
       "<thead><tr><th></th><th scope=col>Club</th><th scope=col>Points</th><th scope=col>Budget</th></tr></thead>\n",
       "<tbody>\n",
       "\t<tr><th scope=row>13</th><td>PSV      </td><td>84       </td><td>63       </td></tr>\n",
       "\t<tr><th scope=row>14</th><td>Roda     </td><td>34       </td><td>10       </td></tr>\n",
       "\t<tr><th scope=row>15</th><td>Twente   </td><td>40       </td><td>36       </td></tr>\n",
       "\t<tr><th scope=row>16</th><td>Utrecht  </td><td>53       </td><td>17       </td></tr>\n",
       "\t<tr><th scope=row>17</th><td>Vitesse  </td><td>46       </td><td>28       </td></tr>\n",
       "\t<tr><th scope=row>18</th><td>Willem II</td><td>29       </td><td> 9       </td></tr>\n",
       "</tbody>\n",
       "</table>\n"
      ],
      "text/latex": [
       "\\begin{tabular}{r|lll}\n",
       "  & Club & Points & Budget\\\\\n",
       "\\hline\n",
       "\t13 & PSV       & 84        & 63       \\\\\n",
       "\t14 & Roda      & 34        & 10       \\\\\n",
       "\t15 & Twente    & 40        & 36       \\\\\n",
       "\t16 & Utrecht   & 53        & 17       \\\\\n",
       "\t17 & Vitesse   & 46        & 28       \\\\\n",
       "\t18 & Willem II & 29        &  9       \\\\\n",
       "\\end{tabular}\n"
      ],
      "text/markdown": [
       "\n",
       "| <!--/--> | Club | Points | Budget | \n",
       "|---|---|---|---|---|---|\n",
       "| 13 | PSV       | 84        | 63        | \n",
       "| 14 | Roda      | 34        | 10        | \n",
       "| 15 | Twente    | 40        | 36        | \n",
       "| 16 | Utrecht   | 53        | 17        | \n",
       "| 17 | Vitesse   | 46        | 28        | \n",
       "| 18 | Willem II | 29        |  9        | \n",
       "\n",
       "\n"
      ],
      "text/plain": [
       "   Club      Points Budget\n",
       "13 PSV       84     63    \n",
       "14 Roda      34     10    \n",
       "15 Twente    40     36    \n",
       "16 Utrecht   53     17    \n",
       "17 Vitesse   46     28    \n",
       "18 Willem II 29      9    "
      ]
     },
     "metadata": {},
     "output_type": "display_data"
    }
   ],
   "source": [
    "tail(football)\n"
   ]
  },
  {
   "cell_type": "markdown",
   "metadata": {},
   "source": [
    "With the command `summary(name_dataframe)`, you will get a summary of your dataset:"
   ]
  },
  {
   "cell_type": "code",
   "execution_count": 5,
   "metadata": {
    "collapsed": false
   },
   "outputs": [
    {
     "data": {
      "text/plain": [
       "            Club        Points          Budget     \n",
       " ADO          : 1   Min.   :18.00   Min.   : 5.00  \n",
       " Ajax         : 1   1st Qu.:35.50   1st Qu.: 9.25  \n",
       " AZ           : 1   Median :46.00   Median :15.00  \n",
       " Cambuur      : 1   Mean   :46.72   Mean   :22.89  \n",
       " De Graafschap: 1   3rd Qu.:52.50   3rd Qu.:28.00  \n",
       " Excelsior    : 1   Max.   :84.00   Max.   :65.00  \n",
       " (Other)      :12                                  "
      ]
     },
     "metadata": {},
     "output_type": "display_data"
    }
   ],
   "source": [
    "summary(football)\n"
   ]
  },
  {
   "cell_type": "markdown",
   "metadata": {},
   "source": [
    "\n",
    "### Common issue\n",
    "\n",
    "We will now read another dataset containing information about the Dutch football league. For your convenience, we have downloaded the data and stored it in a _csv_ with the name _N1.csv_.\n"
   ]
  },
  {
   "cell_type": "code",
   "execution_count": 6,
   "metadata": {
    "collapsed": true
   },
   "outputs": [],
   "source": [
    "football1 <- read.csv2(\"../Sourcedata/N1.csv\")\n"
   ]
  },
  {
   "cell_type": "markdown",
   "metadata": {},
   "source": [
    "If we have a look at the data, we see the following\n"
   ]
  },
  {
   "cell_type": "code",
   "execution_count": 7,
   "metadata": {
    "collapsed": false
   },
   "outputs": [
    {
     "data": {
      "text/html": [
       "<table>\n",
       "<thead><tr><th scope=col>Div.Date.HomeTeam.AwayTeam.FTHG.FTAG.FTR.HTHG.HTAG.HTR.B365H.B365D.B365A.BWH.BWD.BWA.IWH.IWD.IWA.LBH.LBD.LBA.PSH.PSD.PSA.WHH.WHD.WHA.VCH.VCD.VCA.Bb1X2.BbMxH.BbAvH.BbMxD.BbAvD.BbMxA.BbAvA.BbOU.BbMx.2.5.BbAv.2.5.BbMx.2.5.BbAv.2.5.BbAH.BbAHh.BbMxAHH.BbAvAHH.BbMxAHA.BbAvAHA.PSCH.PSCD.PSCA</th></tr></thead>\n",
       "<tbody>\n",
       "\t<tr><td>N1,11/08/17,Den Haag,Utrecht,0,3,A,0,1,A,3.6,3.4,2.05,3.9,3.6,1.95,3.3,3.3,2,3.6,3.2,2.1,3.84,3.62,2.05,3.5,3.4,2,3.8,3.5,2,40,3.9,3.62,3.62,3.43,2.14,2.02,36,2.03,1.96,1.94,1.84,17,0.5,1.88,1.84,2.07,2.02,3.95,3.57,2.03                </td></tr>\n",
       "\t<tr><td>N1,12/08/17,Heracles,Ajax,2,1,H,0,0,D,7,4.33,1.44,7.25,4.75,1.42,7,4.5,1.4,7,4.33,1.4,7.57,5.14,1.43,6.5,4.33,1.44,7.5,4.75,1.4,41,8.22,7.16,5.14,4.59,1.46,1.41,34,1.68,1.64,2.32,2.18,17,1.25,2,1.94,1.96,1.91,9.72,6.18,1.32             </td></tr>\n",
       "\t<tr><td>N1,12/08/17,PSV Eindhoven,AZ Alkmaar,3,2,H,1,1,D,1.4,4.75,7,1.44,4.6,7.25,1.3,5,8.5,1.44,4.6,7.5,1.45,5.27,6.85,1.35,4.8,7.5,1.4,5,7,41,1.45,1.41,5.5,4.82,8.5,6.7,33,1.5,1.45,2.8,2.64,17,-1.25,1.98,1.92,1.96,1.93,1.47,5.1,6.64          </td></tr>\n",
       "\t<tr><td>N1,12/08/17,Vitesse,NAC Breda,4,1,H,3,0,H,1.53,4.2,5.75,1.55,4.25,5.75,1.5,4.2,5.5,1.53,4,5.5,1.56,4.53,6.03,1.53,4,5.5,1.53,4.3,6,41,1.57,1.54,4.53,4.19,6.03,5.54,34,1.69,1.61,2.35,2.23,18,-1,1.98,1.92,2,1.93,1.47,4.82,7.33            </td></tr>\n",
       "\t<tr><td>N1,12/08/17,VVV Venlo,Sparta Rotterdam,3,0,H,1,0,H,2.25,3.3,3.2,2.1,3.5,3.5,2.2,3.4,2.95,2.1,3.25,3.3,2.17,3.49,3.6,2.15,3.3,3.2,2.1,3.5,3.5,41,2.25,2.14,3.5,3.35,3.6,3.33,40,1.99,1.9,1.97,1.87,18,-0.25,1.86,1.83,2.08,2.03,2.1,3.52,3.78</td></tr>\n",
       "\t<tr><td>N1,13/08/17,Feyenoord,Twente,2,1,H,1,1,D,1.25,5.5,12,1.26,5.75,12,1.25,5.5,10,1.22,5.75,13,1.25,6.7,13.2,1.22,6,11,1.22,6.25,13,39,1.26,1.23,6.7,6.02,14.3,11.3,31,1.55,1.51,2.63,2.47,17,-1.75,1.92,1.88,2.01,1.97,1.24,6.7,13.99          </td></tr>\n",
       "</tbody>\n",
       "</table>\n"
      ],
      "text/latex": [
       "\\begin{tabular}{r|l}\n",
       " Div.Date.HomeTeam.AwayTeam.FTHG.FTAG.FTR.HTHG.HTAG.HTR.B365H.B365D.B365A.BWH.BWD.BWA.IWH.IWD.IWA.LBH.LBD.LBA.PSH.PSD.PSA.WHH.WHD.WHA.VCH.VCD.VCA.Bb1X2.BbMxH.BbAvH.BbMxD.BbAvD.BbMxA.BbAvA.BbOU.BbMx.2.5.BbAv.2.5.BbMx.2.5.BbAv.2.5.BbAH.BbAHh.BbMxAHH.BbAvAHH.BbMxAHA.BbAvAHA.PSCH.PSCD.PSCA\\\\\n",
       "\\hline\n",
       "\t N1,11/08/17,Den Haag,Utrecht,0,3,A,0,1,A,3.6,3.4,2.05,3.9,3.6,1.95,3.3,3.3,2,3.6,3.2,2.1,3.84,3.62,2.05,3.5,3.4,2,3.8,3.5,2,40,3.9,3.62,3.62,3.43,2.14,2.02,36,2.03,1.96,1.94,1.84,17,0.5,1.88,1.84,2.07,2.02,3.95,3.57,2.03                \\\\\n",
       "\t N1,12/08/17,Heracles,Ajax,2,1,H,0,0,D,7,4.33,1.44,7.25,4.75,1.42,7,4.5,1.4,7,4.33,1.4,7.57,5.14,1.43,6.5,4.33,1.44,7.5,4.75,1.4,41,8.22,7.16,5.14,4.59,1.46,1.41,34,1.68,1.64,2.32,2.18,17,1.25,2,1.94,1.96,1.91,9.72,6.18,1.32             \\\\\n",
       "\t N1,12/08/17,PSV Eindhoven,AZ Alkmaar,3,2,H,1,1,D,1.4,4.75,7,1.44,4.6,7.25,1.3,5,8.5,1.44,4.6,7.5,1.45,5.27,6.85,1.35,4.8,7.5,1.4,5,7,41,1.45,1.41,5.5,4.82,8.5,6.7,33,1.5,1.45,2.8,2.64,17,-1.25,1.98,1.92,1.96,1.93,1.47,5.1,6.64          \\\\\n",
       "\t N1,12/08/17,Vitesse,NAC Breda,4,1,H,3,0,H,1.53,4.2,5.75,1.55,4.25,5.75,1.5,4.2,5.5,1.53,4,5.5,1.56,4.53,6.03,1.53,4,5.5,1.53,4.3,6,41,1.57,1.54,4.53,4.19,6.03,5.54,34,1.69,1.61,2.35,2.23,18,-1,1.98,1.92,2,1.93,1.47,4.82,7.33            \\\\\n",
       "\t N1,12/08/17,VVV Venlo,Sparta Rotterdam,3,0,H,1,0,H,2.25,3.3,3.2,2.1,3.5,3.5,2.2,3.4,2.95,2.1,3.25,3.3,2.17,3.49,3.6,2.15,3.3,3.2,2.1,3.5,3.5,41,2.25,2.14,3.5,3.35,3.6,3.33,40,1.99,1.9,1.97,1.87,18,-0.25,1.86,1.83,2.08,2.03,2.1,3.52,3.78\\\\\n",
       "\t N1,13/08/17,Feyenoord,Twente,2,1,H,1,1,D,1.25,5.5,12,1.26,5.75,12,1.25,5.5,10,1.22,5.75,13,1.25,6.7,13.2,1.22,6,11,1.22,6.25,13,39,1.26,1.23,6.7,6.02,14.3,11.3,31,1.55,1.51,2.63,2.47,17,-1.75,1.92,1.88,2.01,1.97,1.24,6.7,13.99          \\\\\n",
       "\\end{tabular}\n"
      ],
      "text/markdown": [
       "\n",
       "Div.Date.HomeTeam.AwayTeam.FTHG.FTAG.FTR.HTHG.HTAG.HTR.B365H.B365D.B365A.BWH.BWD.BWA.IWH.IWD.IWA.LBH.LBD.LBA.PSH.PSD.PSA.WHH.WHD.WHA.VCH.VCD.VCA.Bb1X2.BbMxH.BbAvH.BbMxD.BbAvD.BbMxA.BbAvA.BbOU.BbMx.2.5.BbAv.2.5.BbMx.2.5.BbAv.2.5.BbAH.BbAHh.BbMxAHH.BbAvAHH.BbMxAHA.BbAvAHA.PSCH.PSCD.PSCA | \n",
       "|---|---|---|---|---|---|\n",
       "| N1,11/08/17,Den Haag,Utrecht,0,3,A,0,1,A,3.6,3.4,2.05,3.9,3.6,1.95,3.3,3.3,2,3.6,3.2,2.1,3.84,3.62,2.05,3.5,3.4,2,3.8,3.5,2,40,3.9,3.62,3.62,3.43,2.14,2.02,36,2.03,1.96,1.94,1.84,17,0.5,1.88,1.84,2.07,2.02,3.95,3.57,2.03                 | \n",
       "| N1,12/08/17,Heracles,Ajax,2,1,H,0,0,D,7,4.33,1.44,7.25,4.75,1.42,7,4.5,1.4,7,4.33,1.4,7.57,5.14,1.43,6.5,4.33,1.44,7.5,4.75,1.4,41,8.22,7.16,5.14,4.59,1.46,1.41,34,1.68,1.64,2.32,2.18,17,1.25,2,1.94,1.96,1.91,9.72,6.18,1.32              | \n",
       "| N1,12/08/17,PSV Eindhoven,AZ Alkmaar,3,2,H,1,1,D,1.4,4.75,7,1.44,4.6,7.25,1.3,5,8.5,1.44,4.6,7.5,1.45,5.27,6.85,1.35,4.8,7.5,1.4,5,7,41,1.45,1.41,5.5,4.82,8.5,6.7,33,1.5,1.45,2.8,2.64,17,-1.25,1.98,1.92,1.96,1.93,1.47,5.1,6.64           | \n",
       "| N1,12/08/17,Vitesse,NAC Breda,4,1,H,3,0,H,1.53,4.2,5.75,1.55,4.25,5.75,1.5,4.2,5.5,1.53,4,5.5,1.56,4.53,6.03,1.53,4,5.5,1.53,4.3,6,41,1.57,1.54,4.53,4.19,6.03,5.54,34,1.69,1.61,2.35,2.23,18,-1,1.98,1.92,2,1.93,1.47,4.82,7.33             | \n",
       "| N1,12/08/17,VVV Venlo,Sparta Rotterdam,3,0,H,1,0,H,2.25,3.3,3.2,2.1,3.5,3.5,2.2,3.4,2.95,2.1,3.25,3.3,2.17,3.49,3.6,2.15,3.3,3.2,2.1,3.5,3.5,41,2.25,2.14,3.5,3.35,3.6,3.33,40,1.99,1.9,1.97,1.87,18,-0.25,1.86,1.83,2.08,2.03,2.1,3.52,3.78 | \n",
       "| N1,13/08/17,Feyenoord,Twente,2,1,H,1,1,D,1.25,5.5,12,1.26,5.75,12,1.25,5.5,10,1.22,5.75,13,1.25,6.7,13.2,1.22,6,11,1.22,6.25,13,39,1.26,1.23,6.7,6.02,14.3,11.3,31,1.55,1.51,2.63,2.47,17,-1.75,1.92,1.88,2.01,1.97,1.24,6.7,13.99           | \n",
       "\n",
       "\n"
      ],
      "text/plain": [
       "  Div.Date.HomeTeam.AwayTeam.FTHG.FTAG.FTR.HTHG.HTAG.HTR.B365H.B365D.B365A.BWH.BWD.BWA.IWH.IWD.IWA.LBH.LBD.LBA.PSH.PSD.PSA.WHH.WHD.WHA.VCH.VCD.VCA.Bb1X2.BbMxH.BbAvH.BbMxD.BbAvD.BbMxA.BbAvA.BbOU.BbMx.2.5.BbAv.2.5.BbMx.2.5.BbAv.2.5.BbAH.BbAHh.BbMxAHH.BbAvAHH.BbMxAHA.BbAvAHA.PSCH.PSCD.PSCA\n",
       "1 N1,11/08/17,Den Haag,Utrecht,0,3,A,0,1,A,3.6,3.4,2.05,3.9,3.6,1.95,3.3,3.3,2,3.6,3.2,2.1,3.84,3.62,2.05,3.5,3.4,2,3.8,3.5,2,40,3.9,3.62,3.62,3.43,2.14,2.02,36,2.03,1.96,1.94,1.84,17,0.5,1.88,1.84,2.07,2.02,3.95,3.57,2.03                                                                 \n",
       "2 N1,12/08/17,Heracles,Ajax,2,1,H,0,0,D,7,4.33,1.44,7.25,4.75,1.42,7,4.5,1.4,7,4.33,1.4,7.57,5.14,1.43,6.5,4.33,1.44,7.5,4.75,1.4,41,8.22,7.16,5.14,4.59,1.46,1.41,34,1.68,1.64,2.32,2.18,17,1.25,2,1.94,1.96,1.91,9.72,6.18,1.32                                                              \n",
       "3 N1,12/08/17,PSV Eindhoven,AZ Alkmaar,3,2,H,1,1,D,1.4,4.75,7,1.44,4.6,7.25,1.3,5,8.5,1.44,4.6,7.5,1.45,5.27,6.85,1.35,4.8,7.5,1.4,5,7,41,1.45,1.41,5.5,4.82,8.5,6.7,33,1.5,1.45,2.8,2.64,17,-1.25,1.98,1.92,1.96,1.93,1.47,5.1,6.64                                                           \n",
       "4 N1,12/08/17,Vitesse,NAC Breda,4,1,H,3,0,H,1.53,4.2,5.75,1.55,4.25,5.75,1.5,4.2,5.5,1.53,4,5.5,1.56,4.53,6.03,1.53,4,5.5,1.53,4.3,6,41,1.57,1.54,4.53,4.19,6.03,5.54,34,1.69,1.61,2.35,2.23,18,-1,1.98,1.92,2,1.93,1.47,4.82,7.33                                                             \n",
       "5 N1,12/08/17,VVV Venlo,Sparta Rotterdam,3,0,H,1,0,H,2.25,3.3,3.2,2.1,3.5,3.5,2.2,3.4,2.95,2.1,3.25,3.3,2.17,3.49,3.6,2.15,3.3,3.2,2.1,3.5,3.5,41,2.25,2.14,3.5,3.35,3.6,3.33,40,1.99,1.9,1.97,1.87,18,-0.25,1.86,1.83,2.08,2.03,2.1,3.52,3.78                                                 \n",
       "6 N1,13/08/17,Feyenoord,Twente,2,1,H,1,1,D,1.25,5.5,12,1.26,5.75,12,1.25,5.5,10,1.22,5.75,13,1.25,6.7,13.2,1.22,6,11,1.22,6.25,13,39,1.26,1.23,6.7,6.02,14.3,11.3,31,1.55,1.51,2.63,2.47,17,-1.75,1.92,1.88,2.01,1.97,1.24,6.7,13.99                                                           "
      ]
     },
     "metadata": {},
     "output_type": "display_data"
    }
   ],
   "source": [
    "head(football1)\n"
   ]
  },
  {
   "cell_type": "markdown",
   "metadata": {},
   "source": [
    "All the data are imported into a single column!\n",
    "\n",
    "The extension _csv_ is an abbrevation of _Comma Separated Value_. When this format was developed, observations were separated by 'comma's'. In some countries, e.g. the Netherlands, values are commonly separated by \";\".  `read.csv2` assumes that the values are separated by ';', so for most cases, it's more convenient to use. If you read a file where values are separated with ',', the command `read.csv2` does not recognize this. There are several ways to solve this issue. The most practical way is to specify the separator manually. In the case of the file _N1_,  a comma is used to separate the values:"
   ]
  },
  {
   "cell_type": "code",
   "execution_count": 8,
   "metadata": {
    "collapsed": false
   },
   "outputs": [
    {
     "data": {
      "text/html": [
       "<table>\n",
       "<thead><tr><th scope=col>Div</th><th scope=col>Date</th><th scope=col>HomeTeam</th><th scope=col>AwayTeam</th><th scope=col>FTHG</th><th scope=col>FTAG</th><th scope=col>FTR</th><th scope=col>HTHG</th><th scope=col>HTAG</th><th scope=col>HTR</th><th scope=col>...</th><th scope=col>BbAv.2.5.1</th><th scope=col>BbAH</th><th scope=col>BbAHh</th><th scope=col>BbMxAHH</th><th scope=col>BbAvAHH</th><th scope=col>BbMxAHA</th><th scope=col>BbAvAHA</th><th scope=col>PSCH</th><th scope=col>PSCD</th><th scope=col>PSCA</th></tr></thead>\n",
       "<tbody>\n",
       "\t<tr><td>N1              </td><td>11/08/17        </td><td>Den Haag        </td><td>Utrecht         </td><td>0               </td><td>3               </td><td>A               </td><td>0               </td><td>1               </td><td>A               </td><td>...             </td><td>1.84            </td><td>17              </td><td>0.5             </td><td>1.88            </td><td>1.84            </td><td>2.07            </td><td>2.02            </td><td>3.95            </td><td>3.57            </td><td>2.03            </td></tr>\n",
       "\t<tr><td>N1              </td><td>12/08/17        </td><td>Heracles        </td><td>Ajax            </td><td>2               </td><td>1               </td><td>H               </td><td>0               </td><td>0               </td><td>D               </td><td>...             </td><td>2.18            </td><td>17              </td><td>1.25            </td><td>2               </td><td>1.94            </td><td>1.96            </td><td>1.91            </td><td>9.72            </td><td>6.18            </td><td>1.32            </td></tr>\n",
       "\t<tr><td>N1              </td><td>12/08/17        </td><td>PSV Eindhoven   </td><td>AZ Alkmaar      </td><td>3               </td><td>2               </td><td>H               </td><td>1               </td><td>1               </td><td>D               </td><td>...             </td><td>2.64            </td><td>17              </td><td>-1.25           </td><td>1.98            </td><td>1.92            </td><td>1.96            </td><td>1.93            </td><td>1.47            </td><td>5.1             </td><td>6.64            </td></tr>\n",
       "\t<tr><td>N1              </td><td>12/08/17        </td><td>Vitesse         </td><td>NAC Breda       </td><td>4               </td><td>1               </td><td>H               </td><td>3               </td><td>0               </td><td>H               </td><td>...             </td><td>2.23            </td><td>18              </td><td>-1              </td><td>1.98            </td><td>1.92            </td><td>2               </td><td>1.93            </td><td>1.47            </td><td>4.82            </td><td>7.33            </td></tr>\n",
       "\t<tr><td>N1              </td><td>12/08/17        </td><td>VVV Venlo       </td><td>Sparta Rotterdam</td><td>3               </td><td>0               </td><td>H               </td><td>1               </td><td>0               </td><td>H               </td><td>...             </td><td>1.87            </td><td>18              </td><td>-0.25           </td><td>1.86            </td><td>1.83            </td><td>2.08            </td><td>2.03            </td><td>2.1             </td><td>3.52            </td><td>3.78            </td></tr>\n",
       "\t<tr><td>N1              </td><td>13/08/17        </td><td>Feyenoord       </td><td>Twente          </td><td>2               </td><td>1               </td><td>H               </td><td>1               </td><td>1               </td><td>D               </td><td>...             </td><td>2.47            </td><td>17              </td><td>-1.75           </td><td>1.92            </td><td>1.88            </td><td>2.01            </td><td>1.97            </td><td>1.24            </td><td>6.7             </td><td>13.99           </td></tr>\n",
       "</tbody>\n",
       "</table>\n"
      ],
      "text/latex": [
       "\\begin{tabular}{r|llllllllllllllllllllllllllllllllllllllllllllllllllll}\n",
       " Div & Date & HomeTeam & AwayTeam & FTHG & FTAG & FTR & HTHG & HTAG & HTR & ... & BbAv.2.5.1 & BbAH & BbAHh & BbMxAHH & BbAvAHH & BbMxAHA & BbAvAHA & PSCH & PSCD & PSCA\\\\\n",
       "\\hline\n",
       "\t N1               & 11/08/17         & Den Haag         & Utrecht          & 0                & 3                & A                & 0                & 1                & A                & ...              & 1.84             & 17               & 0.5              & 1.88             & 1.84             & 2.07             & 2.02             & 3.95             & 3.57             & 2.03            \\\\\n",
       "\t N1               & 12/08/17         & Heracles         & Ajax             & 2                & 1                & H                & 0                & 0                & D                & ...              & 2.18             & 17               & 1.25             & 2                & 1.94             & 1.96             & 1.91             & 9.72             & 6.18             & 1.32            \\\\\n",
       "\t N1               & 12/08/17         & PSV Eindhoven    & AZ Alkmaar       & 3                & 2                & H                & 1                & 1                & D                & ...              & 2.64             & 17               & -1.25            & 1.98             & 1.92             & 1.96             & 1.93             & 1.47             & 5.1              & 6.64            \\\\\n",
       "\t N1               & 12/08/17         & Vitesse          & NAC Breda        & 4                & 1                & H                & 3                & 0                & H                & ...              & 2.23             & 18               & -1               & 1.98             & 1.92             & 2                & 1.93             & 1.47             & 4.82             & 7.33            \\\\\n",
       "\t N1               & 12/08/17         & VVV Venlo        & Sparta Rotterdam & 3                & 0                & H                & 1                & 0                & H                & ...              & 1.87             & 18               & -0.25            & 1.86             & 1.83             & 2.08             & 2.03             & 2.1              & 3.52             & 3.78            \\\\\n",
       "\t N1               & 13/08/17         & Feyenoord        & Twente           & 2                & 1                & H                & 1                & 1                & D                & ...              & 2.47             & 17               & -1.75            & 1.92             & 1.88             & 2.01             & 1.97             & 1.24             & 6.7              & 13.99           \\\\\n",
       "\\end{tabular}\n"
      ],
      "text/markdown": [
       "\n",
       "Div | Date | HomeTeam | AwayTeam | FTHG | FTAG | FTR | HTHG | HTAG | HTR | ... | BbAv.2.5.1 | BbAH | BbAHh | BbMxAHH | BbAvAHH | BbMxAHA | BbAvAHA | PSCH | PSCD | PSCA | \n",
       "|---|---|---|---|---|---|\n",
       "| N1               | 11/08/17         | Den Haag         | Utrecht          | 0                | 3                | A                | 0                | 1                | A                | ...              | 1.84             | 17               | 0.5              | 1.88             | 1.84             | 2.07             | 2.02             | 3.95             | 3.57             | 2.03             | \n",
       "| N1               | 12/08/17         | Heracles         | Ajax             | 2                | 1                | H                | 0                | 0                | D                | ...              | 2.18             | 17               | 1.25             | 2                | 1.94             | 1.96             | 1.91             | 9.72             | 6.18             | 1.32             | \n",
       "| N1               | 12/08/17         | PSV Eindhoven    | AZ Alkmaar       | 3                | 2                | H                | 1                | 1                | D                | ...              | 2.64             | 17               | -1.25            | 1.98             | 1.92             | 1.96             | 1.93             | 1.47             | 5.1              | 6.64             | \n",
       "| N1               | 12/08/17         | Vitesse          | NAC Breda        | 4                | 1                | H                | 3                | 0                | H                | ...              | 2.23             | 18               | -1               | 1.98             | 1.92             | 2                | 1.93             | 1.47             | 4.82             | 7.33             | \n",
       "| N1               | 12/08/17         | VVV Venlo        | Sparta Rotterdam | 3                | 0                | H                | 1                | 0                | H                | ...              | 1.87             | 18               | -0.25            | 1.86             | 1.83             | 2.08             | 2.03             | 2.1              | 3.52             | 3.78             | \n",
       "| N1               | 13/08/17         | Feyenoord        | Twente           | 2                | 1                | H                | 1                | 1                | D                | ...              | 2.47             | 17               | -1.75            | 1.92             | 1.88             | 2.01             | 1.97             | 1.24             | 6.7              | 13.99            | \n",
       "\n",
       "\n"
      ],
      "text/plain": [
       "  Div Date     HomeTeam      AwayTeam         FTHG FTAG FTR HTHG HTAG HTR ...\n",
       "1 N1  11/08/17 Den Haag      Utrecht          0    3    A   0    1    A   ...\n",
       "2 N1  12/08/17 Heracles      Ajax             2    1    H   0    0    D   ...\n",
       "3 N1  12/08/17 PSV Eindhoven AZ Alkmaar       3    2    H   1    1    D   ...\n",
       "4 N1  12/08/17 Vitesse       NAC Breda        4    1    H   3    0    H   ...\n",
       "5 N1  12/08/17 VVV Venlo     Sparta Rotterdam 3    0    H   1    0    H   ...\n",
       "6 N1  13/08/17 Feyenoord     Twente           2    1    H   1    1    D   ...\n",
       "  BbAv.2.5.1 BbAH BbAHh BbMxAHH BbAvAHH BbMxAHA BbAvAHA PSCH PSCD PSCA \n",
       "1 1.84       17   0.5   1.88    1.84    2.07    2.02    3.95 3.57 2.03 \n",
       "2 2.18       17   1.25  2       1.94    1.96    1.91    9.72 6.18 1.32 \n",
       "3 2.64       17   -1.25 1.98    1.92    1.96    1.93    1.47 5.1  6.64 \n",
       "4 2.23       18   -1    1.98    1.92    2       1.93    1.47 4.82 7.33 \n",
       "5 1.87       18   -0.25 1.86    1.83    2.08    2.03    2.1  3.52 3.78 \n",
       "6 2.47       17   -1.75 1.92    1.88    2.01    1.97    1.24 6.7  13.99"
      ]
     },
     "metadata": {},
     "output_type": "display_data"
    }
   ],
   "source": [
    "football2 <- read.csv2(\"../Sourcedata/N1.csv\", sep = \",\")\n",
    "head(football2)"
   ]
  },
  {
   "cell_type": "markdown",
   "metadata": {},
   "source": [
    "# Read Excel files\n",
    "\n",
    "## Read Excel files\n",
    "\n",
    "Often you will get your data in the form of an _Excel_ sheet. There are several packages available to read _Excel_ files in `R`. For this course, we will use the package `readxl`.\n",
    "\n",
    "We will use the same data as above, only in a different format.\n",
    "We have loaded the package `readxl` at the top of this notebook. using that package, the `Excel` sheet can be loaded by using:"
   ]
  },
  {
   "cell_type": "code",
   "execution_count": 10,
   "metadata": {
    "collapsed": false
   },
   "outputs": [
    {
     "data": {
      "text/html": [
       "<table>\n",
       "<thead><tr><th scope=col>Eredivisie 2015/2016</th><th scope=col>X__1</th></tr></thead>\n",
       "<tbody>\n",
       "\t<tr><td>NA       </td><td>NA       </td></tr>\n",
       "\t<tr><td>NA       </td><td>NA       </td></tr>\n",
       "\t<tr><td>Club     </td><td>Points   </td></tr>\n",
       "\t<tr><td>PSV      </td><td>84       </td></tr>\n",
       "\t<tr><td>Ajax     </td><td>82       </td></tr>\n",
       "\t<tr><td>Feyenoord</td><td>63       </td></tr>\n",
       "</tbody>\n",
       "</table>\n"
      ],
      "text/latex": [
       "\\begin{tabular}{r|ll}\n",
       " Eredivisie 2015/2016 & X\\_\\_1\\\\\n",
       "\\hline\n",
       "\t NA        & NA       \\\\\n",
       "\t NA        & NA       \\\\\n",
       "\t Club      & Points   \\\\\n",
       "\t PSV       & 84       \\\\\n",
       "\t Ajax      & 82       \\\\\n",
       "\t Feyenoord & 63       \\\\\n",
       "\\end{tabular}\n"
      ],
      "text/markdown": [
       "\n",
       "Eredivisie 2015/2016 | X__1 | \n",
       "|---|---|---|---|---|---|\n",
       "| NA        | NA        | \n",
       "| NA        | NA        | \n",
       "| Club      | Points    | \n",
       "| PSV       | 84        | \n",
       "| Ajax      | 82        | \n",
       "| Feyenoord | 63        | \n",
       "\n",
       "\n"
      ],
      "text/plain": [
       "  Eredivisie 2015/2016 X__1  \n",
       "1 NA                   NA    \n",
       "2 NA                   NA    \n",
       "3 Club                 Points\n",
       "4 PSV                  84    \n",
       "5 Ajax                 82    \n",
       "6 Feyenoord            63    "
      ]
     },
     "metadata": {},
     "output_type": "display_data"
    }
   ],
   "source": [
    "football_points <-read_xlsx(\"../Sourcedata/football.xlsx\")\n",
    "head(football_points)\n"
   ]
  },
  {
   "cell_type": "markdown",
   "metadata": {},
   "source": [
    "Looking at the data, we see that the _Excel_ sheet is read in to a dataframe including empty rows and a name that is not necessary. We can repair this using the package `dplyr` (which we will use later in the course), but we can also use the command `skip()`. In this case we do not want to read the first 3 rows into our dataframe."
   ]
  },
  {
   "cell_type": "code",
   "execution_count": 11,
   "metadata": {
    "collapsed": false
   },
   "outputs": [
    {
     "data": {
      "text/html": [
       "<table>\n",
       "<thead><tr><th scope=col>Club</th><th scope=col>Points</th></tr></thead>\n",
       "<tbody>\n",
       "\t<tr><td>PSV      </td><td>84       </td></tr>\n",
       "\t<tr><td>Ajax     </td><td>82       </td></tr>\n",
       "\t<tr><td>Feyenoord</td><td>63       </td></tr>\n",
       "\t<tr><td>AZ       </td><td>59       </td></tr>\n",
       "\t<tr><td>Utrecht  </td><td>53       </td></tr>\n",
       "\t<tr><td>Heracles </td><td>51       </td></tr>\n",
       "</tbody>\n",
       "</table>\n"
      ],
      "text/latex": [
       "\\begin{tabular}{r|ll}\n",
       " Club & Points\\\\\n",
       "\\hline\n",
       "\t PSV       & 84       \\\\\n",
       "\t Ajax      & 82       \\\\\n",
       "\t Feyenoord & 63       \\\\\n",
       "\t AZ        & 59       \\\\\n",
       "\t Utrecht   & 53       \\\\\n",
       "\t Heracles  & 51       \\\\\n",
       "\\end{tabular}\n"
      ],
      "text/markdown": [
       "\n",
       "Club | Points | \n",
       "|---|---|---|---|---|---|\n",
       "| PSV       | 84        | \n",
       "| Ajax      | 82        | \n",
       "| Feyenoord | 63        | \n",
       "| AZ        | 59        | \n",
       "| Utrecht   | 53        | \n",
       "| Heracles  | 51        | \n",
       "\n",
       "\n"
      ],
      "text/plain": [
       "  Club      Points\n",
       "1 PSV       84    \n",
       "2 Ajax      82    \n",
       "3 Feyenoord 63    \n",
       "4 AZ        59    \n",
       "5 Utrecht   53    \n",
       "6 Heracles  51    "
      ]
     },
     "metadata": {},
     "output_type": "display_data"
    }
   ],
   "source": [
    "football_points1 <-read_xlsx(\"../Sourcedata/football.xlsx\", skip = 3)\n",
    "head(football_points1)"
   ]
  },
  {
   "cell_type": "markdown",
   "metadata": {},
   "source": [
    "## Read separate sheets\n",
    "\n",
    "If you have opened the _Excel_ sheet, you might have noticed that it has two worksheets. We only read the first sheet, but we can also read the second worksheet:"
   ]
  },
  {
   "cell_type": "code",
   "execution_count": 12,
   "metadata": {
    "collapsed": false
   },
   "outputs": [
    {
     "data": {
      "text/html": [
       "<table>\n",
       "<thead><tr><th scope=col>Club</th><th scope=col>Budget</th></tr></thead>\n",
       "<tbody>\n",
       "\t<tr><td>PSV      </td><td>63       </td></tr>\n",
       "\t<tr><td>Ajax     </td><td>65       </td></tr>\n",
       "\t<tr><td>Feyenoord</td><td>50       </td></tr>\n",
       "\t<tr><td>AZ       </td><td>28       </td></tr>\n",
       "\t<tr><td>Utrecht  </td><td>17       </td></tr>\n",
       "\t<tr><td>Heracles </td><td>10       </td></tr>\n",
       "</tbody>\n",
       "</table>\n"
      ],
      "text/latex": [
       "\\begin{tabular}{r|ll}\n",
       " Club & Budget\\\\\n",
       "\\hline\n",
       "\t PSV       & 63       \\\\\n",
       "\t Ajax      & 65       \\\\\n",
       "\t Feyenoord & 50       \\\\\n",
       "\t AZ        & 28       \\\\\n",
       "\t Utrecht   & 17       \\\\\n",
       "\t Heracles  & 10       \\\\\n",
       "\\end{tabular}\n"
      ],
      "text/markdown": [
       "\n",
       "Club | Budget | \n",
       "|---|---|---|---|---|---|\n",
       "| PSV       | 63        | \n",
       "| Ajax      | 65        | \n",
       "| Feyenoord | 50        | \n",
       "| AZ        | 28        | \n",
       "| Utrecht   | 17        | \n",
       "| Heracles  | 10        | \n",
       "\n",
       "\n"
      ],
      "text/plain": [
       "  Club      Budget\n",
       "1 PSV       63    \n",
       "2 Ajax      65    \n",
       "3 Feyenoord 50    \n",
       "4 AZ        28    \n",
       "5 Utrecht   17    \n",
       "6 Heracles  10    "
      ]
     },
     "metadata": {},
     "output_type": "display_data"
    }
   ],
   "source": [
    "football_budget <-read_xlsx(\"../Sourcedata/football.xlsx\", sheet = \"Budgets\", skip = 3)\n",
    "head(football_budget)"
   ]
  },
  {
   "cell_type": "markdown",
   "metadata": {},
   "source": [
    "Note: instead of `sheet = \"Budgets\"`, we could have used `sheet = 2`\n"
   ]
  },
  {
   "cell_type": "code",
   "execution_count": 13,
   "metadata": {
    "collapsed": false
   },
   "outputs": [
    {
     "data": {
      "text/html": [
       "<table>\n",
       "<thead><tr><th scope=col>Club</th><th scope=col>Budget</th></tr></thead>\n",
       "<tbody>\n",
       "\t<tr><td>PSV      </td><td>63       </td></tr>\n",
       "\t<tr><td>Ajax     </td><td>65       </td></tr>\n",
       "\t<tr><td>Feyenoord</td><td>50       </td></tr>\n",
       "\t<tr><td>AZ       </td><td>28       </td></tr>\n",
       "\t<tr><td>Utrecht  </td><td>17       </td></tr>\n",
       "\t<tr><td>Heracles </td><td>10       </td></tr>\n",
       "</tbody>\n",
       "</table>\n"
      ],
      "text/latex": [
       "\\begin{tabular}{r|ll}\n",
       " Club & Budget\\\\\n",
       "\\hline\n",
       "\t PSV       & 63       \\\\\n",
       "\t Ajax      & 65       \\\\\n",
       "\t Feyenoord & 50       \\\\\n",
       "\t AZ        & 28       \\\\\n",
       "\t Utrecht   & 17       \\\\\n",
       "\t Heracles  & 10       \\\\\n",
       "\\end{tabular}\n"
      ],
      "text/markdown": [
       "\n",
       "Club | Budget | \n",
       "|---|---|---|---|---|---|\n",
       "| PSV       | 63        | \n",
       "| Ajax      | 65        | \n",
       "| Feyenoord | 50        | \n",
       "| AZ        | 28        | \n",
       "| Utrecht   | 17        | \n",
       "| Heracles  | 10        | \n",
       "\n",
       "\n"
      ],
      "text/plain": [
       "  Club      Budget\n",
       "1 PSV       63    \n",
       "2 Ajax      65    \n",
       "3 Feyenoord 50    \n",
       "4 AZ        28    \n",
       "5 Utrecht   17    \n",
       "6 Heracles  10    "
      ]
     },
     "metadata": {},
     "output_type": "display_data"
    }
   ],
   "source": [
    "football_budget1 <-read_xlsx(\"../Sourcedata/football.xlsx\", sheet = 2, skip = 3)\n",
    "head(football_budget1)"
   ]
  },
  {
   "cell_type": "markdown",
   "metadata": {},
   "source": [
    "Later today, we will show you how to merge the two data frames.\n",
    "\n",
    "# Writing data\n",
    "\n",
    "It is possible to write a dataframe as a _csv_ file by using the command `write.csv2()`. This is not often needed, because all the data editing is reproducible within the script. But sometimes you may want to write your dataframe as a _csv_ file and you can do that with:"
   ]
  },
  {
   "cell_type": "code",
   "execution_count": 14,
   "metadata": {
    "collapsed": false
   },
   "outputs": [],
   "source": [
    "write.csv2(football, file = \"../Output/Myfootballdata.csv\")"
   ]
  },
  {
   "cell_type": "markdown",
   "metadata": {
    "collapsed": true
   },
   "source": [
    "Note that we write the file to the _Output_ directory as previously recommended.\n",
    "\n",
    "# The structure of the dataset\n",
    "\n",
    "In `R`, there are only a few common types of data:\n",
    "\n",
    "* `character` (strings)\n",
    "* `numeric` (real numbers)\n",
    "* `integer` (integer numbers)\n",
    "* `complex` (complexe numbers, e.g. 2+3i, not often used)\n",
    "* `logical` (binary `TRUE` / `FALSE` and `NA`)\n",
    "* `factors` (categorical data: e.g. _male_, _female_)\n",
    "\n",
    "And with the command `str(name_dataframe)` you will get the structure of your dataframe\n"
   ]
  },
  {
   "cell_type": "code",
   "execution_count": 15,
   "metadata": {
    "collapsed": false
   },
   "outputs": [
    {
     "name": "stdout",
     "output_type": "stream",
     "text": [
      "'data.frame':\t18 obs. of  3 variables:\n",
      " $ Club  : Factor w/ 18 levels \"ADO\",\"Ajax\",\"AZ\",..: 1 2 3 4 5 6 7 8 9 10 ...\n",
      " $ Points: int  43 82 59 18 23 30 63 50 42 51 ...\n",
      " $ Budget: int  13 65 28 7 7 5 50 22 22 10 ...\n"
     ]
    }
   ],
   "source": [
    "str(football)"
   ]
  },
  {
   "cell_type": "markdown",
   "metadata": {},
   "source": [
    "In this example we see that the variable \"Club\" is a factor and the variables \"Points\" and \"Budgets\" are integers.\n",
    "\n",
    "\n",
    "## Change the structure of your dataframe\n",
    "\n",
    "We can change the nature of the variables in several ways. Here we will show you a simple way (later we learn how to do this using the package `dplyr` (which is part of the larger package `tidyverse`)).\n",
    "\n",
    "Suppose you want to change the variable _Club_ in to a string of characters and"
   ]
  },
  {
   "cell_type": "code",
   "execution_count": 17,
   "metadata": {
    "collapsed": true
   },
   "outputs": [],
   "source": [
    "football$Club <- as.character(football$Club)"
   ]
  },
  {
   "cell_type": "markdown",
   "metadata": {},
   "source": [
    "change the variable _Points_ into a new variable \"Points_numeric\" which is a numeric vector:"
   ]
  },
  {
   "cell_type": "code",
   "execution_count": 19,
   "metadata": {
    "collapsed": true
   },
   "outputs": [],
   "source": [
    "football$Points_numeric <- as.numeric(football$Points)"
   ]
  },
  {
   "cell_type": "markdown",
   "metadata": {},
   "source": [
    "We can now check we our commands worked:"
   ]
  },
  {
   "cell_type": "code",
   "execution_count": 17,
   "metadata": {
    "collapsed": false
   },
   "outputs": [
    {
     "name": "stdout",
     "output_type": "stream",
     "text": [
      "'data.frame':\t18 obs. of  4 variables:\n",
      " $ Club          : chr  \"ADO\" \"Ajax\" \"AZ\" \"Cambuur\" ...\n",
      " $ Points        : int  43 82 59 18 23 30 63 50 42 51 ...\n",
      " $ Budget        : int  13 65 28 7 7 5 50 22 22 10 ...\n",
      " $ Points_numeric: num  43 82 59 18 23 30 63 50 42 51 ...\n"
     ]
    }
   ],
   "source": [
    "str(football)"
   ]
  },
  {
   "cell_type": "markdown",
   "metadata": {},
   "source": [
    "You can now change the structure of all variables. There is one **Warning**:\n",
    "\n",
    "### Change factors into numerics\n",
    "\n",
    "You cannot change a vector of \"factors\" directly into a vector of \"numerics\", because \"factors\" are levels. \n",
    "As an illustration we create a vector called \"variable_factor\" with levels 3 and 4.\n"
   ]
  },
  {
   "cell_type": "code",
   "execution_count": 18,
   "metadata": {
    "collapsed": true
   },
   "outputs": [],
   "source": [
    "variable_factor <- as.factor(c(3,3,3,3,3,4,4,4))"
   ]
  },
  {
   "cell_type": "markdown",
   "metadata": {},
   "source": [
    "To check if our commands were succesfull:"
   ]
  },
  {
   "cell_type": "code",
   "execution_count": 20,
   "metadata": {
    "collapsed": false
   },
   "outputs": [
    {
     "name": "stdout",
     "output_type": "stream",
     "text": [
      "'data.frame':\t18 obs. of  4 variables:\n",
      " $ Club          : chr  \"ADO\" \"Ajax\" \"AZ\" \"Cambuur\" ...\n",
      " $ Points        : int  43 82 59 18 23 30 63 50 42 51 ...\n",
      " $ Budget        : int  13 65 28 7 7 5 50 22 22 10 ...\n",
      " $ Points_numeric: num  43 82 59 18 23 30 63 50 42 51 ...\n"
     ]
    }
   ],
   "source": [
    "str(football)"
   ]
  },
  {
   "cell_type": "markdown",
   "metadata": {},
   "source": [
    "You can now change the structure of all variables. There is one **Warning** however:\n",
    "\n",
    "### Change factors into numerics\n",
    "\n",
    "You cannot change a vector of `factors` directly into a vector of `numerics`, because `factors` internally use levels.  As an illustration we create a vector called _variable_factor_ with levels 3 and 4."
   ]
  },
  {
   "cell_type": "code",
   "execution_count": 21,
   "metadata": {
    "collapsed": false
   },
   "outputs": [],
   "source": [
    "variable_factor <- as.factor(c(3,3,3,3,3,4,4,4))"
   ]
  },
  {
   "cell_type": "markdown",
   "metadata": {},
   "source": [
    "We can check the structure by the command `str()`"
   ]
  },
  {
   "cell_type": "code",
   "execution_count": 22,
   "metadata": {
    "collapsed": false
   },
   "outputs": [
    {
     "name": "stdout",
     "output_type": "stream",
     "text": [
      " Factor w/ 2 levels \"3\",\"4\": 1 1 1 1 1 2 2 2\n"
     ]
    }
   ],
   "source": [
    "str(variable_factor)"
   ]
  },
  {
   "cell_type": "markdown",
   "metadata": {},
   "source": [
    "We will now directly change this factor in to a numerical vector (\"variable_nume\") and see what happens:"
   ]
  },
  {
   "cell_type": "code",
   "execution_count": 23,
   "metadata": {
    "collapsed": false
   },
   "outputs": [
    {
     "data": {
      "text/html": [
       "<ol class=list-inline>\n",
       "\t<li>1</li>\n",
       "\t<li>1</li>\n",
       "\t<li>1</li>\n",
       "\t<li>1</li>\n",
       "\t<li>1</li>\n",
       "\t<li>2</li>\n",
       "\t<li>2</li>\n",
       "\t<li>2</li>\n",
       "</ol>\n"
      ],
      "text/latex": [
       "\\begin{enumerate*}\n",
       "\\item 1\n",
       "\\item 1\n",
       "\\item 1\n",
       "\\item 1\n",
       "\\item 1\n",
       "\\item 2\n",
       "\\item 2\n",
       "\\item 2\n",
       "\\end{enumerate*}\n"
      ],
      "text/markdown": [
       "1. 1\n",
       "2. 1\n",
       "3. 1\n",
       "4. 1\n",
       "5. 1\n",
       "6. 2\n",
       "7. 2\n",
       "8. 2\n",
       "\n",
       "\n"
      ],
      "text/plain": [
       "[1] 1 1 1 1 1 2 2 2"
      ]
     },
     "metadata": {},
     "output_type": "display_data"
    }
   ],
   "source": [
    "variable_numeric_wrong <- as.numeric(variable_factor)\n",
    "variable_numeric_wrong"
   ]
  },
  {
   "cell_type": "markdown",
   "metadata": {},
   "source": [
    "R returns a vector of 1's and 2's, because a vector of factor is not a vector of numbers, but a vector with _levels_. To do this correctly we need to change the factor into a _character_ vector first and then into a _numeric_ vector:"
   ]
  },
  {
   "cell_type": "code",
   "execution_count": 24,
   "metadata": {
    "collapsed": false
   },
   "outputs": [
    {
     "data": {
      "text/html": [
       "<ol class=list-inline>\n",
       "\t<li>3</li>\n",
       "\t<li>3</li>\n",
       "\t<li>3</li>\n",
       "\t<li>3</li>\n",
       "\t<li>3</li>\n",
       "\t<li>4</li>\n",
       "\t<li>4</li>\n",
       "\t<li>4</li>\n",
       "</ol>\n"
      ],
      "text/latex": [
       "\\begin{enumerate*}\n",
       "\\item 3\n",
       "\\item 3\n",
       "\\item 3\n",
       "\\item 3\n",
       "\\item 3\n",
       "\\item 4\n",
       "\\item 4\n",
       "\\item 4\n",
       "\\end{enumerate*}\n"
      ],
      "text/markdown": [
       "1. 3\n",
       "2. 3\n",
       "3. 3\n",
       "4. 3\n",
       "5. 3\n",
       "6. 4\n",
       "7. 4\n",
       "8. 4\n",
       "\n",
       "\n"
      ],
      "text/plain": [
       "[1] 3 3 3 3 3 4 4 4"
      ]
     },
     "metadata": {},
     "output_type": "display_data"
    }
   ],
   "source": [
    "variable_numeric <- as.numeric(as.character(variable_factor))\n",
    "variable_numeric"
   ]
  },
  {
   "cell_type": "markdown",
   "metadata": {},
   "source": [
    "End of notebook"
   ]
  }
 ],
 "metadata": {
  "anaconda-cloud": {},
  "kernelspec": {
   "display_name": "R",
   "language": "R",
   "name": "ir"
  },
  "language_info": {
   "codemirror_mode": "r",
   "file_extension": ".r",
   "mimetype": "text/x-r-source",
   "name": "R",
   "pygments_lexer": "r",
   "version": "3.3.2"
  }
 },
 "nbformat": 4,
 "nbformat_minor": 1
}
