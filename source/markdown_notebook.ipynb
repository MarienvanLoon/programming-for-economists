{
 "cells": [
  {
   "cell_type": "markdown",
   "metadata": {},
   "source": [
    "# Markdown\n",
    "\n",
    "By pressing the `ESC` key and `m`, you turn a python cell into a markdown cell. Press `ENTER` and start typing.\n",
    "\n",
    "By pressing `SHIFT` and `ENTER` at the same time, you evaluate a cell and the markdown will be typeset."
   ]
  },
  {
   "cell_type": "markdown",
   "metadata": {},
   "source": [
    "The markdown syntax is quite simple. Use \"#\" as a heading (see the cell above). Then \"##\" is a subheading, like this:\n",
    "\n",
    "<a name=\"subheading\"></a> \n",
    "\n",
    "## subheading\n",
    "\n",
    "Note that in markdown, we have added a marker above the `## subheading`. Below we will refer to this marker so that we can navigate in the file.\n",
    "\n",
    "The best way to learn markdown is to look at this file as jupyter notebook, double click on a cell to see what markdown sytax we used to create the effect. \n",
    "\n",
    "If you want more than we do here, simply use google. Say you want to have a youtube video in your notebook. Then google \"markdown youtube video\". We will give you the solution below.\n",
    "\n"
   ]
  },
  {
   "cell_type": "markdown",
   "metadata": {},
   "source": [
    "If you want to type equations, use [latex](https://www.latex-project.org/). You do not need to install latex for use in the notebooks.\n",
    "\n",
    "Using latex, you can type equations like this:\n",
    "\n",
    "\\begin{equation}\n",
    "a^2+b^2=c^2\n",
    "\\end{equation}\n",
    "\n",
    "Or you can have the variable $x$ typed in math in line."
   ]
  },
  {
   "cell_type": "markdown",
   "metadata": {},
   "source": [
    "You can do greek letters, like $\\alpha, \\beta, \\gamma$.\n",
    "\n",
    "If you need a certain symbol, google \"latex emptyset\" to find: $\\emptyset$."
   ]
  },
  {
   "cell_type": "markdown",
   "metadata": {},
   "source": [
    "You can include a link --like the latex link above-- with the syntax `[description of link](actual link with http:// etc)`"
   ]
  },
  {
   "cell_type": "markdown",
   "metadata": {},
   "source": [
    "[This webpage](https://github.com/adam-p/markdown-here/wiki/Markdown-Cheatsheet) gives an overview of the syntax you can use in markdown."
   ]
  },
  {
   "cell_type": "markdown",
   "metadata": {},
   "source": [
    "You can add images to your notebook, like this:\n",
    "\n",
    "![alt text](https://i.ytimg.com/vi/Xg8M-8BqTGs/maxresdefault.jpg \"Fun with Dr. Who\")\n"
   ]
  },
  {
   "cell_type": "markdown",
   "metadata": {},
   "source": [
    "Or a bit more seriously (where we use the \"html magic\" of the jupyter notebook). No need to worry about this if you find this difficult. It is just to show that the possibilities are endless with the notebook. If something cannot be done in markdown, you can always look for a solution in html."
   ]
  },
  {
   "cell_type": "code",
   "execution_count": 7,
   "metadata": {
    "collapsed": false
   },
   "outputs": [
    {
     "data": {
      "text/html": [
       "\n",
       "<iframe src=\"https://plot.ly/~janboone/56.embed\"\n",
       "        height=\"600\" width=\"100%\"\n",
       "        scrolling=\"no\" seamless=\"seamless\"\n",
       "        frameBorder=\"0\">\n",
       "</iframe>"
      ],
      "text/plain": [
       "<IPython.core.display.HTML object>"
      ]
     },
     "metadata": {},
     "output_type": "display_data"
    }
   ],
   "source": [
    "%%html\n",
    "\n",
    "<iframe src=\"https://plot.ly/~janboone/56.embed\"\n",
    "        height=\"600\" width=\"100%\"\n",
    "        scrolling=\"no\" seamless=\"seamless\"\n",
    "        frameBorder=\"0\">\n",
    "</iframe>"
   ]
  },
  {
   "cell_type": "markdown",
   "metadata": {},
   "source": [
    "This figure is interactive. Click on lines in the legend to make lines disappear or appear again. Hovering with the cursor over the lines gives additional information."
   ]
  },
  {
   "cell_type": "markdown",
   "metadata": {},
   "source": [
    "Tables work as well:\n",
    "\n",
    "| Tables        | Are           | Cool  |\n",
    "| ------------- |:-------------:| -----:|\n",
    "| col 3 is      | right-aligned |  1600 |\n",
    "| col 2 is      | centered      |    12 |\n",
    "| zebra stripes | are neat      |     1 |"
   ]
  },
  {
   "cell_type": "markdown",
   "metadata": {},
   "source": [
    "As promised, we would give you [a link to the subheading](#subheading) above."
   ]
  },
  {
   "cell_type": "markdown",
   "metadata": {},
   "source": [
    "If you googled \"markdown youtube\", you will have found that it is not possible to have a youtube video in your notebook. But we can get close. If you click on the image, you can enjoy the video.\n",
    "\n",
    "\n",
    "[![IMAGE ALT TEXT HERE](http://img.youtube.com/vi/3p4MZJsexEs/0.jpg)](http://www.youtube.com/watch?v=3p4MZJsexEs)"
   ]
  },
  {
   "cell_type": "code",
   "execution_count": null,
   "metadata": {
    "collapsed": true
   },
   "outputs": [],
   "source": []
  }
 ],
 "metadata": {
  "anaconda-cloud": {},
  "kernelspec": {
   "display_name": "Python 3",
   "language": "python",
   "name": "python3"
  },
  "language_info": {
   "codemirror_mode": {
    "name": "ipython",
    "version": 3
   },
   "file_extension": ".py",
   "mimetype": "text/x-python",
   "name": "python",
   "nbconvert_exporter": "python",
   "pygments_lexer": "ipython3",
   "version": "3.5.1"
  }
 },
 "nbformat": 4,
 "nbformat_minor": 0
}
