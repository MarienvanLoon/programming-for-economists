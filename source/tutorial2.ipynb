{
 "cells": [
  {
   "cell_type": "markdown",
   "metadata": {
    "collapsed": true
   },
   "source": [
    "# A small introduction to R"
   ]
  },
  {
   "cell_type": "markdown",
   "metadata": {},
   "source": [
    "## Installation of R packages\n",
    "\n",
    "R is open source statistical software. Many people contribute to R by publishing packages which can be used by data analists. In this course we will use the packages dplyr and tdyr for data manipulation and ggplot2 for data visualisation. These packages are written by Hadley Wickam. Check his [homepage](http://hadley.nz/) for more packages.\n",
    "\n"
   ]
  },
  {
   "cell_type": "markdown",
   "metadata": {},
   "source": [
    "But there are many more very useful packages. If you want to analyse something, for search for packages. E.g. for panel data analysis, you could use the package \"plm\".\n",
    "\n",
    "To install a package, simply type:\n",
    "\n",
    "install.packages(\"package name\")\n",
    "\n"
   ]
  },
  {
   "cell_type": "code",
   "execution_count": 4,
   "metadata": {
    "collapsed": false
   },
   "outputs": [
    {
     "name": "stderr",
     "output_type": "stream",
     "text": [
      "Installing package into 'C:/Users/mcmik/Documents/R/win-library/3.3'\n",
      "(as 'lib' is unspecified)\n"
     ]
    },
    {
     "ename": "ERROR",
     "evalue": "Error in contrib.url(repos, \"source\"): trying to use CRAN without setting a mirror\n",
     "output_type": "error",
     "traceback": [
      "Error in contrib.url(repos, \"source\"): trying to use CRAN without setting a mirror\nTraceback:\n",
      "1. install.packages(\"plm\")",
      "2. contrib.url(repos, \"source\")",
      "3. stop(\"trying to use CRAN without setting a mirror\")"
     ]
    }
   ],
   "source": [
    "install.packages(\"plm\")"
   ]
  },
  {
   "cell_type": "markdown",
   "metadata": {},
   "source": [
    "## Basic computations\n",
    "\n",
    "R can be used as a calculator.\n"
   ]
  },
  {
   "cell_type": "code",
   "execution_count": 13,
   "metadata": {
    "collapsed": false
   },
   "outputs": [
    {
     "data": {
      "text/html": [
       "11"
      ],
      "text/latex": [
       "11"
      ],
      "text/markdown": [
       "11"
      ],
      "text/plain": [
       "[1] 11"
      ]
     },
     "metadata": {},
     "output_type": "display_data"
    }
   ],
   "source": [
    "3+8"
   ]
  },
  {
   "cell_type": "code",
   "execution_count": 14,
   "metadata": {
    "collapsed": false
   },
   "outputs": [
    {
     "data": {
      "text/html": [
       "4.60517018598809"
      ],
      "text/latex": [
       "4.60517018598809"
      ],
      "text/markdown": [
       "4.60517018598809"
      ],
      "text/plain": [
       "[1] 4.60517"
      ]
     },
     "metadata": {},
     "output_type": "display_data"
    }
   ],
   "source": [
    "log(100)"
   ]
  },
  {
   "cell_type": "markdown",
   "metadata": {},
   "source": [
    "If you need irrational numbers (irrational number is a real number that cannot be expressed as a ratio of integers, i.e. as a fraction) such as $\\pi$ and Eulers number $e$, you could write \"pi\" and \"exp(1)\".\n"
   ]
  },
  {
   "cell_type": "code",
   "execution_count": 15,
   "metadata": {
    "collapsed": false
   },
   "outputs": [
    {
     "data": {
      "text/html": [
       "2.71828182845905"
      ],
      "text/latex": [
       "2.71828182845905"
      ],
      "text/markdown": [
       "2.71828182845905"
      ],
      "text/plain": [
       "[1] 2.718282"
      ]
     },
     "metadata": {},
     "output_type": "display_data"
    }
   ],
   "source": [
    "exp(1)"
   ]
  },
  {
   "cell_type": "code",
   "execution_count": 12,
   "metadata": {
    "collapsed": false
   },
   "outputs": [
    {
     "data": {
      "text/html": [
       "3.14159265358979"
      ],
      "text/latex": [
       "3.14159265358979"
      ],
      "text/markdown": [
       "3.14159265358979"
      ],
      "text/plain": [
       "[1] 3.141593"
      ]
     },
     "metadata": {},
     "output_type": "display_data"
    }
   ],
   "source": [
    "pi"
   ]
  },
  {
   "cell_type": "markdown",
   "metadata": {},
   "source": [
    "It is possible to create new variables with the \"<-\":"
   ]
  },
  {
   "cell_type": "code",
   "execution_count": 20,
   "metadata": {
    "collapsed": false
   },
   "outputs": [],
   "source": [
    "x <-exp(1) + pi"
   ]
  },
  {
   "cell_type": "markdown",
   "metadata": {},
   "source": [
    "To get the answer, type x."
   ]
  },
  {
   "cell_type": "code",
   "execution_count": 21,
   "metadata": {
    "collapsed": false
   },
   "outputs": [
    {
     "data": {
      "text/html": [
       "5.85987448204884"
      ],
      "text/latex": [
       "5.85987448204884"
      ],
      "text/markdown": [
       "5.85987448204884"
      ],
      "text/plain": [
       "[1] 5.859874"
      ]
     },
     "metadata": {},
     "output_type": "display_data"
    }
   ],
   "source": [
    "x"
   ]
  },
  {
   "cell_type": "markdown",
   "metadata": {},
   "source": [
    "It is even possible to work with complex numbers"
   ]
  },
  {
   "cell_type": "code",
   "execution_count": 27,
   "metadata": {
    "collapsed": true
   },
   "outputs": [],
   "source": [
    "x <- 2\n",
    "y <- 5\n",
    " \n",
    "z <- complex(real = x, imaginary = y)"
   ]
  },
  {
   "cell_type": "code",
   "execution_count": 26,
   "metadata": {
    "collapsed": false
   },
   "outputs": [
    {
     "data": {
      "text/html": [
       "2+5i"
      ],
      "text/latex": [
       "2+5i"
      ],
      "text/markdown": [
       "2+5i"
      ],
      "text/plain": [
       "[1] 2+5i"
      ]
     },
     "metadata": {},
     "output_type": "display_data"
    }
   ],
   "source": [
    "z"
   ]
  },
  {
   "cell_type": "markdown",
   "metadata": {},
   "source": [
    "## Data\n",
    "\n",
    "R has 5 types of data:\n",
    "\n",
    "1. Character\n",
    "2. Numeric (Real Numbers)\n",
    "3. Integer (Whole Numbers)\n",
    "4. Complex\n",
    "5. Logical (True / False)\n",
    "\n",
    "It is possible to convert one data type into another.\n"
   ]
  },
  {
   "cell_type": "markdown",
   "metadata": {},
   "source": [
    "For example, we can create a vector: \n",
    "\n"
   ]
  },
  {
   "cell_type": "code",
   "execution_count": null,
   "metadata": {
    "collapsed": true
   },
   "outputs": [],
   "source": [
    "a <- c(1,2,3,4,5)"
   ]
  },
  {
   "cell_type": "markdown",
   "metadata": {},
   "source": [
    "We can check if the vector is numeric, by "
   ]
  },
  {
   "cell_type": "code",
   "execution_count": 31,
   "metadata": {
    "collapsed": false
   },
   "outputs": [
    {
     "name": "stdout",
     "output_type": "stream",
     "text": [
      " num [1:5] 1 2 3 4 5\n"
     ]
    }
   ],
   "source": [
    "str(a)"
   ]
  },
  {
   "cell_type": "markdown",
   "metadata": {},
   "source": [
    "Suppose we want to change this vector into list with characters. We can do that by"
   ]
  },
  {
   "cell_type": "code",
   "execution_count": 32,
   "metadata": {
    "collapsed": true
   },
   "outputs": [],
   "source": [
    "a <- as.character(a)"
   ]
  },
  {
   "cell_type": "markdown",
   "metadata": {},
   "source": [
    "Again we can check by"
   ]
  },
  {
   "cell_type": "code",
   "execution_count": 33,
   "metadata": {
    "collapsed": false
   },
   "outputs": [
    {
     "name": "stdout",
     "output_type": "stream",
     "text": [
      " chr [1:5] \"1\" \"2\" \"3\" \"4\" \"5\"\n"
     ]
    }
   ],
   "source": [
    "str(a)"
   ]
  },
  {
   "cell_type": "markdown",
   "metadata": {},
   "source": [
    "In this course we store data in \"Data frames\". Data frame is the most used method to store data in R. A dataframe looks like a matrix, with columns and rows. However, it is NOT a matrix. In a matrix, each element is of the same class. In the R dataframe, each column is a vector which can have its own class. E.g. the first column could contain characters (e.g. names) and a second column could contain a factor (e.g. gender) and the third column could contain a numeric variable (e.g. salary).\n",
    "\n",
    "It is possible to make your own dataframes, but normally you have to read in some dataset. R offers wide range of packages for importing data available in any format such as .xls, .txt, .csv, .json, .sql etc. It is also possible to read in data from programs like Stata en SPSS. Please google if you need to read in a specific data type. For now we concentrate on reading in a csv file."
   ]
  },
  {
   "cell_type": "markdown",
   "metadata": {},
   "source": [
    "We are going to read in some data about natural parks. This could be done with a hard coded path. This is not my preferred way. I would suggest to store your datafile and the notebook in the same directory. Then the following command will do:"
   ]
  },
  {
   "cell_type": "code",
   "execution_count": 49,
   "metadata": {
    "collapsed": false
   },
   "outputs": [],
   "source": [
    "NP <-read.csv2(\"NaturalPark.csv\")"
   ]
  },
  {
   "cell_type": "markdown",
   "metadata": {},
   "source": [
    "We can now look at the data by"
   ]
  },
  {
   "cell_type": "code",
   "execution_count": 50,
   "metadata": {
    "collapsed": false
   },
   "outputs": [
    {
     "data": {
      "text/html": [
       "<table>\n",
       "<thead><tr><th scope=col>X.bid1.bidh.bidl.answers.age.sex.income</th></tr></thead>\n",
       "<tbody>\n",
       "\t<tr><td>1,6,18,3, yy ,1, female ,2   </td></tr>\n",
       "\t<tr><td>2,48,120,24, yn ,2, male ,1  </td></tr>\n",
       "\t<tr><td>3,48,120,24, yn ,2, female ,3</td></tr>\n",
       "\t<tr><td>4,24,48,12, nn ,5, female ,1 </td></tr>\n",
       "\t<tr><td>5,24,48,12, ny ,6, female ,2 </td></tr>\n",
       "\t<tr><td>6,12,24,6, nn ,4, male ,2    </td></tr>\n",
       "</tbody>\n",
       "</table>\n"
      ],
      "text/latex": [
       "\\begin{tabular}{r|l}\n",
       " X.bid1.bidh.bidl.answers.age.sex.income\\\\\n",
       "\\hline\n",
       "\t 1,6,18,3, yy ,1, female ,2   \\\\\n",
       "\t 2,48,120,24, yn ,2, male ,1  \\\\\n",
       "\t 3,48,120,24, yn ,2, female ,3\\\\\n",
       "\t 4,24,48,12, nn ,5, female ,1 \\\\\n",
       "\t 5,24,48,12, ny ,6, female ,2 \\\\\n",
       "\t 6,12,24,6, nn ,4, male ,2    \\\\\n",
       "\\end{tabular}\n"
      ],
      "text/markdown": [
       "\n",
       "X.bid1.bidh.bidl.answers.age.sex.income | \n",
       "|---|---|---|---|---|---|\n",
       "| 1,6,18,3, yy ,1, female ,2    | \n",
       "| 2,48,120,24, yn ,2, male ,1   | \n",
       "| 3,48,120,24, yn ,2, female ,3 | \n",
       "| 4,24,48,12, nn ,5, female ,1  | \n",
       "| 5,24,48,12, ny ,6, female ,2  | \n",
       "| 6,12,24,6, nn ,4, male ,2     | \n",
       "\n",
       "\n"
      ],
      "text/plain": [
       "  X.bid1.bidh.bidl.answers.age.sex.income\n",
       "1 1,6,18,3, yy ,1, female ,2             \n",
       "2 2,48,120,24, yn ,2, male ,1            \n",
       "3 3,48,120,24, yn ,2, female ,3          \n",
       "4 4,24,48,12, nn ,5, female ,1           \n",
       "5 5,24,48,12, ny ,6, female ,2           \n",
       "6 6,12,24,6, nn ,4, male ,2              "
      ]
     },
     "metadata": {},
     "output_type": "display_data"
    }
   ],
   "source": [
    "head(NP)"
   ]
  },
  {
   "cell_type": "markdown",
   "metadata": {},
   "source": [
    "As you see, a strange thing has happened. This has something to do with the \"sign\" that seperates the data. In English versions of data, often a comma is used to separate the data. We can read the data again and see that:"
   ]
  },
  {
   "cell_type": "code",
   "execution_count": 53,
   "metadata": {
    "collapsed": false
   },
   "outputs": [
    {
     "data": {
      "text/html": [
       "<table>\n",
       "<thead><tr><th scope=col>X</th><th scope=col>bid1</th><th scope=col>bidh</th><th scope=col>bidl</th><th scope=col>answers</th><th scope=col>age</th><th scope=col>sex</th><th scope=col>income</th></tr></thead>\n",
       "<tbody>\n",
       "\t<tr><td>1       </td><td> 6      </td><td> 18     </td><td> 3      </td><td> yy     </td><td>1       </td><td> female </td><td>2       </td></tr>\n",
       "\t<tr><td>2       </td><td>48      </td><td>120     </td><td>24      </td><td> yn     </td><td>2       </td><td> male   </td><td>1       </td></tr>\n",
       "\t<tr><td>3       </td><td>48      </td><td>120     </td><td>24      </td><td> yn     </td><td>2       </td><td> female </td><td>3       </td></tr>\n",
       "\t<tr><td>4       </td><td>24      </td><td> 48     </td><td>12      </td><td> nn     </td><td>5       </td><td> female </td><td>1       </td></tr>\n",
       "\t<tr><td>5       </td><td>24      </td><td> 48     </td><td>12      </td><td> ny     </td><td>6       </td><td> female </td><td>2       </td></tr>\n",
       "\t<tr><td>6       </td><td>12      </td><td> 24     </td><td> 6      </td><td> nn     </td><td>4       </td><td> male   </td><td>2       </td></tr>\n",
       "</tbody>\n",
       "</table>\n"
      ],
      "text/latex": [
       "\\begin{tabular}{r|llllllll}\n",
       " X & bid1 & bidh & bidl & answers & age & sex & income\\\\\n",
       "\\hline\n",
       "\t 1        &  6       &  18      &  3       &  yy      & 1        &  female  & 2       \\\\\n",
       "\t 2        & 48       & 120      & 24       &  yn      & 2        &  male    & 1       \\\\\n",
       "\t 3        & 48       & 120      & 24       &  yn      & 2        &  female  & 3       \\\\\n",
       "\t 4        & 24       &  48      & 12       &  nn      & 5        &  female  & 1       \\\\\n",
       "\t 5        & 24       &  48      & 12       &  ny      & 6        &  female  & 2       \\\\\n",
       "\t 6        & 12       &  24      &  6       &  nn      & 4        &  male    & 2       \\\\\n",
       "\\end{tabular}\n"
      ],
      "text/markdown": [
       "\n",
       "X | bid1 | bidh | bidl | answers | age | sex | income | \n",
       "|---|---|---|---|---|---|\n",
       "| 1        |  6       |  18      |  3       |  yy      | 1        |  female  | 2        | \n",
       "| 2        | 48       | 120      | 24       |  yn      | 2        |  male    | 1        | \n",
       "| 3        | 48       | 120      | 24       |  yn      | 2        |  female  | 3        | \n",
       "| 4        | 24       |  48      | 12       |  nn      | 5        |  female  | 1        | \n",
       "| 5        | 24       |  48      | 12       |  ny      | 6        |  female  | 2        | \n",
       "| 6        | 12       |  24      |  6       |  nn      | 4        |  male    | 2        | \n",
       "\n",
       "\n"
      ],
      "text/plain": [
       "  X bid1 bidh bidl answers age sex      income\n",
       "1 1  6    18   3    yy     1    female  2     \n",
       "2 2 48   120  24    yn     2    male    1     \n",
       "3 3 48   120  24    yn     2    female  3     \n",
       "4 4 24    48  12    nn     5    female  1     \n",
       "5 5 24    48  12    ny     6    female  2     \n",
       "6 6 12    24   6    nn     4    male    2     "
      ]
     },
     "metadata": {},
     "output_type": "display_data"
    }
   ],
   "source": [
    "NP1 <- read.csv2( \"NaturalPark.csv\",  sep=\",\")\n",
    "head(NP1)"
   ]
  },
  {
   "cell_type": "markdown",
   "metadata": {},
   "source": [
    "Now we want to inspect the data. If you want the see the total dataframe you just type \"NP1\". For now, we are interested in the structure of the data."
   ]
  },
  {
   "cell_type": "code",
   "execution_count": 56,
   "metadata": {
    "collapsed": false,
    "scrolled": true
   },
   "outputs": [
    {
     "name": "stdout",
     "output_type": "stream",
     "text": [
      "'data.frame':\t312 obs. of  8 variables:\n",
      " $ X      : int  1 2 3 4 5 6 7 8 9 10 ...\n",
      " $ bid1   : int  6 48 48 24 24 12 6 12 24 6 ...\n",
      " $ bidh   : int  18 120 120 48 48 24 18 24 48 18 ...\n",
      " $ bidl   : int  3 24 24 12 12 6 3 6 12 3 ...\n",
      " $ answers: Factor w/ 4 levels \" nn \",\" ny \",..: 4 3 3 1 2 1 4 3 3 4 ...\n",
      " $ age    : int  1 2 2 5 6 4 2 3 2 3 ...\n",
      " $ sex    : Factor w/ 2 levels \" female \",\" male \": 1 2 1 1 1 2 1 2 1 2 ...\n",
      " $ income : int  2 1 3 1 2 2 3 2 2 3 ...\n"
     ]
    }
   ],
   "source": [
    "str(NP1)"
   ]
  },
  {
   "cell_type": "markdown",
   "metadata": {},
   "source": [
    "Now can see that some colums are characterized as int (integers) and 2 as factors (levels). We can change this. Suppose we want to make bid1 a numerical variable we can use the following command: ($ means column)"
   ]
  },
  {
   "cell_type": "code",
   "execution_count": 58,
   "metadata": {
    "collapsed": false
   },
   "outputs": [
    {
     "name": "stdout",
     "output_type": "stream",
     "text": [
      "'data.frame':\t312 obs. of  8 variables:\n",
      " $ X      : int  1 2 3 4 5 6 7 8 9 10 ...\n",
      " $ bid1   : num  6 48 48 24 24 12 6 12 24 6 ...\n",
      " $ bidh   : int  18 120 120 48 48 24 18 24 48 18 ...\n",
      " $ bidl   : int  3 24 24 12 12 6 3 6 12 3 ...\n",
      " $ answers: Factor w/ 4 levels \" nn \",\" ny \",..: 4 3 3 1 2 1 4 3 3 4 ...\n",
      " $ age    : int  1 2 2 5 6 4 2 3 2 3 ...\n",
      " $ sex    : Factor w/ 2 levels \" female \",\" male \": 1 2 1 1 1 2 1 2 1 2 ...\n",
      " $ income : int  2 1 3 1 2 2 3 2 2 3 ...\n"
     ]
    }
   ],
   "source": [
    "NP1$bid1 <-as.numeric(NP1$bid1)\n",
    "str(NP1)"
   ]
  },
  {
   "cell_type": "markdown",
   "metadata": {},
   "source": [
    "In the next lecture we will start to manipulate data."
   ]
  },
  {
   "cell_type": "code",
   "execution_count": null,
   "metadata": {
    "collapsed": true
   },
   "outputs": [],
   "source": []
  }
 ],
 "metadata": {
  "anaconda-cloud": {},
  "kernelspec": {
   "display_name": "R",
   "language": "R",
   "name": "ir"
  },
  "language_info": {
   "codemirror_mode": "r",
   "file_extension": ".r",
   "mimetype": "text/x-r-source",
   "name": "R",
   "pygments_lexer": "r",
   "version": "3.3.2"
  }
 },
 "nbformat": 4,
 "nbformat_minor": 1
}
